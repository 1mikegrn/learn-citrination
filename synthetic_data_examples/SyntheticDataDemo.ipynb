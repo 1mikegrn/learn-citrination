{
 "cells": [
  {
   "cell_type": "markdown",
   "metadata": {},
   "source": [
    "# Synthetic Data Demo\n",
    "\n",
    "*Authors: Carena Church, Enze Chen*\n",
    "\n",
    "In this demo, we are going to use synethic data instead of materials science data.  The point of the demo is to gain a better intuition of the data analytics available on Citrination."
   ]
  },
  {
   "cell_type": "markdown",
   "metadata": {},
   "source": [
    "## Imports"
   ]
  },
  {
   "cell_type": "code",
   "execution_count": 1,
   "metadata": {},
   "outputs": [],
   "source": [
    "import numpy as np\n",
    "import matplotlib.pyplot as plt\n",
    "%matplotlib inline"
   ]
  },
  {
   "cell_type": "markdown",
   "metadata": {},
   "source": [
    "## Step 1: Generate Synthetic Data\n",
    "\n",
    "In this case, we are going to generate data that has 4 clusters. There are four input columns in `x`. The output, `y`, has a different value for each cluster.  First, we will define two helper functions."
   ]
  },
  {
   "cell_type": "markdown",
   "metadata": {},
   "source": [
    "### `create_clusters`"
   ]
  },
  {
   "cell_type": "code",
   "execution_count": 2,
   "metadata": {},
   "outputs": [],
   "source": [
    "def create_clusters(num_points=1000, num_features=2):\n",
    "    \"\"\"\n",
    "    Create synthetic data with num_points total points and num_features input dimensionality.\n",
    "    The points are grouped into four Gaussian-distributed clusters.\n",
    "    \"\"\"\n",
    "    num_clusters = 4\n",
    "    X = np.zeros((1, num_features))\n",
    "    Y = np.zeros((1, 1))\n",
    "    for i in range(num_clusters):\n",
    "        x = np.random.randn(int(num_points/num_clusters), int(num_features))/6.0+i \n",
    "        X = np.vstack((X, x))\n",
    "        y = np.ones((int(num_points/num_clusters), 1))*i\n",
    "        Y = np.vstack((Y, y))\n",
    "    return X, Y"
   ]
  },
  {
   "cell_type": "markdown",
   "metadata": {},
   "source": [
    "### `write_cluster_csv`"
   ]
  },
  {
   "cell_type": "code",
   "execution_count": 3,
   "metadata": {},
   "outputs": [],
   "source": [
    "def write_cluster_csv(filename, x, y):\n",
    "    \"\"\"\n",
    "    Write the data to a csv file\n",
    "    \"\"\"\n",
    "    data = np.hstack((x, y))\n",
    "    num_features = x.shape[1]\n",
    "    #  Let's define the header for the csv:\n",
    "    str1 = \"\"\n",
    "    for i in range(num_features):\n",
    "        str1 += \"x\" + str(i) +\",\"\n",
    "    str1 += \"y\"\n",
    "    #  Then write the csv:\n",
    "    np.savetxt(filename, data, delimiter=',', header=str1, comments=\"\", fmt=\"%.5e\")"
   ]
  },
  {
   "cell_type": "markdown",
   "metadata": {},
   "source": [
    "Now we will call our two helper functions above and plot the data."
   ]
  },
  {
   "cell_type": "code",
   "execution_count": 4,
   "metadata": {},
   "outputs": [
    {
     "data": {
      "image/png": "[encoded data removed]",
      "text/plain": [
       "<Figure size 432x288 with 2 Axes>"
      ]
     },
     "metadata": {
      "needs_background": "light"
     },
     "output_type": "display_data"
    }
   ],
   "source": [
    "x, y = create_clusters(100, 4)\n",
    "write_cluster_csv(\"cluster_data.csv\", x, y)\n",
    "\n",
    "# Lets make a plot to see how our data looks:\n",
    "plt.scatter(x[:, 0], x[:, 1], c=y[:,0])\n",
    "plt.xlabel(\"x1\")\n",
    "plt.ylabel(\"x2\")\n",
    "plt.title(\"Clustered synthetic data set\")\n",
    "plt.colorbar()\n",
    "plt.show()"
   ]
  },
  {
   "cell_type": "markdown",
   "metadata": {},
   "source": [
    "## Step 2: Upload data\n",
    "\n",
    "I uploaded this data set (`cluster_data.csv`) on https://citrination.com/add_data, using the `CSV Ingester` from the dropdown menu.\n",
    "\n",
    "I specified that `x0`, `x1`, `x2`, `x3` and `y`are all properties and saved the data set here: https://citrination.com/datasets/151397."
   ]
  },
  {
   "cell_type": "markdown",
   "metadata": {},
   "source": [
    "## Step 3: Create a Data View\n",
    "\n",
    "- Click on the **Data View** tab, and create a new data view.  Use the cluster data set that you just created.\n",
    "- Include all columns (`x0`, `x1`, `x2`, `x3` and `y`)\n",
    "- Specify that `x0`, `x1`, `x2`, `x3` are inputs, and `y` is an output\n",
    "- Name and save your data view"
   ]
  },
  {
   "cell_type": "markdown",
   "metadata": {},
   "source": [
    "## Step 4: Data Analytics\n",
    "\n",
    "This view is instructive because we know where the data came from and how it was generated.\n",
    "- If you click on the Reports tab, then on Data Summary, you can see the correlations plot and the t-SNE plot.\n",
    "- The correlation plot shows the **Pearson correlation** between the inputs and the output `y`.\n",
    "- The correlation plot shows that, as expected, `y` is correlated equally with all the inputs.  \n",
    "- This plot is useful because it lets you know if your output is strongly related to any of your inputs.  One of its drawbacks is that it is designed to show *linear* correlations with *single* inputs, not non-linear relations with compositions of inputs."
   ]
  },
  {
   "cell_type": "markdown",
   "metadata": {},
   "source": [
    "![Correlation](correlation.png \"Correlation\")"
   ]
  },
  {
   "cell_type": "markdown",
   "metadata": {},
   "source": [
    "We can also see that the **t-SNE plot** shows four clusters.  \n",
    "- t-SNE is a dimensionality reduction method that is designed to preserve local distances.  In other words, points that are near each other before t-SNE should still be near each other when projected with t-SNE.  \n",
    "- t-SNE is useful for visualizing high-dimensional data.  As you can see, t-SNE preserves the cluster structure.  In general, it can be difficult to understand underlying relations in high-dimensional data.  t-SNE is one useful visualization technique for understanding if there are underlying clusters or structures in your data."
   ]
  },
  {
   "cell_type": "markdown",
   "metadata": {},
   "source": [
    "![t-SNE](tsne.png \"t-SNE\")"
   ]
  },
  {
   "cell_type": "markdown",
   "metadata": {},
   "source": [
    "- If we click on the Model Report tab, we can also see that all four inputs have more or less equal feature importance.  This feature importance is an indicator of how important each input was in building a model for the output.  \n",
    "- The feature importance can be a useful scientific tool in discovering how the output relates to the input.  If a feature has zero importance, it could mean that the output is independent of that input.  If a few features are much more important than other features, then these importance metrics can provide physical intuition.\n",
    "- In this case, the features all have equal importance because they were all treated equally when the synthetic data was generated. \n",
    "- We can also see that the model is able to very accurately predict the correct y value for this very structured data set."
   ]
  },
  {
   "cell_type": "markdown",
   "metadata": {},
   "source": [
    "![Results](results.png \"Results\")"
   ]
  },
  {
   "cell_type": "markdown",
   "metadata": {},
   "source": [
    "The final data view is available at:\n",
    "https://citrination.com/data_views/350/matrix_search?from=0."
   ]
  }
 ],
 "metadata": {
  "kernelspec": {
   "display_name": "Python 3",
   "language": "python",
   "name": "python3"
  },
  "language_info": {
   "codemirror_mode": {
    "name": "ipython",
    "version": 3
   },
   "file_extension": ".py",
   "mimetype": "text/x-python",
   "name": "python",
   "nbconvert_exporter": "python",
   "pygments_lexer": "ipython3",
   "version": "3.7.2"
  }
 },
 "nbformat": 4,
 "nbformat_minor": 2
}
