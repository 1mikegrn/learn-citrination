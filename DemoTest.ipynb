{
 "cells": [
  {
   "cell_type": "code",
   "execution_count": 1,
   "metadata": {
    "collapsed": true,
    "slideshow": {
     "slide_type": "skip"
    }
   },
   "outputs": [],
   "source": [
    "from citrination_client import CitrinationClient\n",
    "from os import environ\n",
    "client = CitrinationClient(environ['CITRINATION_API_KEY'], 'https://citrination.com')"
   ]
  },
  {
   "cell_type": "code",
   "execution_count": 2,
   "metadata": {
    "collapsed": true,
    "slideshow": {
     "slide_type": "skip"
    }
   },
   "outputs": [],
   "source": [
    "def enthalpy_of_formation(energy, n_Al, n_Cu, energy_Al, energy_Cu):\n",
    "    return (energy - n_Al * energy_Al - n_Cu * energy_Cu) / (n_Al + n_Cu)"
   ]
  },
  {
   "cell_type": "code",
   "execution_count": 3,
   "metadata": {
    "collapsed": true,
    "slideshow": {
     "slide_type": "skip"
    }
   },
   "outputs": [],
   "source": [
    "import re\n",
    "def get_stoich(AlCu_formula):\n",
    "    m = re.match(r\"Al([0-9]*)Cu([0-9]*)\", AlCu_formula)\n",
    "    if m is not None:\n",
    "        n_Al = float(m.group(1)) if len(m.group(1)) > 0 else 1\n",
    "        n_Cu = float(m.group(2)) if len(m.group(2)) > 0 else 1\n",
    "        return (n_Al, n_Cu)\n",
    "    m = re.match(r\"Cu([0-9]*)Al([0-9]*)\", AlCu_formula)\n",
    "    if m is not None:\n",
    "        n_Cu = float(m.group(1)) if len(m.group(1)) > 0 else 1\n",
    "        n_Al = float(m.group(2)) if len(m.group(2)) > 0 else 1\n",
    "        return (n_Al, n_Cu)\n",
    "    return (0, 0)"
   ]
  },
  {
   "cell_type": "markdown",
   "metadata": {
    "nbpresent": {
     "id": "f2f733dc-95c8-4751-a337-7bba7fcbe4d7"
    },
    "slideshow": {
     "slide_type": "slide"
    }
   },
   "source": [
    "# Advanced Queries\n",
    "\n",
    "Writing analysis and post-processing on top of PIFs lets us:\n",
    " 1. Pull in data from collaborators and published sources\n",
    " 1. Share our methodology with other researchers with data in PIFs"
   ]
  },
  {
   "cell_type": "markdown",
   "metadata": {
    "slideshow": {
     "slide_type": "fragment"
    }
   },
   "source": [
    "Let's actually do that!"
   ]
  },
  {
   "cell_type": "markdown",
   "metadata": {
    "slideshow": {
     "slide_type": "subslide"
    }
   },
   "source": [
    "## Real example: phase stability diagram\n",
    "\n",
    "There are surely more Al-Cu binaries on Citrination.  We will:\n",
    " 1. Find relevant data via the web interface\n",
    " 2. Filter the data programatically with the query\n",
    " 3. Extract the data using query extractions\n",
    " 4. Add the data to our plot from before"
   ]
  },
  {
   "cell_type": "markdown",
   "metadata": {
    "nbpresent": {
     "id": "c41a4f53-9a6a-435e-b554-90780aa20fcd"
    },
    "slideshow": {
     "slide_type": "slide"
    }
   },
   "source": [
    "## Search for relevant data\n",
    "\n",
    "The exploratory search is usually best done on the website.  Tips and tricks:\n",
    " * \"AlxCuy\" searches for any Al-Cu binary\n",
    " * \"energy\" searches for properties with \"energy\" in their name"
   ]
  },
  {
   "cell_type": "markdown",
   "metadata": {
    "slideshow": {
     "slide_type": "slide"
    }
   },
   "source": [
    "## Adding filters to the query\n",
    "\n",
    "Now that we are querying beyond just our data, we need to filter down to records that contain Al-Cu energies."
   ]
  },
  {
   "cell_type": "markdown",
   "metadata": {
    "slideshow": {
     "slide_type": "subslide"
    }
   },
   "source": [
    "### Filter by chemical formula"
   ]
  },
  {
   "cell_type": "code",
   "execution_count": 4,
   "metadata": {
    "slideshow": {
     "slide_type": "fragment"
    }
   },
   "outputs": [
    {
     "name": "stdout",
     "output_type": "stream",
     "text": [
      "Found 133 PIFs\n"
     ]
    }
   ],
   "source": [
    "from citrination_client import PifSystemReturningQuery, PifSystemQuery, FieldQuery, ValueQuery\n",
    "from citrination_client import PropertyQuery, DataQuery, DatasetQuery, ChemicalFieldQuery, ChemicalFilter, Filter\n",
    "\n",
    "\n",
    "query = PifSystemReturningQuery(\n",
    "            size=500,\n",
    "            query=DataQuery(\n",
    "                system=PifSystemQuery(\n",
    "                    chemical_formula=ChemicalFieldQuery(\n",
    "                        extract_as=\"formula\",\n",
    "                        filter=ChemicalFilter(equal='AlxCuy'),\n",
    "                    )\n",
    "                )\n",
    "            ))\n",
    "\n",
    "query_result = client.search(query)\n",
    "\n",
    "print(\"Found {} PIFs\".format(query_result.total_num_hits))"
   ]
  },
  {
   "cell_type": "markdown",
   "metadata": {
    "slideshow": {
     "slide_type": "subslide"
    }
   },
   "source": [
    "### Filter by property"
   ]
  },
  {
   "cell_type": "code",
   "execution_count": 5,
   "metadata": {
    "slideshow": {
     "slide_type": "fragment"
    }
   },
   "outputs": [
    {
     "name": "stdout",
     "output_type": "stream",
     "text": [
      "Found 16 PIFs\n"
     ]
    }
   ],
   "source": [
    "query = PifSystemReturningQuery(\n",
    "            size=500,\n",
    "            query=DataQuery(\n",
    "                system=PifSystemQuery(\n",
    "                    chemical_formula=ChemicalFieldQuery(\n",
    "                        extract_as=\"formula\",\n",
    "                        filter=ChemicalFilter(equal='AlxCuy'),\n",
    "                    ),\n",
    "                    properties=PropertyQuery(\n",
    "                        name=FieldQuery(\n",
    "                            filter=[Filter(equal=\"Formation energy\"), Filter(equal=\"Enthalpy of Formation\")]),\n",
    "                        value=FieldQuery(\n",
    "                            extract_as=\"formation_enthalpy\")\n",
    "                    )\n",
    "                )\n",
    "            ))\n",
    "\n",
    "query_result = client.search(query)\n",
    "print(\"Found {} PIFs\".format(query_result.total_num_hits))"
   ]
  },
  {
   "cell_type": "code",
   "execution_count": 6,
   "metadata": {
    "nbpresent": {
     "id": "45a1cd9a-989f-44e6-8753-79a4abcfbe28"
    },
    "slideshow": {
     "slide_type": "skip"
    }
   },
   "outputs": [
    {
     "name": "stdout",
     "output_type": "stream",
     "text": [
      "{\n",
      "  \"category\": \"system.chemical\",\n",
      "  \"references\": [\n",
      "    {\n",
      "      \"doi\": \"10.1016/j.commatsci.2012.02.002\"\n",
      "    },\n",
      "    {\n",
      "      \"doi\": \"10.1016/j.commatsci.2012.02.005\"\n",
      "    }\n",
      "  ],\n",
      "  \"uid\": \"5CA6B3488E258DB2E0A73ADDA2F97C4D\",\n",
      "  \"properties\": [\n",
      "    {\n",
      "      \"name\": \"Structure designation\",\n",
      "      \"scalars\": [\n",
      "        {\n",
      "          \"value\": \"CaF[2]\"\n",
      "        }\n",
      "      ]\n",
      "    },\n",
      "    {\n",
      "      \"name\": \"Formation energy\",\n",
      "      \"scalars\": [\n",
      "        {\n",
      "          \"value\": \"-0.1799\"\n",
      "        }\n",
      "      ],\n",
      "      \"units\": \"eV/atom\",\n",
      "      \"dataType\": \"COMPUTATIONAL\"\n",
      "    }\n",
      "  ],\n",
      "  \"chemicalFormula\": \"CuAl2\"\n",
      "}\n"
     ]
    }
   ],
   "source": [
    "from pypif.pif import dumps\n",
    "print(dumps(query_result.hits[1].system, indent=2))"
   ]
  },
  {
   "cell_type": "markdown",
   "metadata": {
    "slideshow": {
     "slide_type": "slide"
    }
   },
   "source": [
    "## Extract data from results using the query language\n",
    "\n",
    "Multiple sources typically use multiple internal formats.  The query language is smart about crawling the PIFs for properties with the right names, while `pypif` is not.  Fortunately, you can use the query language to do data extraction as well!"
   ]
  },
  {
   "cell_type": "markdown",
   "metadata": {
    "nbpresent": {
     "id": "261197d6-24ad-4083-8df9-33ba39ff56b7"
    },
    "slideshow": {
     "slide_type": "subslide"
    }
   },
   "source": [
    "### Using `extract_as`"
   ]
  },
  {
   "cell_type": "code",
   "execution_count": 7,
   "metadata": {
    "slideshow": {
     "slide_type": "fragment"
    }
   },
   "outputs": [
    {
     "name": "stdout",
     "output_type": "stream",
     "text": [
      "Found 16 PIFs\n",
      "[{'formation_enthalpy': '-0.1889', 'formula': 'Cu3Al'}, {'formation_enthalpy': '-0.1799', 'formula': 'CuAl2'}, {'formation_enthalpy': '-0.1288', 'formula': 'Cu5Al'}]\n"
     ]
    }
   ],
   "source": [
    "query = PifSystemReturningQuery(\n",
    "            size=500,\n",
    "            query=DataQuery(\n",
    "                system=PifSystemQuery(\n",
    "                    chemical_formula=ChemicalFieldQuery(\n",
    "                        extract_as=\"formula\",\n",
    "                        filter=ChemicalFilter(equal='AlxCuy'),\n",
    "                    ),\n",
    "                    properties=PropertyQuery(\n",
    "                        name=FieldQuery(\n",
    "                            filter=[Filter(equal=\"Formation energy\"), Filter(equal=\"Enthalpy of Formation\")]),\n",
    "                        value=FieldQuery(\n",
    "                            filter=[Filter(min=-1.0), ],\n",
    "                            extract_as=\"formation_enthalpy\")\n",
    "                    )\n",
    "                )\n",
    "            ))\n",
    "\n",
    "query_result = client.search(query)\n",
    "print(\"Found {} PIFs\".format(query_result.total_num_hits))\n",
    "\n",
    "print([x.extracted for x in query_result.hits[:3]])"
   ]
  },
  {
   "cell_type": "markdown",
   "metadata": {
    "slideshow": {
     "slide_type": "subslide"
    }
   },
   "source": [
    "A few notes:\n",
    " * `extract_as` extracts the field it is on (why we need value)\n",
    " * `extracted` is a dictionary from String keys to values; no units or uncertainty"
   ]
  },
  {
   "cell_type": "markdown",
   "metadata": {
    "slideshow": {
     "slide_type": "subslide"
    }
   },
   "source": [
    "## Real example: phase stability diagram\n",
    "\n",
    "Let's add these points to our Al-Cu phase diagram."
   ]
  },
  {
   "cell_type": "code",
   "execution_count": 8,
   "metadata": {
    "collapsed": true,
    "slideshow": {
     "slide_type": "fragment"
    }
   },
   "outputs": [],
   "source": [
    "new_points = []\n",
    "for hit in query_result.hits:\n",
    "    n_Al, n_Cu = get_stoich(hit.extracted[\"formula\"])\n",
    "    new_points.append((\n",
    "            n_Cu / (n_Cu + n_Al),\n",
    "            float(hit.extracted[\"formation_enthalpy\"])\n",
    "        ))"
   ]
  },
  {
   "cell_type": "code",
   "execution_count": 9,
   "metadata": {
    "slideshow": {
     "slide_type": "subslide"
    }
   },
   "outputs": [
    {
     "data": {
      "text/plain": [
       "Text(0,0.5,'$\\\\Delta H (eV/atom)$')"
      ]
     },
     "execution_count": 9,
     "metadata": {},
     "output_type": "execute_result"
    },
    {
     "data": {
      "image/png": "[encoded data removed]",
      "text/plain": [
       "<matplotlib.figure.Figure at 0x10ff152e8>"
      ]
     },
     "metadata": {},
     "output_type": "display_data"
    }
   ],
   "source": [
    "%matplotlib inline\n",
    "import matplotlib.pyplot as plt\n",
    "\n",
    "plt.scatter(*zip(*new_points), color='red', marker='x')\n",
    "plt.xlim(0, 1)\n",
    "plt.xlabel(\"Cu fraction\")\n",
    "plt.ylabel(\"$\\Delta H (eV/atom)$\")"
   ]
  },
  {
   "cell_type": "code",
   "execution_count": null,
   "metadata": {
    "collapsed": true
   },
   "outputs": [],
   "source": []
  },
  {
   "cell_type": "code",
   "execution_count": null,
   "metadata": {},
   "outputs": [],
   "source": []
  }
 ],
 "metadata": {
  "anaconda-cloud": {},
  "celltoolbar": "Slideshow",
  "kernelspec": {
   "display_name": "Python 3",
   "language": "python",
   "name": "python3"
  },
  "language_info": {
   "codemirror_mode": {
    "name": "ipython",
    "version": 3
   },
   "file_extension": ".py",
   "mimetype": "text/x-python",
   "name": "python",
   "nbconvert_exporter": "python",
   "pygments_lexer": "ipython3",
   "version": "3.6.3"
  },
  "nbpresent": {
   "slides": {
    "5c8082ad-f7f3-497a-91a5-b82f1bfa6d0e": {
     "id": "5c8082ad-f7f3-497a-91a5-b82f1bfa6d0e",
     "layout": "grid",
     "prev": null,
     "regions": {
      "3fdabdaa-d1a7-4289-8161-39096a883c62": {
       "attrs": {
        "height": 1,
        "pad": 0.01,
        "treemap:weight": 1,
        "width": 1,
        "x": 0,
        "y": 0
       },
       "content": {
        "cell": "f2f733dc-95c8-4751-a337-7bba7fcbe4d7",
        "part": "whole"
       },
       "id": "3fdabdaa-d1a7-4289-8161-39096a883c62"
      }
     }
    },
    "8e99069f-4d09-4e7b-8dbb-b8cf82a67ae2": {
     "id": "8e99069f-4d09-4e7b-8dbb-b8cf82a67ae2",
     "prev": "5c8082ad-f7f3-497a-91a5-b82f1bfa6d0e",
     "regions": {
      "1dabf2fc-3b38-4a0d-a95c-c4574fd5354f": {
       "attrs": {
        "height": 0.6,
        "width": 0.8,
        "x": 0.1,
        "y": 0.1
       },
       "content": {
        "cell": "c41a4f53-9a6a-435e-b554-90780aa20fcd",
        "part": "whole"
       },
       "id": "1dabf2fc-3b38-4a0d-a95c-c4574fd5354f"
      },
      "ab4f31d7-8029-4c39-854f-edaad678b711": {
       "attrs": {
        "height": 0.2,
        "width": 0.4,
        "x": 0.5,
        "y": 0.7
       },
       "id": "ab4f31d7-8029-4c39-854f-edaad678b711"
      },
      "b3bd2bc4-2c69-4998-8fe0-a09a6c579492": {
       "attrs": {
        "height": 0.2,
        "width": 0.4,
        "x": 0.1,
        "y": 0.7
       },
       "id": "b3bd2bc4-2c69-4998-8fe0-a09a6c579492"
      }
     }
    }
   },
   "themes": {}
  }
 },
 "nbformat": 4,
 "nbformat_minor": 2
}
