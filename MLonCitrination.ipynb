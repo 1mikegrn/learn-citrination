{
 "cells": [
  {
   "cell_type": "code",
   "execution_count": 4,
   "metadata": {
    "collapsed": true
   },
   "outputs": [],
   "source": [
    "from citrination_client import CitrinationClient\n",
    "from os import environ\n",
    "from citrination_client import PifQuery, SystemQuery, PropertyQuery, ChemicalFieldOperation, FieldOperation, Filter\n",
    "client = CitrinationClient(environ['CITRINATION_API_KEY'], 'https://citrination.com')"
   ]
  },
  {
   "cell_type": "markdown",
   "metadata": {},
   "source": [
    "# Machine learning on Citrination\n",
    "\n",
    "Citrination will automagically generate machine learning models when given sufficient meta-data:\n",
    " 1. A list of records (pifs)\n",
    " 1. Identification of columns as inputs or outputs\n",
    " 1. [Implicit] consistency of unlisted conditions"
   ]
  },
  {
   "cell_type": "markdown",
   "metadata": {},
   "source": [
    "## CSV to Models\n",
    "\n",
    "User-defined machine learning is exposed via the \"csv2models\" tool:\n",
    " 1. Put data in rows\n",
    " 1. Label columns\n",
    " 1. ...\n",
    " 1. Models!\n",
    " \n",
    "In this tutorial, we'll generate a valid CSV from a query.  You can also use any CSV you might have by setting the column names."
   ]
  },
  {
   "cell_type": "markdown",
   "metadata": {},
   "source": [
    "## Example: density from MaterialsProject\n",
    "\n",
    "We'll train a model from chemical formula to density using [data](https://citrination.com/search/simple?property=density&includedDatasets=150675) from the [materials project](https://materialsproject.org/)."
   ]
  },
  {
   "cell_type": "markdown",
   "metadata": {},
   "source": [
    "Let's start with a simple query for the density that extracts it along with the formula"
   ]
  },
  {
   "cell_type": "code",
   "execution_count": 27,
   "metadata": {
    "collapsed": true
   },
   "outputs": [],
   "source": [
    "system_query = SystemQuery(\n",
    "    chemical_formula=ChemicalFieldOperation(\n",
    "        extract_as=\"formula\"\n",
    "    ),\n",
    "    properties=PropertyQuery(\n",
    "        name=FieldOperation(\n",
    "            filter=[Filter(equal=\"density\")]\n",
    "        ),\n",
    "        value=FieldOperation(\n",
    "            extract_as=\"density\"\n",
    "        )\n",
    "    )\n",
    ")"
   ]
  },
  {
   "cell_type": "markdown",
   "metadata": {},
   "source": [
    "Material's project is big, so we'll just pull out 100 records for now.  If we don't draw them randomly, they'll all be `Al` and `As` and `Cs`."
   ]
  },
  {
   "cell_type": "code",
   "execution_count": 32,
   "metadata": {
    "collapsed": false
   },
   "outputs": [],
   "source": [
    "simple_query = PifQuery(\n",
    "    include_datasets=[150675],\n",
    "    size=100,\n",
    "    random_results=True,\n",
    "    system=system_query\n",
    ")"
   ]
  },
  {
   "cell_type": "markdown",
   "metadata": {},
   "source": [
    "Let's see what we've got:"
   ]
  },
  {
   "cell_type": "code",
   "execution_count": 34,
   "metadata": {
    "collapsed": false,
    "scrolled": true
   },
   "outputs": [
    {
     "name": "stdout",
     "output_type": "stream",
     "text": [
      "We found 52265 records\n",
      "[{'density': '1.8998152107659778', 'formula': 'Cs'}, {'density': '1.8998152107659778', 'formula': 'Cs'}]\n"
     ]
    }
   ],
   "source": [
    "search_result = client.search(simple_query)\n",
    "print(\"We found {} records\".format(search_result.total_num_hits))\n",
    "print([x.extracted for x in search_result.hits[0:2]])"
   ]
  },
  {
   "cell_type": "markdown",
   "metadata": {},
   "source": [
    "Now we just need to format in a CSV with `INPUT:<name>` and `OUPUT:<name>` headers.  Note: don't use any spaces (sorry!)."
   ]
  },
  {
   "cell_type": "code",
   "execution_count": 25,
   "metadata": {
    "collapsed": false
   },
   "outputs": [],
   "source": [
    "rows = [x.extracted for x in search_result.hits]\n",
    "with open(\"density.csv\", \"w\") as f:\n",
    "    f.write(\"INPUT:CHEMICAL_FORMULA,OUTPUT:Density-g/cm3\\n\")\n",
    "    for row in rows:\n",
    "        f.write(\"{formula:s}, {density:s}\\n\".format(**row))"
   ]
  },
  {
   "cell_type": "markdown",
   "metadata": {},
   "source": [
    "Upload that csv to the [models page](https://citrination.com/models/)."
   ]
  }
 ],
 "metadata": {
  "anaconda-cloud": {},
  "celltoolbar": "Slideshow",
  "kernelspec": {
   "display_name": "Python 3",
   "language": "python",
   "name": "python3"
  },
  "language_info": {
   "codemirror_mode": {
    "name": "ipython",
    "version": 3
   },
   "file_extension": ".py",
   "mimetype": "text/x-python",
   "name": "python",
   "nbconvert_exporter": "python",
   "pygments_lexer": "ipython3",
   "version": "3.5.2"
  }
 },
 "nbformat": 4,
 "nbformat_minor": 1
}
