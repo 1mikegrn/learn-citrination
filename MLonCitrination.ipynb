{
 "cells": [
  {
   "cell_type": "code",
   "execution_count": 10,
   "metadata": {
    "collapsed": true,
    "slideshow": {
     "slide_type": "skip"
    }
   },
   "outputs": [],
   "source": [
    "from citrination_client import CitrinationClient\n",
    "from os import environ\n",
    "from citrination_client import PifQuery, SystemQuery, PropertyQuery, ChemicalFieldOperation, FieldOperation, Filter\n",
    "client = CitrinationClient(environ['CITRINATION_API_KEY'], 'https://citrination.com')"
   ]
  },
  {
   "cell_type": "markdown",
   "metadata": {
    "slideshow": {
     "slide_type": "slide"
    }
   },
   "source": [
    "# Machine learning on Citrination\n",
    "\n",
    "Citrination will automagically generate machine learning models when given sufficient meta-data:\n",
    " 1. A list of records (pifs)\n",
    " 1. Identification of columns as inputs or outputs\n",
    " 1. [Implicit] consistency of unlisted conditions"
   ]
  },
  {
   "cell_type": "markdown",
   "metadata": {
    "slideshow": {
     "slide_type": "subslide"
    }
   },
   "source": [
    "## CSV to Models\n",
    "\n",
    "User-defined machine learning is exposed via the \"csv2models\" tool:\n",
    " 1. Put data in rows\n",
    " 1. Label columns\n",
    " 1. ...\n",
    " 1. Models!\n",
    " \n",
    "In this tutorial, we'll generate a valid CSV from a query.  You can also use any CSV you might have by setting the column names."
   ]
  },
  {
   "cell_type": "markdown",
   "metadata": {
    "slideshow": {
     "slide_type": "slide"
    }
   },
   "source": [
    "## Example: density from MaterialsProject\n",
    "\n",
    "We'll train a model from chemical formula to density using [data](https://citrination.com/search/simple?property=density&includedDatasets=150675) from the [materials project](https://materialsproject.org/)."
   ]
  },
  {
   "cell_type": "markdown",
   "metadata": {
    "slideshow": {
     "slide_type": "subslide"
    }
   },
   "source": [
    "Let's start with a simple query for the density that extracts it along with the formula"
   ]
  },
  {
   "cell_type": "code",
   "execution_count": 11,
   "metadata": {
    "collapsed": true,
    "slideshow": {
     "slide_type": "fragment"
    }
   },
   "outputs": [],
   "source": [
    "system_query = SystemQuery(\n",
    "    chemical_formula=ChemicalFieldOperation(\n",
    "        extract_as=\"formula\"\n",
    "    ),\n",
    "    properties=PropertyQuery(\n",
    "        name=FieldOperation(\n",
    "            filter=[Filter(equal=\"density\")]\n",
    "        ),\n",
    "        value=FieldOperation(\n",
    "            extract_as=\"density\"\n",
    "        )\n",
    "    )\n",
    ")"
   ]
  },
  {
   "cell_type": "markdown",
   "metadata": {
    "slideshow": {
     "slide_type": "subslide"
    }
   },
   "source": [
    "Material's project is big, so we'll just pull out 100 records for now.  If we don't draw them randomly, they'll all be `Al` and `As` and `Cs`."
   ]
  },
  {
   "cell_type": "code",
   "execution_count": 12,
   "metadata": {
    "collapsed": false,
    "slideshow": {
     "slide_type": "fragment"
    }
   },
   "outputs": [],
   "source": [
    "test_query = PifQuery(\n",
    "    include_datasets=[150675],\n",
    "    size=500,\n",
    "    random_results=True,\n",
    "    system=system_query\n",
    ")"
   ]
  },
  {
   "cell_type": "markdown",
   "metadata": {
    "slideshow": {
     "slide_type": "subslide"
    }
   },
   "source": [
    "Let's see what we've got:"
   ]
  },
  {
   "cell_type": "code",
   "execution_count": 13,
   "metadata": {
    "collapsed": false,
    "scrolled": true,
    "slideshow": {
     "slide_type": "fragment"
    }
   },
   "outputs": [
    {
     "name": "stdout",
     "output_type": "stream",
     "text": [
      "We found 52265 records\n",
      "[{'density': '9.22358850564565', 'formula': 'ErTaO4'}, {'density': '3.066336970791813', 'formula': 'KAs2F7'}]\n"
     ]
    }
   ],
   "source": [
    "search_result = client.search(test_query)\n",
    "print(\"We found {} records\".format(search_result.total_num_hits))\n",
    "print([x.extracted for x in search_result.hits[0:2]])"
   ]
  },
  {
   "cell_type": "markdown",
   "metadata": {
    "slideshow": {
     "slide_type": "subslide"
    }
   },
   "source": [
    "Now we just need to format in a CSV with `INPUT:<name>` and `OUPUT:<name>` headers.  Note: don't use any spaces (sorry!)."
   ]
  },
  {
   "cell_type": "code",
   "execution_count": 14,
   "metadata": {
    "collapsed": true,
    "slideshow": {
     "slide_type": "fragment"
    }
   },
   "outputs": [],
   "source": [
    "def write_csv(name, rows):\n",
    "    with open(name, \"w\") as f:\n",
    "        f.write(\"INPUT:CHEMICAL_FORMULA,OUTPUT:Density-g/cm3\\n\")\n",
    "        for row in rows:\n",
    "            f.write(\"{formula:s}, {density:s}\\n\".format(**row))\n",
    "write_csv('density.csv', [x.extracted for x in search_result.hits])"
   ]
  },
  {
   "cell_type": "markdown",
   "metadata": {
    "slideshow": {
     "slide_type": "fragment"
    }
   },
   "source": [
    "Upload that csv to the [models page](https://citrination.com/models/)."
   ]
  },
  {
   "cell_type": "markdown",
   "metadata": {
    "slideshow": {
     "slide_type": "subslide"
    }
   },
   "source": [
    "## Data science\n",
    "\n",
    "We can do better than that!"
   ]
  },
  {
   "cell_type": "code",
   "execution_count": 15,
   "metadata": {
    "collapsed": true,
    "slideshow": {
     "slide_type": "fragment"
    }
   },
   "outputs": [],
   "source": [
    "stable_query = system_query = SystemQuery(\n",
    "    chemical_formula=ChemicalFieldOperation(\n",
    "        extract_as=\"formula\"\n",
    "    ),\n",
    "    properties=[\n",
    "        PropertyQuery(\n",
    "            name=FieldOperation(\n",
    "                filter=[Filter(equal=\"density\")]\n",
    "            ),\n",
    "            value=FieldOperation(\n",
    "                extract_as=\"density\"\n",
    "            ),\n",
    "            logic=\"MUST\"\n",
    "        ),\n",
    "        PropertyQuery(\n",
    "            name=FieldOperation(\n",
    "                filter=[Filter(equal=\"Energy above convex hull\")]\n",
    "            ),\n",
    "            value=FieldOperation(\n",
    "                filter=[Filter(max=1.0e-9)]\n",
    "            ),\n",
    "            logic=\"MUST\"\n",
    "        )\n",
    "    ]\n",
    ")"
   ]
  },
  {
   "cell_type": "code",
   "execution_count": 16,
   "metadata": {
    "collapsed": false,
    "slideshow": {
     "slide_type": "subslide"
    }
   },
   "outputs": [
    {
     "name": "stdout",
     "output_type": "stream",
     "text": [
      "We found 31512 records\n"
     ]
    }
   ],
   "source": [
    "better_query = PifQuery(\n",
    "    include_datasets=[150675],\n",
    "    random_results=True,\n",
    "    size=500,\n",
    "    system=stable_query\n",
    ")\n",
    "better_result = client.search(better_query)\n",
    "print(\"We found {} records\".format(better_result.total_num_hits))\n",
    "write_csv('better_density.csv', [x.extracted for x in better_result.hits])"
   ]
  },
  {
   "cell_type": "markdown",
   "metadata": {
    "slideshow": {
     "slide_type": "slide"
    }
   },
   "source": [
    "## Applying the model\n",
    "\n",
    "We can use the model to make predictions through the client.  The `predict` method expects the name of the model and a list of inputs, where each input is a map from property names to property values.\n",
    "\n",
    "The result is a dictionary with a `candidates` member that is a list of maps from property names to values.  However, the values here are pairs of the form `(expected value, uncertainty)`."
   ]
  },
  {
   "cell_type": "code",
   "execution_count": 25,
   "metadata": {
    "collapsed": false,
    "slideshow": {
     "slide_type": "fragment"
    }
   },
   "outputs": [
    {
     "name": "stdout",
     "output_type": "stream",
     "text": [
      "We predict the density of AlCu to be 5.786268548675726 +/- 1.264895144698526\n"
     ]
    }
   ],
   "source": [
    "inputs = [{\"CHEMICAL_FORMULA\": \"AlCu\"},]\n",
    "resp = client.predict(\"betterdensitydemo\", inputs)\n",
    "prediction = resp['candidates'][0]['Density']\n",
    "print(\"We predict the density of {} to be {} +/- {}\".format(inputs[0]['CHEMICAL_FORMULA'], *prediction))"
   ]
  },
  {
   "cell_type": "markdown",
   "metadata": {
    "slideshow": {
     "slide_type": "subslide"
    }
   },
   "source": [
    "### Elemental properties\n",
    "\n",
    "The model uses average elemental properties, based on [magpie](https://bitbucket.org/wolverton/magpie), to featurize the chemical formula.  The predictions contain those and any other latent features as well: "
   ]
  },
  {
   "cell_type": "code",
   "execution_count": 26,
   "metadata": {
    "collapsed": false,
    "slideshow": {
     "slide_type": "fragment"
    }
   },
   "outputs": [
    {
     "name": "stdout",
     "output_type": "stream",
     "text": [
      "[('CHEMICAL_FORMULA_FusionEnthalpy_l1', [12.155000000000001, 0.0]), ('CHEMICAL_FORMULA_BoilingT_l1', [2996.0, 0.0]), ('CHEMICAL_FORMULA_ElectronAffinity_l1', [80.45, 0.0]), ('CHEMICAL_FORMULA_BulkModulus_l1', [108.0, 0.0]), ('CHEMICAL_FORMULA_NdUnfilled_l1', [0.0, 0.0])]\n"
     ]
    }
   ],
   "source": [
    "print(list(resp['candidates'][0].items())[0:5])"
   ]
  },
  {
   "cell_type": "markdown",
   "metadata": {
    "slideshow": {
     "slide_type": "slide"
    }
   },
   "source": [
    "## Design\n",
    "\n"
   ]
  }
 ],
 "metadata": {
  "anaconda-cloud": {},
  "celltoolbar": "Slideshow",
  "kernelspec": {
   "display_name": "Python 3",
   "language": "python",
   "name": "python3"
  },
  "language_info": {
   "codemirror_mode": {
    "name": "ipython",
    "version": 3
   },
   "file_extension": ".py",
   "mimetype": "text/x-python",
   "name": "python",
   "nbconvert_exporter": "python",
   "pygments_lexer": "ipython3",
   "version": "3.5.2"
  }
 },
 "nbformat": 4,
 "nbformat_minor": 1
}
