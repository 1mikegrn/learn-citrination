{
 "cells": [
  {
   "cell_type": "code",
   "execution_count": 1,
   "metadata": {
    "collapsed": true,
    "slideshow": {
     "slide_type": "skip"
    }
   },
   "outputs": [],
   "source": [
    "from citrination_client import CitrinationClient\n",
    "from os import environ\n",
    "from citrination_client import PifQuery, SystemQuery, PropertyQuery, ChemicalFieldOperation, FieldOperation, Filter\n",
    "client = CitrinationClient(environ['CITRINATION_API_KEY'], 'https://citrination.com')"
   ]
  },
  {
   "cell_type": "markdown",
   "metadata": {
    "slideshow": {
     "slide_type": "slide"
    }
   },
   "source": [
    "# Machine learning on Citrination\n",
    "\n",
    "Citrination will automagically generate machine learning models when given sufficient meta-data:\n",
    " 1. A list of records (pifs)\n",
    " 1. Identification of columns as inputs or outputs\n",
    " 1. [Implicit] consistency of unlisted conditions"
   ]
  },
  {
   "cell_type": "markdown",
   "metadata": {
    "slideshow": {
     "slide_type": "subslide"
    }
   },
   "source": [
    "## CSV to Models\n",
    "\n",
    "User-defined machine learning is exposed via the \"csv2models\" tool:\n",
    " 1. Put data in rows\n",
    " 1. Label columns\n",
    " 1. ...\n",
    " 1. Models!\n",
    " \n",
    "In this tutorial, we'll generate a valid CSV from a query.  You can also use any CSV you might have by setting the column names."
   ]
  },
  {
   "cell_type": "markdown",
   "metadata": {
    "slideshow": {
     "slide_type": "slide"
    }
   },
   "source": [
    "## Example: density from MaterialsProject\n",
    "\n",
    "We'll train a model from chemical formula to density using [data](https://citrination.com/search/simple?property=density&includedDatasets=150675) from the [materials project](https://materialsproject.org/)."
   ]
  },
  {
   "cell_type": "markdown",
   "metadata": {
    "slideshow": {
     "slide_type": "subslide"
    }
   },
   "source": [
    "Let's start with a simple query for the density that extracts it along with the formula"
   ]
  },
  {
   "cell_type": "code",
   "execution_count": 2,
   "metadata": {
    "collapsed": true,
    "slideshow": {
     "slide_type": "fragment"
    }
   },
   "outputs": [],
   "source": [
    "system_query = SystemQuery(\n",
    "    chemical_formula=ChemicalFieldOperation(\n",
    "        extract_as=\"formula\"\n",
    "    ),\n",
    "    properties=PropertyQuery(\n",
    "        name=FieldOperation(\n",
    "            filter=[Filter(equal=\"density\")]\n",
    "        ),\n",
    "        value=FieldOperation(\n",
    "            extract_as=\"density\"\n",
    "        )\n",
    "    )\n",
    ")"
   ]
  },
  {
   "cell_type": "markdown",
   "metadata": {
    "slideshow": {
     "slide_type": "subslide"
    }
   },
   "source": [
    "Material's project is big, so we'll just pull out 100 records for now.  If we don't draw them randomly, they'll all be `Al` and `As` and `Cs`."
   ]
  },
  {
   "cell_type": "code",
   "execution_count": 3,
   "metadata": {
    "collapsed": false,
    "slideshow": {
     "slide_type": "fragment"
    }
   },
   "outputs": [],
   "source": [
    "test_query = PifQuery(\n",
    "    include_datasets=[150675],\n",
    "    size=100,\n",
    "    random_results=True,\n",
    "    system=system_query\n",
    ")"
   ]
  },
  {
   "cell_type": "markdown",
   "metadata": {
    "slideshow": {
     "slide_type": "subslide"
    }
   },
   "source": [
    "Let's see what we've got:"
   ]
  },
  {
   "cell_type": "code",
   "execution_count": 4,
   "metadata": {
    "collapsed": false,
    "scrolled": true,
    "slideshow": {
     "slide_type": "fragment"
    }
   },
   "outputs": [
    {
     "name": "stdout",
     "output_type": "stream",
     "text": [
      "We found 52265 records\n",
      "[{'formula': 'Cs', 'density': '1.8998152107659778'}, {'formula': 'Cs', 'density': '1.8998152107659778'}]\n"
     ]
    }
   ],
   "source": [
    "search_result = client.search(test_query)\n",
    "print(\"We found {} records\".format(search_result.total_num_hits))\n",
    "print([x.extracted for x in search_result.hits[0:2]])"
   ]
  },
  {
   "cell_type": "markdown",
   "metadata": {
    "slideshow": {
     "slide_type": "subslide"
    }
   },
   "source": [
    "Now we just need to format in a CSV with `INPUT:<name>` and `OUPUT:<name>` headers.  Note: don't use any spaces (sorry!)."
   ]
  },
  {
   "cell_type": "code",
   "execution_count": 5,
   "metadata": {
    "collapsed": true,
    "slideshow": {
     "slide_type": "fragment"
    }
   },
   "outputs": [],
   "source": [
    "def write_csv(name, rows):\n",
    "    with open(name, \"w\") as f:\n",
    "        f.write(\"INPUT:CHEMICAL_FORMULA,OUTPUT:Density-g/cm3\\n\")\n",
    "        for row in rows:\n",
    "            f.write(\"{formula:s}, {density:s}\\n\".format(**row))\n",
    "write_csv('density.csv', [x.extracted for x in search_result.hits])"
   ]
  },
  {
   "cell_type": "markdown",
   "metadata": {
    "slideshow": {
     "slide_type": "fragment"
    }
   },
   "source": [
    "Upload that csv to the [models page](https://citrination.com/models/)."
   ]
  },
  {
   "cell_type": "code",
   "execution_count": 8,
   "metadata": {
    "collapsed": false
   },
   "outputs": [
    {
     "name": "stdout",
     "output_type": "stream",
     "text": [
      "Posting to https://citrination.com/api/csv_to_models/densitydemo/predict with data={\"usePrior\": true, \"candidates\": [{\"CHEMICAL_FORMULA\": \"Fe\"}], \"predictionSource\": \"scalar\"}\n",
      "b'Prediction failed: null'\n"
     ]
    }
   ],
   "source": [
    "candidates = [{\"CHEMICAL_FORMULA\": \"Fe\"},]\n",
    "resp = client.predict(\"densitydemo\", candidates)\n",
    "print(resp.content)"
   ]
  },
  {
   "cell_type": "markdown",
   "metadata": {},
   "source": [
    "## Data science\n",
    "\n",
    "We can do better than that!"
   ]
  },
  {
   "cell_type": "code",
   "execution_count": 7,
   "metadata": {
    "collapsed": true
   },
   "outputs": [],
   "source": [
    "stable_query = system_query = SystemQuery(\n",
    "    chemical_formula=ChemicalFieldOperation(\n",
    "        extract_as=\"formula\"\n",
    "    ),\n",
    "    properties=[\n",
    "        PropertyQuery(\n",
    "            name=FieldOperation(\n",
    "                filter=[Filter(equal=\"density\")]\n",
    "            ),\n",
    "            value=FieldOperation(\n",
    "                extract_as=\"density\"\n",
    "            ),\n",
    "            logic=\"MUST\"\n",
    "        ),\n",
    "        PropertyQuery(\n",
    "            name=FieldOperation(\n",
    "                filter=[Filter(equal=\"Energy above convex hull\")]\n",
    "            ),\n",
    "            value=FieldOperation(\n",
    "                filter=[Filter(max=0.001)]\n",
    "            ),\n",
    "            logic=\"MUST\"\n",
    "        )\n",
    "    ]\n",
    ")"
   ]
  },
  {
   "cell_type": "code",
   "execution_count": 8,
   "metadata": {
    "collapsed": false
   },
   "outputs": [
    {
     "name": "stdout",
     "output_type": "stream",
     "text": [
      "We found 52265 records\n"
     ]
    }
   ],
   "source": [
    "better_query = PifQuery(\n",
    "    include_datasets=[150675],\n",
    "    random_results=True,\n",
    "    system=stable_query\n",
    ")\n",
    "better_result = client.search(better_query)\n",
    "print(\"We found {} records\".format(better_result.total_num_hits))\n",
    "write_csv('better_density.csv', [x.extracted for x in better_result.hits])"
   ]
  }
 ],
 "metadata": {
  "anaconda-cloud": {},
  "celltoolbar": "Slideshow",
  "kernelspec": {
   "display_name": "Python 3",
   "language": "python",
   "name": "python3"
  },
  "language_info": {
   "codemirror_mode": {
    "name": "ipython",
    "version": 3
   },
   "file_extension": ".py",
   "mimetype": "text/x-python",
   "name": "python",
   "nbconvert_exporter": "python",
   "pygments_lexer": "ipython3",
   "version": "3.5.2"
  }
 },
 "nbformat": 4,
 "nbformat_minor": 1
}
