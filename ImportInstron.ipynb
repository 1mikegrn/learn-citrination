{
 "cells": [
  {
   "cell_type": "markdown",
   "metadata": {
    "slideshow": {
     "slide_type": "slide"
    }
   },
   "source": [
    "## Data format to PIF converter\n",
    "Let's write an converter to map the Instron output file to a PIF file."
   ]
  },
  {
   "cell_type": "code",
   "execution_count": 1,
   "metadata": {
    "collapsed": false,
    "slideshow": {
     "slide_type": "fragment"
    }
   },
   "outputs": [
    {
     "name": "stdout",
     "output_type": "stream",
     "text": [
      "MTS793|MPT|ENU|1|2|.|/|:|1|0|0|A\r\n",
      "\n",
      "\r\n",
      "\n",
      "Data Acquisition\t\t\t\t\t\tTime:\t102.54224\tSec\t7/5/2010 1:24:13 PM\r\n",
      "\n",
      "Axial Displacement\tAxial Force\tAxial Strain\tTime\r\n",
      "\n",
      "mm\tN\tmm/mm\tSec\r\n",
      "\n",
      "0.001254817\t-1.2510437\t-0.18667668\t0.13891602\r\n",
      "\n",
      "0.00041648507\t-2.2480204\t-0.18673906\t0.23901367\r\n",
      "\n",
      "-0.00032296643\t-3.24281\t-0.18673992\t0.33911133\r\n",
      "\n",
      "-4.4806453e-05\t-3.5292149\t-0.18668246\t0.43920898\r\n",
      "\n",
      "-0.00031411514\t-2.728333\t-0.18660255\t0.53930664\r\n",
      "\n",
      "-0.00014413759\t-1.8402346\t-0.18657748\t0.6394043\r\n",
      "\n",
      "0.0011240146\t-1.2426991\t-0.18662354\t0.73950195\r\n",
      "\n",
      "0.0007610707\t-1.3819313\t-0.18669833\t0.83959961\r\n",
      "\n",
      "0.0004964745\t-2.4153166\t-0.18674521\t0.93969727\r\n",
      "\n",
      "0.00013828411\t-3.4589834\t-0.18672836\t1.0397949\r\n",
      "\n"
     ]
    }
   ],
   "source": [
    "with open(\"example_data/RT-loadtofail_10e-3.txt\") as f:\n",
    "    lines = f.readlines()\n",
    "    print '\\n'.join(lines[:15])"
   ]
  },
  {
   "cell_type": "markdown",
   "metadata": {
    "slideshow": {
     "slide_type": "slide"
    }
   },
   "source": [
    "Using a given analysis script to compile the force, displacement, stress, and strain, and using those values to calculate the elastic modulus and critical stress (thanks Saurabh!), we can package the Instron output into the PIF format."
   ]
  },
  {
   "cell_type": "code",
   "execution_count": 2,
   "metadata": {
    "collapsed": true,
    "slideshow": {
     "slide_type": "fragment"
    }
   },
   "outputs": [],
   "source": [
    "from thermo_mechanical_analysis import Thermo\n",
    "from pypif import pif\n",
    "from pypif.obj import *\n",
    "\n",
    "def instron_to_pif(instron_file, material_name):\n",
    "    instron = Thermo(instron_file)\n",
    "    instron.extract_data()\n",
    "    instron.calc_elastic_modulus()\n",
    "    system = ChemicalSystem(name=material_name)\n",
    "\n",
    "    elastic_modulus = Property(name=\"Elastic Modulus\", units=\"MPa\", scalars=instron.elastic_modulus)\n",
    "    critical_stress = Property(name=\"Critical Stress\", units=\"MPa\", scalars=instron.critical_stress)\n",
    "    stress_strain = Property(name=\"Stress\", units=\"MPa\", scalars=instron.stress,\n",
    "                             conditions=Value(name=\"Strain\", units=\"mm/mm\", scalars=instron.strain))\n",
    "    force_displacement = Property(name=\"Force\", units=\"N\", scalars=instron.force,\n",
    "                                  conditions=Value(name=\"Displacement\", units=\"mm\", scalars=instron.displacement))\n",
    "    system.properties = [elastic_modulus, critical_stress, stress_strain, force_displacement]\n",
    "    return system"
   ]
  },
  {
   "cell_type": "markdown",
   "metadata": {
    "slideshow": {
     "slide_type": "slide"
    }
   },
   "source": [
    "Now, upload the result http://citrination.com/pif/150713/1/instron_example"
   ]
  },
  {
   "cell_type": "code",
   "execution_count": 3,
   "metadata": {
    "collapsed": false,
    "slideshow": {
     "slide_type": "fragment"
    }
   },
   "outputs": [
    {
     "name": "stdout",
     "output_type": "stream",
     "text": [
      "Elastic Modulus:78286.464381\n",
      "Critical Stress:677.7138222\n"
     ]
    },
    {
     "data": {
      "text/plain": [
       "'{\"data_set_id\": \"150713\", \"message\": \"Upload is complete.\", \"version\": 1}'"
      ]
     },
     "execution_count": 3,
     "metadata": {},
     "output_type": "execute_result"
    }
   ],
   "source": [
    "from citrination_client import CitrinationClient\n",
    "from os import environ\n",
    "\n",
    "client = CitrinationClient(environ['CITRINATION_API_KEY'], 'https://citrination.com')\n",
    "dataset_id = 150713\n",
    "instron = instron_to_pif(\"example_data/RT-loadtofail_10e-3.txt\", \"Sample\")\n",
    "instron.uid = \"instron_example\"\n",
    "\n",
    "with open(\"example_data/instron.json\", 'w') as fp:\n",
    "    pif.dump(instron, fp)\n",
    "    \n",
    "client.upload_file(\"example_data/instron.json\", dataset_id)"
   ]
  }
 ],
 "metadata": {
  "celltoolbar": "Slideshow",
  "kernelspec": {
   "display_name": "Python 2",
   "language": "python",
   "name": "python2"
  },
  "language_info": {
   "codemirror_mode": {
    "name": "ipython",
    "version": 2
   },
   "file_extension": ".py",
   "mimetype": "text/x-python",
   "name": "python",
   "nbconvert_exporter": "python",
   "pygments_lexer": "ipython2",
   "version": "2.7.12"
  }
 },
 "nbformat": 4,
 "nbformat_minor": 2
}
