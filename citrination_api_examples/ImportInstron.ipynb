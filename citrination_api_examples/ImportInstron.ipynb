{
 "cells": [
  {
   "cell_type": "markdown",
   "metadata": {},
   "source": [
    "![Banner logo](../fig/citrine_banner.png)"
   ]
  },
  {
   "cell_type": "markdown",
   "metadata": {
    "slideshow": {
     "slide_type": "slide"
    }
   },
   "source": [
    "# Data Format to PIF Converter\n",
    "\n",
    "*Authors: Carena Church, Enze Chen*\n",
    "\n",
    "Let's write an converter to map the Instron output file to a PIF file."
   ]
  },
  {
   "cell_type": "markdown",
   "metadata": {},
   "source": [
    "## Python package imports"
   ]
  },
  {
   "cell_type": "code",
   "execution_count": null,
   "metadata": {},
   "outputs": [],
   "source": [
    "# Standard packages\n",
    "from os import environ\n",
    "from uuid import uuid4\n",
    "\n",
    "# Third-party packages\n",
    "from thermo_mechanical_analysis import Thermo\n",
    "from pypif import pif\n",
    "from pypif.obj import *\n",
    "from citrination_client import CitrinationClient"
   ]
  },
  {
   "cell_type": "markdown",
   "metadata": {},
   "source": [
    "## Read the Instron files\n",
    "We will first read in and print the Instron output file."
   ]
  },
  {
   "cell_type": "code",
   "execution_count": null,
   "metadata": {
    "slideshow": {
     "slide_type": "fragment"
    }
   },
   "outputs": [],
   "source": [
    "with open(\"RT-loadtofail_10e-3.txt\") as f:\n",
    "    lines = f.readlines()\n",
    "    print('\\n'.join(lines[:15]))"
   ]
  },
  {
   "cell_type": "markdown",
   "metadata": {
    "slideshow": {
     "slide_type": "slide"
    }
   },
   "source": [
    "## `instron_to_pif`\n",
    "\n",
    "Using a given analysis script to compile the force, displacement, stress, and strain, and using those values to calculate the elastic modulus and critical stress (thanks Saurabh!), we can package the Instron output into the PIF format."
   ]
  },
  {
   "cell_type": "code",
   "execution_count": null,
   "metadata": {
    "slideshow": {
     "slide_type": "fragment"
    }
   },
   "outputs": [],
   "source": [
    "def instron_to_pif(instron_file, material_name):\n",
    "    instron = Thermo(instron_file)\n",
    "    instron.extract_data()\n",
    "    instron.calc_elastic_modulus()\n",
    "    system = ChemicalSystem(name=material_name)\n",
    "\n",
    "    elastic_modulus = Property(name=\"Elastic Modulus\", units=\"MPa\", scalars=instron.elastic_modulus)\n",
    "    critical_stress = Property(name=\"Critical Stress\", units=\"MPa\", scalars=instron.critical_stress)\n",
    "    stress_strain = Property(name=\"Stress\", units=\"MPa\", scalars=instron.stress,\n",
    "                             conditions=Value(name=\"Strain\", units=\"mm/mm\", scalars=instron.strain))\n",
    "    force_displacement = Property(name=\"Force\", units=\"N\", scalars=instron.force,\n",
    "                                  conditions=Value(name=\"Displacement\", units=\"mm\", scalars=instron.displacement))\n",
    "    system.properties = [elastic_modulus, critical_stress, stress_strain, force_displacement]\n",
    "    return system"
   ]
  },
  {
   "cell_type": "markdown",
   "metadata": {
    "slideshow": {
     "slide_type": "slide"
    }
   },
   "source": [
    "Now, upload the result to Citrination."
   ]
  },
  {
   "cell_type": "code",
   "execution_count": null,
   "metadata": {},
   "outputs": [],
   "source": [
    "# Instantiate the CitrinationClient\n",
    "site = 'https://citrination.com'\n",
    "client = CitrinationClient(api_key=environ['CITRINATION_API_KEY'], site=site)\n",
    "\n",
    "# Create a dataset with random name\n",
    "dataset_name = \"Tutorial dataset \" + str(uuid4())[:6]\n",
    "dataset = client.data.create_dataset(name=dataset_name, description=\"Dataset for Instron tutorial.\", public=False)\n",
    "dataset_id = dataset._id\n",
    "print('Dataset created! {}/datasets/{}'.format(site, dataset_id))"
   ]
  },
  {
   "cell_type": "code",
   "execution_count": null,
   "metadata": {
    "slideshow": {
     "slide_type": "fragment"
    }
   },
   "outputs": [],
   "source": [
    "instron = instron_to_pif(\"RT-loadtofail_10e-3.txt\", \"Sample\")\n",
    "instron.uid = \"instron_example\"\n",
    "\n",
    "with open(\"instron_pif.json\", 'w') as fp:\n",
    "    pif.dump(instron, fp)\n",
    "    \n",
    "res = client.data.upload(dataset_id, \"instron_pif.json\")"
   ]
  },
  {
   "cell_type": "markdown",
   "metadata": {},
   "source": [
    "Soon you should begin to the see the dataset populated by PIFs!"
   ]
  }
 ],
 "metadata": {
  "kernelspec": {
   "display_name": "Python 3",
   "language": "python",
   "name": "python3"
  },
  "language_info": {
   "codemirror_mode": {
    "name": "ipython",
    "version": 3
   },
   "file_extension": ".py",
   "mimetype": "text/x-python",
   "name": "python",
   "nbconvert_exporter": "python",
   "pygments_lexer": "ipython3",
   "version": "3.7.2"
  }
 },
 "nbformat": 4,
 "nbformat_minor": 2
}
