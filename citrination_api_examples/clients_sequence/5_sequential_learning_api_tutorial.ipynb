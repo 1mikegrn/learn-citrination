{
 "cells": [
  {
   "cell_type": "markdown",
   "metadata": {},
   "source": [
    "![Banner logo](https://raw.githubusercontent.com/CitrineInformatics/community-tools/master/templates/fig/citrine_banner_2.png)"
   ]
  },
  {
   "cell_type": "markdown",
   "metadata": {},
   "source": [
    "# PyCC Sequential Learning Tutorial\n",
    "\n",
    "*Authors: Edward Kim, Enze Chen*\n",
    "\n",
    "In this notebook, we will cover how to perform **sequential learning** (SL) using the [Citrination API](http://citrineinformatics.github.io/python-citrination-client/). [Sequential learning](https://citrine.io/platform/sequential-learning/) is the key workflow which allows machine learning algorithms and in-lab experiments to iteratively inform each other.\n",
    "\n",
    "To replace the need for an actual laboratory, this notebook uses a simple *toy function* that allows for \"measurements\" on the data.\n",
    "\n",
    "**NOTE**: If you want to run the sequential learning code in the final part of this tutorial on the public version of Citrination (https://citrination.com), then you will need an Admin account to run design jobs."
   ]
  },
  {
   "cell_type": "markdown",
   "metadata": {},
   "source": [
    "## Table of contents\n",
    "1. [Learning outcomes](#Learning-outcomes)\n",
    "1. [Background knowledge](#Background-knowledge)\n",
    "1. [Imports](#Python-package-imports)\n",
    "1. [Initialization](#Initialize-the-PyCC)\n",
    "1. [Data generation](#Data-generation)\n",
    "1. [Design](#Running-design)\n",
    "1. [Visualize results](#Examining-the-results)\n",
    "1. [Conclusion](#Conclusion)\n",
    "1. [Additional resources](#Additional-resources)"
   ]
  },
  {
   "cell_type": "markdown",
   "metadata": {},
   "source": [
    "## Learning outcomes\n",
    "\n",
    "[Back to ToC](#Table-of-contents)\n",
    "\n",
    "By the end of this tutorial, you will know how to:\n",
    "\n",
    "- Use PyCC end to end, from uploading an initial dataset to running SL.\n",
    "- Understand how to configure SL parameters to match your laboratory setup.\n",
    "- Asynchronously issue SL jobs to Citrination's backend."
   ]
  },
  {
   "cell_type": "markdown",
   "metadata": {},
   "source": [
    "## Background knowledge\n",
    "\n",
    "[Back to ToC](#Table-of-contents)\n",
    "\n",
    "In order to get the most out of this tutorial, you should already be familiar with the following:\n",
    "\n",
    "- Create and access datasets through the API ([tutorial](1_data_client_api_tutorial.ipynb)).\n",
    "- Create and access data views through the API ([tutorial](2_data_views_api_tutorial.ipynb)).\n",
    "- What the data views [front-end UI](https://citrination.com/data_views) looks like, particularly the Design interface."
   ]
  },
  {
   "cell_type": "markdown",
   "metadata": {},
   "source": [
    "## Python package imports\n",
    "\n",
    "[Back to ToC](#Table-of-contents)\n",
    "\n",
    "This notebook uses some convenience functions to wrap several API endpoints. These are listed in the file [`sequential_learning_wrappers.py`](./sequential_learning_wrappers.py) and imported below. Review the docstrings and code in that file to learn more."
   ]
  },
  {
   "cell_type": "code",
   "execution_count": 1,
   "metadata": {},
   "outputs": [],
   "source": [
    "# Standard packages\n",
    "import os\n",
    "import uuid\n",
    "\n",
    "# Third-party packages\n",
    "from sequential_learning_wrappers import *   # Helper functions to wrap several API endpoints together\n",
    "%matplotlib inline"
   ]
  },
  {
   "cell_type": "markdown",
   "metadata": {},
   "source": [
    "## Initialize the PyCC\n",
    "\n",
    "[Back to ToC](#Table-of-contents)\n",
    "\n",
    "Make sure to properly set your **environment variable** to hold your API key."
   ]
  },
  {
   "cell_type": "code",
   "execution_count": 2,
   "metadata": {},
   "outputs": [],
   "source": [
    "site = \"https://citrination.com\" # site you want to access; we'll use the public site\n",
    "client = CitrinationClient(api_key=os.environ.get(\"CITRINATION_API_KEY\"), site=site)"
   ]
  },
  {
   "cell_type": "markdown",
   "metadata": {},
   "source": [
    "## Data generation\n",
    "\n",
    "[Back to ToC](#Table-of-contents)\n",
    "\n",
    "Since we aren't using a real laboratory, we need access to a quick way to generate \"correct\" measurements. A simple placeholder here is to use a function that sums the squares of its inputs. The goal, in this case, will be to find the global minimum located at the origin. \n",
    "\n",
    "In a real example, we could minimize or maximize any output: compressive strengths, conductivities, and so on."
   ]
  },
  {
   "cell_type": "markdown",
   "metadata": {},
   "source": [
    "### `toy_func()`\n",
    "This function takes a list of values and sums the squares of the values."
   ]
  },
  {
   "cell_type": "code",
   "execution_count": 3,
   "metadata": {},
   "outputs": [],
   "source": [
    "def toy_func(inputs):\n",
    "    return np.sum(np.square(inputs))"
   ]
  },
  {
   "cell_type": "code",
   "execution_count": 4,
   "metadata": {},
   "outputs": [
    {
     "name": "stdout",
     "output_type": "stream",
     "text": [
      "Best (lowest) value in initial training set: 4.982739167743289\n"
     ]
    }
   ],
   "source": [
    "# Generate random inputs and outputs\n",
    "toy_x = [np.random.normal(loc=3.0, scale=1.0, size=(1, 2))[0] for x in range(20)]\n",
    "toy_y = [toy_func(x) for x in toy_x]\n",
    "\n",
    "initial_best_measured_value = min(toy_y)\n",
    "\n",
    "print(\"Best (lowest) value in initial training set: {}\".format(initial_best_measured_value))"
   ]
  },
  {
   "cell_type": "markdown",
   "metadata": {},
   "source": [
    "Now we can plot the initial training set, and color it by the function value."
   ]
  },
  {
   "cell_type": "code",
   "execution_count": 5,
   "metadata": {},
   "outputs": [
    {
     "data": {
      "image/png": "[encoded data removed]",
      "text/plain": [
       "<Figure size 576x432 with 2 Axes>"
      ]
     },
     "metadata": {
      "needs_background": "light"
     },
     "output_type": "display_data"
    }
   ],
   "source": [
    "# Plot initial training set, colored by toy function values\n",
    "plt.rcParams.update({'figure.figsize':(8, 6), 'font.size':18, 'lines.markersize':8})\n",
    "plt.scatter(np.array(toy_x)[:,0], np.array(toy_x)[:,1],\n",
    "            c=toy_y, cmap=plt.cm.plasma)\n",
    "plt.colorbar(label='toy function value')\n",
    "plt.xlabel(r'$x_1$')\n",
    "plt.ylabel(r'$x_2$')\n",
    "plt.xlim(-5,5)\n",
    "plt.ylim(-5,5)\n",
    "plt.show()"
   ]
  },
  {
   "cell_type": "code",
   "execution_count": null,
   "metadata": {
    "scrolled": false
   },
   "outputs": [],
   "source": [
    "# Write a PIF JSON dataset file\n",
    "random_string = str(uuid.uuid4())[:6]\n",
    "output_file = 'toy_initial_dataset_{}.json'.format(random_string)\n",
    "write_dataset_from_func(toy_func, output_file, toy_x)"
   ]
  },
  {
   "cell_type": "code",
   "execution_count": null,
   "metadata": {},
   "outputs": [],
   "source": [
    "# Make a dataset, upload to Citrination, return/print the ID\n",
    "dataset_name = output_file.split('.')[0]\n",
    "dataset_id = upload_data_and_get_id(\n",
    "    client,\n",
    "    dataset_name,\n",
    "    output_file,\n",
    "    create_new_version=True,\n",
    ")\n",
    "print(\"Dataset created: {}\".format(dataset_id))\n",
    "print(\"Dataset URL: {}/datasets/{}\".format(site, dataset_id))"
   ]
  },
  {
   "cell_type": "code",
   "execution_count": null,
   "metadata": {
    "scrolled": true
   },
   "outputs": [],
   "source": [
    "# Make a data view on Citrination, return/print the ID\n",
    "view_name = 'toy_view_{}'.format(random_string)\n",
    "view_id = build_view_and_get_id(client, dataset_id, view_name, view_desc=\"toy test view\",\n",
    "                      input_keys=[\"Property x1\", \"Property x2\"], output_keys=[\"Property y\"])\n",
    "\n",
    "print(\"Data view created: {}\".format(view_id))\n",
    "print(\"Data view URL: {}/data_views/{}\".format(site, view_id))"
   ]
  },
  {
   "cell_type": "markdown",
   "metadata": {},
   "source": [
    "If this is not your first time running this notebook, you can change the following variables to match what you've already created."
   ]
  },
  {
   "cell_type": "code",
   "execution_count": null,
   "metadata": {},
   "outputs": [],
   "source": [
    "# dataset_id = 176716\n",
    "# view_id = 9673\n",
    "# print(\"Existing dataset URL: {}/datasets/{}\".format(site, dataset_id))\n",
    "# print(\"Existing data view URL: {}/data_views/{}\".format(site, view_id))"
   ]
  },
  {
   "cell_type": "markdown",
   "metadata": {},
   "source": [
    "## Running design\n",
    "\n",
    "[Back to ToC](#Table-of-contents)\n",
    "\n",
    "Now we call a function that runs the SL process. In short, we run a loop where we do the following:\n",
    "\n",
    "1. Submit a design run (and poll status w/ wait times).\n",
    "1. Get best candidates and record predicted results.\n",
    "1. Measure candidates (using toy function evaluation) and record measured results.\n",
    "1. Add candidates to dataset.\n",
    "1. Retrain on dataset (and poll status w/ wait times).\n",
    "1. Repeat until maximum number of iterations reached.\n",
    "\n",
    "Detailed comments can be found in the [function docstring](sequential_learning_wrappers.py)."
   ]
  },
  {
   "cell_type": "code",
   "execution_count": null,
   "metadata": {
    "scrolled": false
   },
   "outputs": [],
   "source": [
    "best_sl_pred_vals, best_sl_measured_vals = run_sequential_learning(\n",
    "    client=client,\n",
    "    view_id=str(view_id),\n",
    "    dataset_id=str(dataset_id),\n",
    "    num_candidates_per_iter=10,\n",
    "    design_effort=10,\n",
    "    wait_time=10,\n",
    "    num_sl_iterations=5,\n",
    "    input_properties=[\"Property x1\", \"Property x2\"],\n",
    "    target=[\"Property y\", \"Min\"],\n",
    "    print_output=True,\n",
    "    true_function=toy_func,\n",
    "    score_type=\"MLI\"\n",
    ")"
   ]
  },
  {
   "cell_type": "markdown",
   "metadata": {},
   "source": [
    "## Examining the results\n",
    "\n",
    "[Back to ToC](#Table-of-contents)\n",
    "\n",
    "Finally, we can plot the results against the number of SL iterations. \n",
    "* **Blue**: The best measured candidate. Lower = better for function minimization.\n",
    "* **Yellow**: The best predicted candidate.\n",
    "* **Green**: The uncertainty in the prediction. Note this decreases as we progress.\n",
    "* **Black**: The best value in the training set."
   ]
  },
  {
   "cell_type": "code",
   "execution_count": 9,
   "metadata": {},
   "outputs": [
    {
     "data": {
      "image/png": "[encoded data removed]",
      "text/plain": [
       "<Figure size 576x432 with 1 Axes>"
      ]
     },
     "metadata": {
      "needs_background": "light"
     },
     "output_type": "display_data"
    }
   ],
   "source": [
    "plot_sl_results(best_sl_measured_vals, best_sl_pred_vals, initial_best_measured_value)"
   ]
  },
  {
   "cell_type": "markdown",
   "metadata": {},
   "source": [
    "## Conclusion\n",
    "\n",
    "[Back to ToC](#Table-of-contents)\n",
    "\n",
    "To recap, this notebook went through the steps for running SL using the API.\n",
    "1. First, we created and uploaded an initial dataset.\n",
    "1. Then, we created a data view and trained the model.\n",
    "1. We ran the SL process, measuring and updating new candidates after each iteration.\n",
    "1. Finally we examined our SL results."
   ]
  },
  {
   "cell_type": "markdown",
   "metadata": {},
   "source": [
    "## Additional resources\n",
    "\n",
    "[Back to ToC](#Table-of-contents)\n",
    "\n",
    "It's now possible to conduct the major aspects of the Citrination workflow through the API, which should increase the speed and flexibility of informatics approaches. Some other topics that might interest you include:\n",
    "* [DataClient](http://citrineinformatics.github.io/python-citrination-client/tutorial/data_examples.html) - This allows you to create datasets and upload PIF data (only) using the API.\n",
    "  * There is also a corresponding [tutorial](1_data_client_api_tutorial.ipynb).\n",
    "\n",
    "* [DataViewsClient](http://citrineinformatics.github.io/python-citrination-client/tutorial/view_examples.html) - This allows you to build views (i.e. train ML models) using the API.\n",
    "  * There is also a corresponding [tutorial](2_data_views_api_tutorial.ipynb).\n",
    "  \n",
    "* [ModelsClient](http://citrineinformatics.github.io/python-citrination-client/tutorial/models_examples.html) - This allows you to submit predict and design runs using the API.\n",
    "  * There is also a corresponding [tutorial](3_models_client_api_tutorial.ipynb)."
   ]
  }
 ],
 "metadata": {
  "kernelspec": {
   "display_name": "Python 3",
   "language": "python",
   "name": "python3"
  },
  "language_info": {
   "codemirror_mode": {
    "name": "ipython",
    "version": 3
   },
   "file_extension": ".py",
   "mimetype": "text/x-python",
   "name": "python",
   "nbconvert_exporter": "python",
   "pygments_lexer": "ipython3",
   "version": "3.7.2"
  }
 },
 "nbformat": 4,
 "nbformat_minor": 2
}
