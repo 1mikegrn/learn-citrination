{
 "cells": [
  {
   "cell_type": "markdown",
   "metadata": {},
   "source": [
    "![Banner logo](https://raw.githubusercontent.com/CitrineInformatics/community-tools/master/templates/fig/citrine_banner_2.png)"
   ]
  },
  {
   "cell_type": "markdown",
   "metadata": {
    "slideshow": {
     "slide_type": "slide"
    }
   },
   "source": [
    "# Experimental design with Citrination\n",
    "\n",
    "In this notebook, we demonstrate how to use Citrination to select experiments (or simulations, or literature searches) to maximize the impact on an optimization problem."
   ]
  },
  {
   "cell_type": "markdown",
   "metadata": {
    "slideshow": {
     "slide_type": "subslide"
    }
   },
   "source": [
    "## Case study: thermoelectrics\n",
    "\n",
    "Given a list of thermoelectric candidates, how many experiments do we need to find the best one?\n",
    "\n",
    "Here, _best_ will be with respect to the thermoelecric figure of merit, ZT:\n",
    "\n",
    "$$ ZT = \\frac{\\sigma S^2 T}{\\lambda}, $$\n",
    "\n",
    "where $\\sigma$ is the electrical conductivity, $S$ is the Seebeck coefficient, $T$ is the temperature, and $\\lambda$ is the thermal conductivity.  Higher is better."
   ]
  },
  {
   "cell_type": "markdown",
   "metadata": {},
   "source": [
    "## Python package imports"
   ]
  },
  {
   "cell_type": "code",
   "execution_count": null,
   "metadata": {
    "slideshow": {
     "slide_type": "skip"
    }
   },
   "outputs": [],
   "source": [
    "# Standard packages\n",
    "from os import environ\n",
    "from random import shuffle, seed\n",
    "from math import sqrt\n",
    "\n",
    "# Third-party packages\n",
    "from scipy.special import erf\n",
    "import pandas as pd\n",
    "from citrination_client import CitrinationClient\n",
    "from citrination_client import PifSystemQuery, PifSystemReturningQuery\n",
    "from citrination_client import FieldQuery, ValueQuery, NameQuery\n",
    "from citrination_client import PropertyQuery,DataQuery, DatasetQuery, ChemicalFieldQuery, Filter"
   ]
  },
  {
   "cell_type": "markdown",
   "metadata": {
    "slideshow": {
     "slide_type": "slide"
    }
   },
   "source": [
    "## Getting the data\n",
    "\n",
    "We begin by querying for the thermoelectric dataset, which is on Citrination [here](https://citrination.com/datasets/150888).  We want the formula and zT"
   ]
  },
  {
   "cell_type": "code",
   "execution_count": null,
   "metadata": {
    "slideshow": {
     "slide_type": "fragment"
    }
   },
   "outputs": [],
   "source": [
    "dataset_id = 150888\n",
    "\n",
    "system_query = PifSystemQuery(\n",
    "    chemical_formula=ChemicalFieldQuery(\n",
    "        extract_as=\"formula\"),\n",
    "    properties=PropertyQuery(\n",
    "        name=FieldQuery(\n",
    "            filter=[Filter(equal=\"ZT\")]),\n",
    "        value=FieldQuery(\n",
    "            extract_as=\"ZT\")))\n",
    "\n",
    "thermoelectric_query = PifSystemReturningQuery(\n",
    "                        size=1000,\n",
    "                        random_seed=0,\n",
    "                        query=DataQuery(\n",
    "                            dataset=DatasetQuery(\n",
    "                                id=[Filter(equal='150888')]),\n",
    "                        system=system_query))"
   ]
  },
  {
   "cell_type": "markdown",
   "metadata": {
    "slideshow": {
     "slide_type": "subslide"
    }
   },
   "source": [
    "Let's run it and see what we get:"
   ]
  },
  {
   "cell_type": "code",
   "execution_count": null,
   "metadata": {
    "slideshow": {
     "slide_type": "fragment"
    }
   },
   "outputs": [],
   "source": [
    "client = CitrinationClient(api_key=environ['CITRINATION_API_KEY'], site='https://citrination.com')\n",
    "search_result = client.search.pif_search(thermoelectric_query)\n",
    "print(\"We found {} records\".format(search_result.total_num_hits))\n",
    "print([x.extracted for x in search_result.hits[0:2]])"
   ]
  },
  {
   "cell_type": "markdown",
   "metadata": {
    "slideshow": {
     "slide_type": "subslide"
    }
   },
   "source": [
    "This dataset has all the zT values already, so we want to drop most of them before trying to design an experiment:"
   ]
  },
  {
   "cell_type": "code",
   "execution_count": null,
   "metadata": {
    "slideshow": {
     "slide_type": "fragment"
    }
   },
   "outputs": [],
   "source": [
    "seed(1)\n",
    "full_data = [x.extracted.copy() for x in search_result.hits]\n",
    "shuffle(full_data)\n",
    "known_subset = full_data[:20]\n",
    "unknown_subset = full_data[20:]\n",
    "for x in unknown_subset: \n",
    "    del x['ZT']"
   ]
  },
  {
   "cell_type": "markdown",
   "metadata": {
    "slideshow": {
     "slide_type": "fragment"
    }
   },
   "source": [
    "Our goal is to pick the best material to measure next from `unknown_subset`."
   ]
  },
  {
   "cell_type": "markdown",
   "metadata": {
    "slideshow": {
     "slide_type": "slide"
    }
   },
   "source": [
    "## Training a model on the known data"
   ]
  },
  {
   "cell_type": "markdown",
   "metadata": {
    "slideshow": {
     "slide_type": "fragment"
    }
   },
   "source": [
    "We train a model using the CSV -> dataset -> data view workflow described in the [ML on Citrination tutorial](tutorial_sequence/4_MLonCitrination.ipynb)."
   ]
  },
  {
   "cell_type": "markdown",
   "metadata": {
    "slideshow": {
     "slide_type": "subslide"
    }
   },
   "source": [
    "### Create a CSV\n",
    "\n",
    "The CSV needs headers that conform to our [CSV template](http://help.citrination.com/knowledgebase/articles/1188136)."
   ]
  },
  {
   "cell_type": "code",
   "execution_count": null,
   "metadata": {
    "slideshow": {
     "slide_type": "fragment"
    }
   },
   "outputs": [],
   "source": [
    "def write_csv(name, rows):\n",
    "    with open(name, \"w\") as f:\n",
    "        f.write(\"FORMULA, PROPERTY: ZT \\n\")\n",
    "        for row in rows:\n",
    "            f.write(\"{formula:s}, {ZT:s}\\n\".format(**row))\n",
    "\n",
    "write_csv('known_thermoelectrics.csv', known_subset)"
   ]
  },
  {
   "cell_type": "markdown",
   "metadata": {
    "slideshow": {
     "slide_type": "subslide"
    }
   },
   "source": [
    "The rest of the model building process is on the website:\n",
    " 1. Go to the [Add Datasets](https://citrination.com/add_data) page and upload `known_thermoelectrics.csv` using the `Citrine: Template CSV` ingester from the drop down menu.\n",
    " 1. Go to the [Data Views page](https://citrination.com/data_views) and click \"Create new data view.\"\n",
    " 1. Search for the property name \"ZT\" and select the dataset you created before.  Advance with the \"NEXT >\" button in the top right corner.\n",
    " 1. Follow the guide to create a data view that has `formula` as an input and `ZT` as an output."
   ]
  },
  {
   "cell_type": "markdown",
   "metadata": {
    "slideshow": {
     "slide_type": "slide"
    }
   },
   "source": [
    "## Apply the model to unknown data"
   ]
  },
  {
   "cell_type": "markdown",
   "metadata": {
    "slideshow": {
     "slide_type": "fragment"
    }
   },
   "source": [
    "First, we'll use the trained model to make predictions via the API.  Change the `view_id` below to point to your view."
   ]
  },
  {
   "cell_type": "code",
   "execution_count": null,
   "metadata": {
    "slideshow": {
     "slide_type": "fragment"
    }
   },
   "outputs": [],
   "source": [
    "view_id = \"3904\"\n",
    "inputs = [{\"formula\": \"TiO2\"}]\n",
    "prediction = client.models.predict(view_id, inputs, method=\"scalar\")\n",
    "\n",
    "print(\"The unknown material is {}.\".format(inputs[0]['formula']))\n",
    "print(\"We predict the ZT of {0} (@ 300K) to be {1:.4f} +/- {2:.4f}.\".format(\n",
    "    inputs[0]['formula'],\n",
    "    prediction[0].get_value('Property ZT').value,\n",
    "    prediction[0].get_value('Property ZT').loss))"
   ]
  },
  {
   "cell_type": "markdown",
   "metadata": {
    "slideshow": {
     "slide_type": "subslide"
    }
   },
   "source": [
    "### Maximum likelihood of improvement\n",
    "\n",
    "This tutorial is about _experimental design_, so we need to pick a criterion for experimental selection.\n",
    "\n",
    "There are many, but a straight forward and powerful one is \"maximum likelihood of improvement,\" which is easy to compute if we assume the output distribution is normal."
   ]
  },
  {
   "cell_type": "code",
   "execution_count": null,
   "metadata": {
    "slideshow": {
     "slide_type": "fragment"
    }
   },
   "outputs": [],
   "source": [
    "def probability_improvement(mean, sigma, baseline):\n",
    "    return float(0.5 * (1.0 + erf((mean - baseline) / (sigma * sqrt(2.0)))))"
   ]
  },
  {
   "cell_type": "markdown",
   "metadata": {
    "slideshow": {
     "slide_type": "subslide"
    }
   },
   "source": [
    "What is the baseline?  The largest value in the known data:"
   ]
  },
  {
   "cell_type": "code",
   "execution_count": null,
   "metadata": {
    "slideshow": {
     "slide_type": "fragment"
    }
   },
   "outputs": [],
   "source": [
    "baseline_ZT = max(float(x['ZT']) for x in known_subset)\n",
    "print(\"The highest ZT value in the known subset is {}.\".format(baseline_ZT))"
   ]
  },
  {
   "cell_type": "markdown",
   "metadata": {
    "slideshow": {
     "slide_type": "subslide"
    }
   },
   "source": [
    "Now let's screen the unknown materials for likelihood of improvement:"
   ]
  },
  {
   "cell_type": "code",
   "execution_count": null,
   "metadata": {
    "slideshow": {
     "slide_type": "fragment"
    }
   },
   "outputs": [],
   "source": [
    "predictions = client.models.predict(view_id, unknown_subset)\n",
    "for p in predictions:\n",
    "    p_value = p.get_value('Property ZT')\n",
    "    p.add_value('LI', probability_improvement(float(p_value.value), float(p_value.loss), baseline_ZT))"
   ]
  },
  {
   "cell_type": "markdown",
   "metadata": {
    "slideshow": {
     "slide_type": "subslide"
    }
   },
   "source": [
    "Pandas can help us look at the result.  The top values for \"LI\" are the ones we should try next."
   ]
  },
  {
   "cell_type": "code",
   "execution_count": null,
   "metadata": {},
   "outputs": [],
   "source": [
    "top_predictions = []\n",
    "for p in predictions:\n",
    "    li, form, zt = p.get_value('LI'), p.get_value('formula'), p.get_value('Property ZT')\n",
    "    if li > 1e-03:\n",
    "        top_predictions.append((form.value, [zt.value, zt.loss], li))\n",
    "        \n",
    "df = pd.DataFrame(top_predictions, columns=['formula', 'Property ZT', 'LI'])\n",
    "df['Property ZT'] = df['Property ZT'].map(lambda x: \"{:5.2f} +/- {:5.2f}\".format(*x))\n",
    "df['LI'] = df['LI'].map(lambda x: \"{:5.3f}\".format(x))\n",
    "\n",
    "df.sort_values('LI', axis=0, ascending=False).head()"
   ]
  },
  {
   "cell_type": "markdown",
   "metadata": {
    "slideshow": {
     "slide_type": "fragment"
    }
   },
   "source": [
    "These materials have a likelihood of improvement below 50%, i.e. their expected ZT value is below the highest value in the dataset.  Therefore, they are biased towards materials with high model uncertainty as well."
   ]
  }
 ],
 "metadata": {
  "anaconda-cloud": {},
  "kernelspec": {
   "display_name": "Python 3",
   "language": "python",
   "name": "python3"
  },
  "language_info": {
   "codemirror_mode": {
    "name": "ipython",
    "version": 3
   },
   "file_extension": ".py",
   "mimetype": "text/x-python",
   "name": "python",
   "nbconvert_exporter": "python",
   "pygments_lexer": "ipython3",
   "version": "3.7.2"
  }
 },
 "nbformat": 4,
 "nbformat_minor": 2
}
