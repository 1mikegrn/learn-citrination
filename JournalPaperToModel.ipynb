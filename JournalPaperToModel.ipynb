{
 "cells": [
  {
   "cell_type": "markdown",
   "metadata": {},
   "source": [
    "# Citrination Demo on Shape Memory Alloys\n",
    "*Authors: Carena Church, Enze Chen, Julia Ling*\n",
    "\n",
    "In this demo, we will look at how we can take data directly out of papers use them to build predictive models on the Citrination UI. We will work with a dataset for [shape memory alloys](https://en.wikipedia.org/wiki/Shape-memory_alloy) (SMAs), which are materials that are able to \"remember\" their shape such that post-deformation, they will return to their pre-deformed shape when heated. They present an attractive alternative to motorized actuators for many applications."
   ]
  },
  {
   "cell_type": "markdown",
   "metadata": {},
   "source": [
    "## Background knowledge\n",
    "To get the most out of this demo, it is helpful to be familiar with:\n",
    "* Python, and the [`pandas`](http://pandas.pydata.org/) library in particular.\n",
    "* The main features on [Citrination](https://citrination.com). Tutorials for each feature can be found [here](https://github.com/CitrineInformatics/community-tools/tree/master/web_ui_examples)."
   ]
  },
  {
   "cell_type": "markdown",
   "metadata": {},
   "source": [
    "## Imports"
   ]
  },
  {
   "cell_type": "code",
   "execution_count": 1,
   "metadata": {},
   "outputs": [],
   "source": [
    "import pandas as pd"
   ]
  },
  {
   "cell_type": "markdown",
   "metadata": {},
   "source": [
    "## Step 1: Read interesting paper, get data\n",
    "\n",
    "A recent paper by [Xue et al. (2017)](https://www.sciencedirect.com/science/article/abs/pii/S1359645416309454) presented results on how optimal experimental design can be used to discover new SMAs. Specifically, they investigated the correlation between the alloy composition and the transition temperature.\n",
    "\n",
    "In the paper by Xue et al., there is a data table in the supplementary files, which can be downloaded and saved as a CSV. This CSV is available in the `sma_demo/` folder as `Xue_data.csv`."
   ]
  },
  {
   "cell_type": "markdown",
   "metadata": {},
   "source": [
    "## Step 2: Pre-process data\n",
    "\n",
    "In the data table, the formula of the different alloys is not one of the columns. However, Citrination tends to give better predictions when the formula is available. So, let's do some pre-processing in Python to get the formula. The result of this pre-processing step is available as `sma_demo/Xue_data_with_formula.csv`."
   ]
  },
  {
   "cell_type": "code",
   "execution_count": 2,
   "metadata": {},
   "outputs": [],
   "source": [
    "#  Read in CSV to pandas dataframe\n",
    "data = pd.read_csv(\"./sma_demo/Xue_data.csv\", delimiter=',')\n",
    "num_points = data.shape[0]\n",
    "\n",
    "#  Create a pandas series to hold the formula\n",
    "formula = pd.Series(num_points, index=data.index)\n",
    "for i in range(num_points):\n",
    "    string = \"Ti0.5\" # All alloys in the dataset are 50% titanium\n",
    "    elements = [\"Ni\", \"Cu\", \"Fe\", \"Pd\"]\n",
    "    for el in elements:\n",
    "        if data[el][i] > 0:\n",
    "            string += el + str(data[el][i]/100.)\n",
    "    formula[i] = string\n",
    "data = data.rename(index=str, columns={h:'PROPERTY: '+ h for h in list(data.columns)})\n",
    "data = data.assign(formula=formula.values)\n",
    "\n",
    "#  Write output to new CSV\n",
    "data.to_csv(\"./sma_demo/Xue_data_with_formula.csv\", index=False, header=True)"
   ]
  },
  {
   "cell_type": "markdown",
   "metadata": {},
   "source": [
    "![CSV post-process](sma_demo/csv_postprocess.png \"CSV post-process\")"
   ]
  },
  {
   "cell_type": "markdown",
   "metadata": {},
   "source": [
    "## Step 3: Upload the data to Citrination\n",
    "\n",
    "Once we have the CSV of the data from the table, we can [upload it](https://citrination.com/add_data) to Citrination. We'll need to choose a name and description for our dataset. Make sure to select the [Citrine: Template CSV](https://help.citrination.com/knowledgebase/articles/1188136-citrine-template-csv-csv) ingester from the drop down menu. Then click \"Submit Files.\""
   ]
  },
  {
   "cell_type": "markdown",
   "metadata": {},
   "source": [
    "## Step 4: Create a data view and model\n",
    "\n",
    "Now we can create a new [data view](https://citrination.com/data_views) using our new dataset. Go ahead and include all of the properties as column headers, except the elemental concentrations (Cu, Fe, Ni, Pd, Ti) which are already incorporated in \"formula.\" When we're done, click \"NEXT,\" which will prompt us for a name and description:"
   ]
  },
  {
   "cell_type": "markdown",
   "metadata": {},
   "source": [
    "![Data view](sma_demo/dataview_2.png \"Data view\")"
   ]
  },
  {
   "cell_type": "markdown",
   "metadata": {},
   "source": [
    "After we click \"SAVE,\" let's go ahead and configure ML. This next part might be slightly tedious, but we will set \"Tp,\" the transition temperature, to be the only Output and change every other column to be an Input. Click \"Save\" when we're finished.\n",
    "\n",
    "With ML configured, models will start to train in the background. After waiting for a short while, the training will complete and we can see the performance of our model under the \"Reports\" tab."
   ]
  },
  {
   "cell_type": "markdown",
   "metadata": {},
   "source": [
    "## Step 5: Analyze model reports\n",
    "\n",
    "Now we can do things like look at model predictions at new test points (**Predict** tab), visualize our dataset using t-SNE (**Data Summary** tab), or examine the model quality (**Model Report** tab).\n",
    "\n",
    "In the t-SNE plot under Data Summary, for example, we can easily spot clusters in our data and how the transition temperature differs among the groups of alloys. It appears that alloys with Pd in them tend to have a higher transition temperature."
   ]
  },
  {
   "cell_type": "markdown",
   "metadata": {},
   "source": [
    "![t-SNE](sma_demo/tsne.png \"t-SNE\")"
   ]
  },
  {
   "cell_type": "markdown",
   "metadata": {},
   "source": [
    "In the Model Reports, we can see that the most important features in creating the ML model are the *Elemental crystal structure* and *Trouton's Ratio*. We can also look at the cross-validation predictions of our ML model, along with the associated error bars."
   ]
  },
  {
   "cell_type": "markdown",
   "metadata": {},
   "source": [
    "![ML parity plot](sma_demo/ml_predictions.png \"ML parity plot\")"
   ]
  },
  {
   "cell_type": "markdown",
   "metadata": {},
   "source": [
    "As this plot shows, our ML model for the transition temperature is pretty good! Quantitatively, the non-dimensional model error is 0.542, indicating that this model can be very effective for experimental design and making predictions for new alloy compositions. \n",
    "\n",
    "If we navigate to the **Design** tab, we can set up a design run and have the Citrination platform generate candidates to guide future experiments. The data from these experiments can then be added to the dataset to improve the quality of our models after retraining."
   ]
  },
  {
   "cell_type": "markdown",
   "metadata": {},
   "source": [
    "![Design](sma_demo/design.png \"Design\")"
   ]
  },
  {
   "cell_type": "markdown",
   "metadata": {},
   "source": [
    "## Conclusion\n",
    "Congratulations! You now know how to go from reading an interesting journal article to creating a new machine learning model. Some key takeaways include:\n",
    "* How to upload CSV files onto Citrination\n",
    "* How to select columns during ML configuration\n",
    "* How to interpret model reports\n",
    "* How to set up a design run to generate candidate materials"
   ]
  }
 ],
 "metadata": {
  "kernelspec": {
   "display_name": "Python 3",
   "language": "python",
   "name": "python3"
  },
  "language_info": {
   "codemirror_mode": {
    "name": "ipython",
    "version": 3
   },
   "file_extension": ".py",
   "mimetype": "text/x-python",
   "name": "python",
   "nbconvert_exporter": "python",
   "pygments_lexer": "ipython3",
   "version": "3.7.2"
  }
 },
 "nbformat": 4,
 "nbformat_minor": 2
}
