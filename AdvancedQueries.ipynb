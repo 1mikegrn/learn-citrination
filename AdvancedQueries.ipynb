{
 "cells": [
  {
   "cell_type": "markdown",
   "metadata": {},
   "source": [
    "# Advanced Queries\n",
    "*Authors: Max Hutchinson, Carena Church, Enze Chen*\n",
    "\n",
    "In this notebook, we will continue our discussion of the query language and the `SearchClient` API."
   ]
  },
  {
   "cell_type": "markdown",
   "metadata": {},
   "source": [
    "## Background knowledge\n",
    "To get the most out of this tutorial, you should be familiar with:\n",
    "* Everything in the [Intro to Queries tutorial](IntroQueries.ipynb)."
   ]
  },
  {
   "cell_type": "markdown",
   "metadata": {},
   "source": [
    "## Python package imports"
   ]
  },
  {
   "cell_type": "code",
   "execution_count": 7,
   "metadata": {},
   "outputs": [],
   "source": [
    "# Standard packages\n",
    "from os import environ\n",
    "\n",
    "# Third-party packages\n",
    "from citrination_client import CitrinationClient\n",
    "from citrination_client import PifSystemReturningQuery, PifSystemQuery, FieldQuery, ValueQuery\n",
    "from citrination_client import PropertyQuery, DataQuery, DatasetQuery, ChemicalFieldQuery, ChemicalFilter, Filter\n",
    "from pypif import pif"
   ]
  },
  {
   "cell_type": "markdown",
   "metadata": {
    "collapsed": true,
    "slideshow": {
     "slide_type": "slide"
    }
   },
   "source": [
    "## Query structure mirrors PIF structure\n",
    "You can query subsystems, processing steps, properties, conditions of properties etc. by creating a query that matches the object hierarchy to the section you want to query."
   ]
  },
  {
   "cell_type": "markdown",
   "metadata": {
    "collapsed": true,
    "slideshow": {
     "slide_type": "slide"
    }
   },
   "source": [
    "### Flattening the PIF structure\n",
    "`extract_as` creates a flattened dictionary structure mapping user supplied keys to objects in the PIF that match within the query.\n",
    "\n",
    "`extract_all` is an option for `extract_as` that pulls a list of all objects at the level in the hierarchy that match the query.\n",
    "\n",
    "Let's search for the \"Enthalpy of Formation\" property:"
   ]
  },
  {
   "cell_type": "code",
   "execution_count": 8,
   "metadata": {},
   "outputs": [
    {
     "name": "stdout",
     "output_type": "stream",
     "text": [
      "69640 hits.\n",
      "\n",
      "Extracted fields:\n",
      "{\n",
      "    \"formation_enthalpy\": [\n",
      "        \"0.0\"\n",
      "    ]\n",
      "}\n",
      "{\n",
      "    \"formation_enthalpy\": [\n",
      "        \"0.1074050600000005\"\n",
      "    ]\n",
      "}\n"
     ]
    }
   ],
   "source": [
    "# Initialize the SearchClient\n",
    "client = CitrinationClient(environ['CITRINATION_API_KEY'], 'https://citrination.com')\n",
    "search_client = client.search\n",
    "\n",
    "dataset_id = 150675\n",
    "query_size = 10\n",
    "\n",
    "system_query = PifSystemReturningQuery(\n",
    "            size=query_size,\n",
    "            query=DataQuery(\n",
    "                dataset=DatasetQuery(\n",
    "                    id=[Filter(equal=str(dataset_id))]),\n",
    "                chemical_formula=ChemicalFieldQuery(\n",
    "                    extract_as='formula',\n",
    "                    filter=ChemicalFilter(\n",
    "                        equal='CdTe')),\n",
    "                system=PifSystemQuery(\n",
    "                    properties=PropertyQuery(\n",
    "                        extract_all=True,\n",
    "                        name=FieldQuery(\n",
    "                            filter=[Filter(equal=\"Enthalpy of Formation\")]),\n",
    "                        value=FieldQuery(\n",
    "                            extract_as=\"formation_enthalpy\",\n",
    "                            extract_all=True)))))\n",
    "\n",
    "query_result = search_client.pif_search(system_query)\n",
    "print(\"{} hits.\\n\".format(query_result.total_num_hits))\n",
    "print(\"Extracted fields:\")\n",
    "for i in range(2):\n",
    "    print(pif.dumps(query_result.hits[i].extracted, indent=4))"
   ]
  },
  {
   "cell_type": "markdown",
   "metadata": {
    "collapsed": true,
    "slideshow": {
     "slide_type": "slide"
    }
   },
   "source": [
    "## Chemical formula search\n",
    "Citrine has developed specialized search functionality specifically for chemical formulas. The analyzer parses the search string and recognizes chemical entities such as elements and stoichiometries to find chemically relevant results.\n",
    "\n",
    "1. You can use `generate_simple_chemical_query()` with a simple search string like \"PbSe\" or,\n",
    "2. You can structure a `PifSystemReturningQuery` with more detailed elemental and stoichiometric strings.\n",
    "\n",
    "Let's search over the Materials Project dataset using ```mp_dataset_id = 150675``` as the dataset_id. We will restrict the query size of the `simple_chemical_query` to 10000, which is the `max_query_size` and will avoid triggering a warning."
   ]
  },
  {
   "cell_type": "code",
   "execution_count": 9,
   "metadata": {},
   "outputs": [
    {
     "name": "stdout",
     "output_type": "stream",
     "text": [
      "4 total hits.\n",
      "\n",
      "{\"property_units\": \"g/cm$^3$\", \"name\": \"Lead selenide - HP\", \"property_value\": \"8.767862185821011\", \"chemical_formula\": \"PbSe\", \"property_name\": \"Density\"}\n",
      "\n",
      "\n",
      "{\"property_units\": \"g/cm$^3$\", \"name\": \"Lead selenide\", \"property_value\": \"4.062929739915243\", \"chemical_formula\": \"PbSe\", \"property_name\": \"Density\"}\n",
      "\n",
      "\n",
      "{\"property_units\": \"g/cm$^3$\", \"name\": \"Clausthalite\", \"property_value\": \"7.872521935843158\", \"chemical_formula\": \"PbSe\", \"property_name\": \"Density\"}\n",
      "\n",
      "\n",
      "{\"property_units\": \"g/cm$^3$\", \"name\": \"Nickel lead selenide (3/2/2)\", \"property_value\": \"9.207453481307569\", \"chemical_formula\": \"Ni3(PbSe)2\", \"property_name\": \"Density\"}\n",
      "\n",
      "\n"
     ]
    }
   ],
   "source": [
    "mp_dataset_id = 150675\n",
    "query_size = 10000\n",
    "simple_query = search_client.generate_simple_chemical_query(chemical_formula=\"PbSe\", include_datasets=[mp_dataset_id],\n",
    "                                                            size=query_size)\n",
    "search_result = search_client.pif_search(simple_query)\n",
    "num_pifs = search_result.total_num_hits\n",
    "print(\"{} total hits.\\n\".format(num_pifs))\n",
    "\n",
    "for i in range(num_pifs):\n",
    "    print(pif.dumps(search_result.hits[i].extracted))\n",
    "    print(\"\\n\")"
   ]
  },
  {
   "cell_type": "markdown",
   "metadata": {},
   "source": [
    "### `formula_filter`\n",
    "Now let's explore the different filters we can apply to chemical formulas. We will first write a helper method that applies a `ChemicalFilter` to the `chemical_formula` field of a `PifSystemQuery`. Note that the wildcard character `?` can match any element."
   ]
  },
  {
   "cell_type": "code",
   "execution_count": 15,
   "metadata": {},
   "outputs": [],
   "source": [
    "def formula_filter(filter_flag):\n",
    "    chemical_filter = None\n",
    "    if filter_flag == 'Gallium':\n",
    "        chemical_filter = ChemicalFilter(equal='Ga')\n",
    "    elif filter_flag == 'Ternary':\n",
    "        chemical_filter = ChemicalFilter(equal='?x?y?z')\n",
    "    elif filter_flag == 'Oxides':\n",
    "        chemical_filter = ChemicalFilter(equal='?xOy')\n",
    "    elif filter_flag == 'Single oxides':\n",
    "        chemical_filter = ChemicalFilter(equal='?1O1')\n",
    "        \n",
    "    query_filter = PifSystemReturningQuery(\n",
    "                    size=query_size,\n",
    "                    random_results=True,\n",
    "                    query=DataQuery(\n",
    "                        dataset=DatasetQuery(\n",
    "                            id=[Filter(equal=str(mp_dataset_id))]),\n",
    "                        system=PifSystemQuery(\n",
    "                            chemical_formula=ChemicalFieldQuery(\n",
    "                                extract_all=True,\n",
    "                                extract_as='formula',\n",
    "                                filter=chemical_filter))))\n",
    "    return query_filter"
   ]
  },
  {
   "cell_type": "markdown",
   "metadata": {},
   "source": [
    "### #nofilter—Return all materials in the Materials Project\n",
    "First we will apply a filter to the dataset ID to query only within the Materials Project Database on Citrination."
   ]
  },
  {
   "cell_type": "code",
   "execution_count": 17,
   "metadata": {},
   "outputs": [
    {
     "name": "stdout",
     "output_type": "stream",
     "text": [
      "69640 total hits, the first 5 of which are:\n",
      "{\"formula\": [\"Sc29Fe6\"]}\n",
      "{\"formula\": [\"La2ZnO4\"]}\n",
      "{\"formula\": [\"Mg(VS2)2\"]}\n",
      "{\"formula\": [\"V2Co(PO5)2\"]}\n",
      "{\"formula\": [\"CeAl3\"]}\n"
     ]
    }
   ],
   "source": [
    "query_size = 5\n",
    "query_filter_none = formula_filter('None')\n",
    "search_result = search_client.pif_search(query_filter_none)\n",
    "print(\"{} total hits, the first 5 of which are:\".format(search_result.total_num_hits))\n",
    "for i in range(5):\n",
    "    print(pif.dumps(search_result.hits[i].extracted))"
   ]
  },
  {
   "cell_type": "markdown",
   "metadata": {},
   "source": [
    "### Filter for Gallium-containing compounds\n",
    "Next we will apply a filter for the `chemical_formula` to select the subset of materials containing the element Gallium."
   ]
  },
  {
   "cell_type": "code",
   "execution_count": 18,
   "metadata": {},
   "outputs": [
    {
     "name": "stdout",
     "output_type": "stream",
     "text": [
      "23 total hits, the first 5 of which are:\n",
      "{\"formula\": [\"Ga(MoSe2)4\"]}\n",
      "{\"formula\": [\"GaS\"]}\n",
      "{\"formula\": [\"Ga(IO3)3\"]}\n",
      "{\"formula\": [\"Ga\"]}\n",
      "{\"formula\": [\"Ga(SbCl)4\"]}\n"
     ]
    }
   ],
   "source": [
    "query_filter_Ga = formula_filter('Gallium')\n",
    "search_result = search_client.pif_search(query_filter_Ga)\n",
    "print(\"{} total hits, the first 5 of which are:\".format(search_result.total_num_hits))\n",
    "for i in range(5):\n",
    "    print(pif.dumps(search_result.hits[i].extracted))"
   ]
  },
  {
   "cell_type": "markdown",
   "metadata": {},
   "source": [
    "### Filter for ternary compounds\n",
    "Next, we will apply a different filter to the `chemical_formula` to select the subset of materials with ternary composition $A_xB_yC_z$."
   ]
  },
  {
   "cell_type": "code",
   "execution_count": 19,
   "metadata": {},
   "outputs": [
    {
     "name": "stdout",
     "output_type": "stream",
     "text": [
      "33017 total hits, the first 5 of which are:\n",
      "{\"formula\": [\"BaSbAu\"]}\n",
      "{\"formula\": [\"PrErTl2\"]}\n",
      "{\"formula\": [\"Cs2ZnCl4\"]}\n",
      "{\"formula\": [\"Ag2SnO3\"]}\n",
      "{\"formula\": [\"La3Ge3Cl2\"]}\n"
     ]
    }
   ],
   "source": [
    "query_filter_ternary = formula_filter('Ternary')\n",
    "search_result = search_client.pif_search(query_filter_ternary)\n",
    "print(\"{} total hits, the first 5 of which are:\".format(search_result.total_num_hits))\n",
    "for i in range(5):\n",
    "    print(pif.dumps(search_result.hits[i].extracted))"
   ]
  },
  {
   "cell_type": "markdown",
   "metadata": {},
   "source": [
    "### Filter for oxides\n",
    "Next, we will apply a different filter to the `chemical_formula` to select the subset of materials that are oxides."
   ]
  },
  {
   "cell_type": "code",
   "execution_count": 20,
   "metadata": {},
   "outputs": [
    {
     "name": "stdout",
     "output_type": "stream",
     "text": [
      "1577 total hits, the first 5 of which are:\n",
      "{\"formula\": [\"SeO3\"]}\n",
      "{\"formula\": [\"RuO2\"]}\n",
      "{\"formula\": [\"Ce4DyO9\"]}\n",
      "{\"formula\": [\"WO3\"]}\n",
      "{\"formula\": [\"Fe2O3\"]}\n"
     ]
    }
   ],
   "source": [
    "query_filter_oxides = formula_filter('Oxides')\n",
    "search_result = search_client.pif_search(query_filter_oxides)\n",
    "print(\"{} total hits, the first 5 of which are:\".format(search_result.total_num_hits))\n",
    "for i in range(5):\n",
    "    print(pif.dumps(search_result.hits[i].extracted))"
   ]
  },
  {
   "cell_type": "markdown",
   "metadata": {},
   "source": [
    "### Filter for single-O oxides\n",
    "Lastly, we will apply a filter to the `chemical_formula` to select the subset of materials that are oxides with only 1 oxygen atom."
   ]
  },
  {
   "cell_type": "code",
   "execution_count": 21,
   "metadata": {},
   "outputs": [
    {
     "name": "stdout",
     "output_type": "stream",
     "text": [
      "121 total hits, the first 5 of which are:\n",
      "{\"formula\": [\"RbO\"]}\n",
      "{\"formula\": [\"FeO\"]}\n",
      "{\"formula\": [\"CO\"]}\n",
      "{\"formula\": [\"CuO\"]}\n",
      "{\"formula\": [\"NpO\"]}\n"
     ]
    }
   ],
   "source": [
    "query_filter_oxides = formula_filter('Single oxides')\n",
    "search_result = client.search.pif_search(query)\n",
    "print(\"{} total hits, the first 5 of which are:\".format(search_result.total_num_hits))\n",
    "for i in range(5):\n",
    "    print( pif.dumps(search_result.hits[i].extracted))"
   ]
  },
  {
   "cell_type": "markdown",
   "metadata": {
    "collapsed": true,
    "slideshow": {
     "slide_type": "slide"
    }
   },
   "source": [
    "## Logical operations\n",
    "\n",
    "We can also include the following logical operations on the filters: `SHOULD, MUST, OPTIONAL, MUST_NOT`."
   ]
  },
  {
   "cell_type": "code",
   "execution_count": 22,
   "metadata": {
    "slideshow": {
     "slide_type": "subslide"
    }
   },
   "outputs": [
    {
     "name": "stdout",
     "output_type": "stream",
     "text": [
      "Logical operation 1: Oxides that MUST NOT have only 1 O atom.\n",
      "1456 total hits, the first 3 of which are:\n",
      "{\"formula\": \"Zr6O11\"}\n",
      "{\"formula\": \"SiO2\"}\n",
      "{\"formula\": \"VO2\"}\n",
      "\n",
      "Logical operation 2: All compounds that MUST have 'Enthalpy of Formation' and 'Band gap', and SHOULD have 'Crystal System'\n",
      "69640 total hits, the first 3 of which are:\n",
      "{\n",
      "    \"crystal system\": \"hexagonal\",\n",
      "    \"formula\": \"CuSe\",\n",
      "    \"H_f\": \"0.09619559236979214\"\n",
      "}\n",
      "{\n",
      "    \"crystal system\": \"monoclinic\",\n",
      "    \"bandgap\": \"2.531\",\n",
      "    \"formula\": \"Gd3Si2Cl5O6\",\n",
      "    \"H_f\": \"-3.2142637892999995\"\n",
      "}\n",
      "{\n",
      "    \"crystal system\": \"triclinic\",\n",
      "    \"bandgap\": \"2.9164999999999996\",\n",
      "    \"formula\": \"NaCa8SmTi10(SiO5)10\",\n",
      "    \"H_f\": \"-3.4735250649270832\"\n",
      "}\n"
     ]
    }
   ],
   "source": [
    "query_size = 3\n",
    "print('Logical operation 1: Oxides that MUST NOT have only 1 O atom.')\n",
    "query_logical1 = PifSystemReturningQuery(\n",
    "            size=query_size,\n",
    "            random_results=True,\n",
    "            query=DataQuery(\n",
    "                dataset=DatasetQuery(\n",
    "                    id=[Filter(equal=str(mp_dataset_id))]),\n",
    "                system=PifSystemQuery(\n",
    "                    chemical_formula=[\n",
    "                        ChemicalFieldQuery(\n",
    "                            extract_as='formula',\n",
    "                            filter=ChemicalFilter(\n",
    "                                equal='?1O1'),\n",
    "                            logic=\"MUST_NOT\"),\n",
    "                        ChemicalFieldQuery(\n",
    "                        extract_as='formula',\n",
    "                            filter=ChemicalFilter(\n",
    "                                equal='?xOy'))]\n",
    "                )))\n",
    "\n",
    "search_result = search_client.pif_search(query_logical1)\n",
    "print(\"{} total hits, the first {} of which are:\".format(search_result.total_num_hits, query_size))\n",
    "for i in range(query_size):\n",
    "    print(pif.dumps(search_result.hits[i].extracted))\n",
    "\n",
    "print(\"\\nLogical operation 2: All compounds that MUST have 'Enthalpy of Formation' and 'Band gap', and SHOULD have 'Crystal System'\")\n",
    "query_logical2 = PifSystemReturningQuery(\n",
    "            size=query_size,\n",
    "            random_results=True,\n",
    "            query=DataQuery(\n",
    "                dataset=DatasetQuery(\n",
    "                    id=[Filter(equal=str(mp_dataset_id))]\n",
    "                ),\n",
    "                system=PifSystemQuery(\n",
    "                    chemical_formula=ChemicalFieldQuery(\n",
    "                        extract_as='formula'\n",
    "                    ),\n",
    "                    properties=[\n",
    "                        PropertyQuery(\n",
    "                            name=FieldQuery(\n",
    "                                filter=[Filter(equal=\"Enthalpy of Formation\")]),\n",
    "                            value=FieldQuery(\n",
    "                                extract_as=\"H_f\",\n",
    "                                logic=\"MUST\")\n",
    "                        ),\n",
    "                        PropertyQuery(\n",
    "                            name=FieldQuery(\n",
    "                                filter=[Filter(equal=\"Band Gap\")]),\n",
    "                            value=FieldQuery(\n",
    "                                filter=[Filter(min=1E-5)],\n",
    "                                extract_as=\"bandgap\",\n",
    "                                logic=\"MUST\")\n",
    "                        ),\n",
    "                         PropertyQuery(\n",
    "                            name=FieldQuery(\n",
    "                                filter=[Filter(equal=\"Crystal System\")]),\n",
    "                            value=FieldQuery(\n",
    "                                extract_as=\"crystal system\",\n",
    "                                logic=\"SHOULD\")\n",
    "                        )]\n",
    "                )))\n",
    "\n",
    "search_result = search_client.pif_search(query_logical2)\n",
    "print(\"{} total hits, the first {} of which are:\".format(search_result.total_num_hits, query_size))\n",
    "for i in range(query_size):\n",
    "    print(pif.dumps(search_result.hits[i].extracted, indent=4))"
   ]
  },
  {
   "cell_type": "markdown",
   "metadata": {
    "collapsed": true
   },
   "source": [
    "## Conclusion\n",
    "This concludes the second tutorial to the query language and the `SearchClient`. We discussed how to use `extract_as` and `extract_all` to return flattened PIFs. Then we discussed how to filter searches by querying specific patterns of chemical formulas. Finally, we gave example of logical operations that can be used to combine different queries. At this point, you should have a good grasp of the search capabilities enabled by the Python Citrination Client."
   ]
  }
 ],
 "metadata": {
  "kernelspec": {
   "display_name": "Python 3",
   "language": "python",
   "name": "python3"
  },
  "language_info": {
   "codemirror_mode": {
    "name": "ipython",
    "version": 3
   },
   "file_extension": ".py",
   "mimetype": "text/x-python",
   "name": "python",
   "nbconvert_exporter": "python",
   "pygments_lexer": "ipython3",
   "version": "3.7.2"
  }
 },
 "nbformat": 4,
 "nbformat_minor": 2
}
