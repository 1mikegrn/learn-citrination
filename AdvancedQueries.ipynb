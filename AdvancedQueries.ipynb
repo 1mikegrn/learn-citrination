{
 "cells": [
  {
   "cell_type": "markdown",
   "metadata": {
    "collapsed": true,
    "slideshow": {
     "slide_type": "slide"
    }
   },
   "source": [
    "## Query structure mirrors pif structure\n",
    "* You can query subsystems, processing steps, properties, conditions of properties etc. by creating a query that matches the object hierarchy to the section you want to query\n"
   ]
  },
  {
   "cell_type": "code",
   "execution_count": 1,
   "metadata": {
    "collapsed": true
   },
   "outputs": [],
   "source": [
    "from citrination_client import CitrinationClient, PifQuery, SystemQuery, Filter, ChemicalFieldOperation, ValueQuery, PropertyQuery, FieldOperation, ChemicalFilter\n",
    "from pypif import pif\n",
    "from os import environ"
   ]
  },
  {
   "cell_type": "markdown",
   "metadata": {
    "collapsed": true,
    "slideshow": {
     "slide_type": "slide"
    }
   },
   "source": [
    "## Flattening the PIF structure\n",
    "\n",
    "extract_as creates a flattened dictionary structure mapping user supplied keys to objects in the PIF that match within the query\n",
    "\n",
    "extract_all is an option for extract_as that pulls a list of all objects at the level in the hierarchy that match the query"
   ]
  },
  {
   "cell_type": "code",
   "execution_count": 2,
   "metadata": {
    "collapsed": false,
    "slideshow": {
     "slide_type": "subslide"
    }
   },
   "outputs": [
    {
     "name": "stdout",
     "output_type": "stream",
     "text": [
      "1 hits\n",
      "Extracted fields:\n",
      "{\n",
      "    \"Critical stress\": \"677.7138222\"\n",
      "}\n"
     ]
    }
   ],
   "source": [
    "client = CitrinationClient(environ['CITRINATION_API_KEY'], 'https://citrination.com')\n",
    "\n",
    "dataset_id = 150713\n",
    "\n",
    "critical_stress = PropertyQuery(name=FieldOperation(filter=Filter(equal=\"Critical Stress\")),\n",
    "                                units=FieldOperation(filter=Filter(equal=\"MPa\")),\n",
    "                                value=FieldOperation(extract_as=\"Critical stress\"))\n",
    "\n",
    "search_result = client.search(PifQuery(include_datasets=[dataset_id], system=SystemQuery(properties=[critical_stress])))\n",
    "\n",
    "print \"{} hits\".format(search_result.total_num_hits)\n",
    "print \"Extracted fields:\"\n",
    "for i in range(search_result.total_num_hits):\n",
    "    print pif.dumps(search_result.hits[i].extracted, indent=4)"
   ]
  },
  {
   "cell_type": "code",
   "execution_count": 131,
   "metadata": {
    "collapsed": false,
    "slideshow": {
     "slide_type": "subslide"
    }
   },
   "outputs": [
    {
     "name": "stdout",
     "output_type": "stream",
     "text": [
      "1 hits\n",
      "Extracted fields:\n",
      "{\n",
      "    \"formula\": \"Li0.0024Ni0.9976O\", \n",
      "    \"Resistivity\": [\n",
      "        \"28.8677\", \n",
      "        \"0.2629\", \n",
      "        \"0.0466\"\n",
      "    ], \n",
      "    \"Temperature\": [\n",
      "        \"400\", \n",
      "        \"700\", \n",
      "        \"1000\"\n",
      "    ]\n",
      "}\n"
     ]
    }
   ],
   "source": [
    "resistivity = PropertyQuery(name=FieldOperation(filter=Filter(equal=\"Resistivity\")),\n",
    "                            units=FieldOperation(filter=Filter(equal=\"Ohm*cm\")),\n",
    "                            value=FieldOperation(extract_as=\"Resistivity\", extract_all=True),\n",
    "                            conditions=ValueQuery(name=FieldOperation(filter=Filter(equal=\"Temperature\")),\n",
    "                                                  units=FieldOperation(filter=Filter(equal=\"K\")),\n",
    "                                                  value=FieldOperation(extract_as=\"Temperature\", extract_all=True))\n",
    "                            )\n",
    "\n",
    "search_result = client.search(PifQuery(include_datasets=[dataset_id], \n",
    "                                       system=SystemQuery(chemical_formula=ChemicalFieldOperation(extract_as=\"formula\"),\n",
    "                                       properties=[resistivity])))\n",
    "\n",
    "print \"{} hits\".format(search_result.total_num_hits)\n",
    "print \"Extracted fields:\"\n",
    "\n",
    "for i in range(search_result.total_num_hits):\n",
    "    print pif.dumps(search_result.hits[i].extracted, indent=4)"
   ]
  },
  {
   "cell_type": "markdown",
   "metadata": {
    "collapsed": true,
    "slideshow": {
     "slide_type": "slide"
    }
   },
   "source": [
    "## Chemical formula search\n",
    "Citrine has developed specialized search functionality specifically for chemical formulas. The analyser parses the search string and recognizes chemical entities such as elements and stoichiometries to find chemically relevant results.\n"
   ]
  },
  {
   "cell_type": "code",
   "execution_count": 3,
   "metadata": {
    "collapsed": false,
    "slideshow": {
     "slide_type": "subslide"
    }
   },
   "outputs": [
    {
     "name": "stdout",
     "output_type": "stream",
     "text": [
      "52265 hits\n",
      "{\"formula\": \"CaZn\"}\n",
      "{\"formula\": \"Ba3Pb5\"}\n",
      "{\"formula\": \"Ba2PbO4\"}\n",
      "{\"formula\": \"RbC\"}\n",
      "{\"formula\": \"GaMo4CS8\"}\n",
      "46 hits\n",
      "{\"formula\": \"Ga\"}\n",
      "{\"formula\": \"GaS\"}\n",
      "{\"formula\": \"Ga(MoS2)4\"}\n",
      "{\"formula\": \"Ga(MoS2)4\"}\n",
      "{\"formula\": \"GaS\"}\n",
      "22860 hits\n",
      "{\"formula\": \"SrCuSb\"}\n",
      "{\"formula\": \"Li7NiN4\"}\n",
      "{\"formula\": \"CaV3O7\"}\n",
      "{\"formula\": \"HoNbO4\"}\n",
      "{\"formula\": \"Pr3AlC\"}\n",
      "2856 hits\n",
      "{\"formula\": \"Ho2O3\"}\n",
      "{\"formula\": \"ZrO2\"}\n",
      "{\"formula\": \"Bi2O3\"}\n",
      "{\"formula\": \"CoO2\"}\n",
      "{\"formula\": \"SiO2\"}\n",
      "438 hits\n",
      "{\"formula\": \"NiO\"}\n",
      "{\"formula\": \"SnO\"}\n",
      "{\"formula\": \"MgO\"}\n",
      "{\"formula\": \"BaO\"}\n",
      "{\"formula\": \"MgO\"}\n"
     ]
    }
   ],
   "source": [
    "mp_dataset_id = 150675\n",
    "\n",
    "query = PifQuery(include_datasets=[mp_dataset_id],\n",
    "                 system=SystemQuery(chemical_formula=ChemicalFieldOperation(extract_as=\"formula\")),\n",
    "                 random_results = True,\n",
    "                 size=5)\n",
    "\n",
    "search_result = client.search(query)\n",
    "print \"{} hits\".format(search_result.total_num_hits)\n",
    "for i in range(5):\n",
    "    print pif.dumps(search_result.hits[i].extracted)\n",
    "    \n",
    "\n",
    "query = PifQuery(include_datasets=[150675],\n",
    "             system=SystemQuery(chemical_formula=ChemicalFieldOperation(\n",
    "                filter=ChemicalFilter(equal='Ga'),\n",
    "                extract_as=\"formula\"\n",
    "             )),\n",
    "             random_results = True,\n",
    "             size=5)\n",
    "\n",
    "search_result = client.search(query)\n",
    "print \"{} hits\".format(search_result.total_num_hits)\n",
    "for i in range(5):\n",
    "    print pif.dumps(search_result.hits[i].extracted)\n",
    "\n",
    "\n",
    "query = PifQuery(include_datasets=[150675],\n",
    "                 system=SystemQuery(chemical_formula=ChemicalFieldOperation(\n",
    "                    filter=ChemicalFilter(equal='?x?y?z'),\n",
    "                    extract_as=\"formula\"\n",
    "                 )),\n",
    "                 random_results = True,\n",
    "                 size=5)\n",
    "\n",
    "search_result = client.search(query)\n",
    "print \"{} hits\".format(search_result.total_num_hits)\n",
    "for i in range(5):\n",
    "    print pif.dumps(search_result.hits[i].extracted)\n",
    "\n",
    "    \n",
    "    \n",
    "query = PifQuery(include_datasets=[150675],\n",
    "                 system=SystemQuery(chemical_formula=ChemicalFieldOperation(\n",
    "                    filter=ChemicalFilter(equal='?xOy'),\n",
    "                    extract_as=\"formula\"\n",
    "                 )),\n",
    "                 random_results = True,\n",
    "                 size=5)\n",
    "\n",
    "search_result = client.search(query)\n",
    "print \"{} hits\".format(search_result.total_num_hits)\n",
    "for i in range(5):\n",
    "    print pif.dumps(search_result.hits[i].extracted)\n",
    "    \n",
    "    \n",
    "query = PifQuery(include_datasets=[150675],\n",
    "                 system=SystemQuery(chemical_formula=ChemicalFieldOperation(\n",
    "                    filter=ChemicalFilter(equal='?1O1'),\n",
    "                    extract_as=\"formula\"\n",
    "                 )),\n",
    "                 random_results = True,\n",
    "                 size=5)\n",
    "\n",
    "search_result = client.search(query)\n",
    "print \"{} hits\".format(search_result.total_num_hits)\n",
    "for i in range(5):\n",
    "    print pif.dumps(search_result.hits[i].extracted)"
   ]
  },
  {
   "cell_type": "markdown",
   "metadata": {
    "collapsed": true
   },
   "source": [
    "## Logical operations\n",
    "\n",
    "SHOULD, MUST, OPTIONAL, MUST_NOT"
   ]
  },
  {
   "cell_type": "code",
   "execution_count": 5,
   "metadata": {
    "collapsed": false
   },
   "outputs": [
    {
     "name": "stdout",
     "output_type": "stream",
     "text": [
      "2418 hits\n",
      "{\"formula\": \"Pr7O12\"}\n",
      "{\"formula\": \"SiO2\"}\n",
      "{\"formula\": \"Nd2O3\"}\n",
      "{\"formula\": \"SiO2\"}\n",
      "{\"formula\": \"H2O\"}\n",
      "52265 hits\n",
      "{\n",
      "    \"H_f\": \"-0.1983459014950011\", \n",
      "    \"formula\": \"Gd(C2N3)3\", \n",
      "    \"Band gap\": \"\"\n",
      "}\n",
      "{\n",
      "    \"H_f\": \"-1.0249150151302089\", \n",
      "    \"formula\": \"RbUAgSe3\", \n",
      "    \"Band gap\": \"\"\n",
      "}\n",
      "{\n",
      "    \"H_f\": \"-0.587220543333333\", \n",
      "    \"formula\": \"Ga2Pt\", \n",
      "    \"Poisson Ratio\": \"0.40899863035664524\", \n",
      "    \"Band gap\": \"0.0\"\n",
      "}\n",
      "{\n",
      "    \"H_f\": \"-0.4788030565151512\", \n",
      "    \"formula\": \"La2Ni5B4\", \n",
      "    \"Band gap\": \"\"\n",
      "}\n",
      "{\n",
      "    \"H_f\": \"-0.16859844000000002\", \n",
      "    \"formula\": \"HgTe\", \n",
      "    \"Poisson Ratio\": \"0.35258469053026087\", \n",
      "    \"Band gap\": \"0.0\"\n",
      "}\n"
     ]
    }
   ],
   "source": [
    "query = PifQuery(include_datasets=[150675],\n",
    "         system=SystemQuery(chemical_formula=[ChemicalFieldOperation(\n",
    "            filter=ChemicalFilter(equal='?xOy'),\n",
    "            extract_as=\"formula\"\n",
    "         ),\n",
    "         ChemicalFieldOperation(\n",
    "            filter=ChemicalFilter(equal='?1O1', logic=\"MUST_NOT\"),\n",
    "            extract_as=\"formula\"\n",
    "         )]),\n",
    "         random_results = True,\n",
    "         size=5)\n",
    "\n",
    "search_result = client.search(query)\n",
    "print \"{} hits\".format(search_result.total_num_hits)\n",
    "for i in range(5):\n",
    "    print pif.dumps(search_result.hits[i].extracted)\n",
    "\n",
    "query = PifQuery(include_datasets=[150675],\n",
    "         system=SystemQuery(chemical_formula=ChemicalFieldOperation(extract_as=\"formula\"),\n",
    "         properties=[PropertyQuery(name=FieldOperation(filter=Filter(equal=\"Enthalpy of Formation\")),\n",
    "                                   value=FieldOperation(extract_as=\"H_f\"),\n",
    "                                   logic=\"SHOULD\"\n",
    "                                  ),\n",
    "                     PropertyQuery(name=FieldOperation(filter=Filter(equal=\"Band Gap\")),\n",
    "                                   value=FieldOperation(extract_as=\"Band gap\",\n",
    "                                                       filter=Filter(min=1E-5)),\n",
    "                                   logic=\"MUST\"\n",
    "                                  ),\n",
    "                     PropertyQuery(name=FieldOperation(filter=Filter(equal=\"Poisson Ratio\")),\n",
    "                                   value=FieldOperation(extract_as=\"Poisson Ratio\"),\n",
    "                                   logic=\"SHOULD\"\n",
    "                                  )\n",
    "                    ]\n",
    "         ),\n",
    "         random_results = True,\n",
    "         size=5)\n",
    "\n",
    "search_result = client.search(query)\n",
    "print \"{} hits\".format(search_result.total_num_hits)\n",
    "for i in range(5):\n",
    "    print pif.dumps(search_result.hits[i].extracted, indent=4)"
   ]
  }
 ],
 "metadata": {
  "celltoolbar": "Slideshow",
  "kernelspec": {
   "display_name": "Python 2",
   "language": "python",
   "name": "python2"
  },
  "language_info": {
   "codemirror_mode": {
    "name": "ipython",
    "version": 2
   },
   "file_extension": ".py",
   "mimetype": "text/x-python",
   "name": "python",
   "nbconvert_exporter": "python",
   "pygments_lexer": "ipython2",
   "version": "2.7.12"
  }
 },
 "nbformat": 4,
 "nbformat_minor": 2
}
