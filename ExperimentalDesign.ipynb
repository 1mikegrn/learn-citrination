{
 "cells": [
  {
   "cell_type": "code",
   "execution_count": 1,
   "metadata": {
    "collapsed": false,
    "slideshow": {
     "slide_type": "skip"
    }
   },
   "outputs": [],
   "source": [
    "from citrination_client import CitrinationClient\n",
    "from os import environ\n",
    "from citrination_client import PifQuery, SystemQuery, PropertyQuery, ChemicalFieldQuery, FieldQuery, Filter\n",
    "client = CitrinationClient(environ['CITRINATION_API_KEY'], 'https://citrination.com')"
   ]
  },
  {
   "cell_type": "markdown",
   "metadata": {
    "slideshow": {
     "slide_type": "slide"
    }
   },
   "source": [
    "# Experimental design with Citrination\n",
    "\n",
    "In this notebook, we demonstrate how to use Citrination to select experiments (or simulations, or literature searches) to maximize the impact on an optimization problem."
   ]
  },
  {
   "cell_type": "markdown",
   "metadata": {
    "slideshow": {
     "slide_type": "subslide"
    }
   },
   "source": [
    "## Case study: thermoelectrics\n",
    "\n",
    "Given a list of thermoelectric candidates, how many experiments do we need to find the best one?"
   ]
  },
  {
   "cell_type": "markdown",
   "metadata": {
    "slideshow": {
     "slide_type": "fragment"
    }
   },
   "source": [
    "Here, _best_ will be with respect to the thermoelecric figure of merit, ZT:\n",
    "    $$ ZT = \\frac{\\sigma S^2 T}{\\lambda}, $$\n",
    "where $\\sigma$ is the electrical conductivity, $S$ is the Seebeck coefficient, $T$ is the temperature, and $\\lambda$ is the thermal conductivity.  Higher is better."
   ]
  },
  {
   "cell_type": "markdown",
   "metadata": {
    "slideshow": {
     "slide_type": "slide"
    }
   },
   "source": [
    "# Getting the data\n",
    "\n",
    "We begin by querying for the thermoelectric dataset, which is on Citrination [here](https://citrination.com/datasets/150888).  We want the formula and zT"
   ]
  },
  {
   "cell_type": "code",
   "execution_count": 2,
   "metadata": {
    "collapsed": false,
    "slideshow": {
     "slide_type": "fragment"
    }
   },
   "outputs": [],
   "source": [
    "system_query = SystemQuery(\n",
    "    chemical_formula=ChemicalFieldQuery(\n",
    "        extract_as=\"Chemical formula\"\n",
    "    ),\n",
    "    properties=PropertyQuery(\n",
    "        name=FieldQuery(\n",
    "            filter=[Filter(equal=\"ZT\")]\n",
    "        ),\n",
    "        value=FieldQuery(\n",
    "            extract_as=\"ZT\"\n",
    "        )\n",
    "    )\n",
    ")\n",
    "thermoelectric_query = PifQuery(include_datasets=[150888], system=system_query)"
   ]
  },
  {
   "cell_type": "markdown",
   "metadata": {
    "slideshow": {
     "slide_type": "subslide"
    }
   },
   "source": [
    "Let's run it and see what we get:"
   ]
  },
  {
   "cell_type": "code",
   "execution_count": 3,
   "metadata": {
    "collapsed": false,
    "slideshow": {
     "slide_type": "fragment"
    }
   },
   "outputs": [
    {
     "name": "stdout",
     "output_type": "stream",
     "text": [
      "We found 165 records\n",
      "[{'Chemical formula': 'La0.98Sr0.02CoO3', 'ZT': '0.026234732'}, {'Chemical formula': 'Zr0.4Hf0.4Ti0.2NiSn', 'ZT': '0.030958179'}]\n"
     ]
    }
   ],
   "source": [
    "search_result = client.search(thermoelectric_query)\n",
    "print(\"We found {} records\".format(search_result.total_num_hits))\n",
    "print([x.extracted for x in search_result.hits[0:2]])"
   ]
  },
  {
   "cell_type": "markdown",
   "metadata": {
    "slideshow": {
     "slide_type": "subslide"
    }
   },
   "source": [
    "This dataset has all the ZT values already, so we want to drop most of them before trying to design an experiment:"
   ]
  },
  {
   "cell_type": "code",
   "execution_count": 4,
   "metadata": {
    "collapsed": false,
    "slideshow": {
     "slide_type": "fragment"
    }
   },
   "outputs": [],
   "source": [
    "from random import shuffle\n",
    "full_data = [x.extracted.copy() for x in search_result.hits]\n",
    "shuffle(full_data)\n",
    "known_subset = full_data[:20]\n",
    "unknown_subset = full_data[20:]\n",
    "for x in unknown_subset: del x['ZT']"
   ]
  },
  {
   "cell_type": "markdown",
   "metadata": {
    "slideshow": {
     "slide_type": "fragment"
    }
   },
   "source": [
    "Our goal is to pick the best material to measaure next from `unknown_subset`."
   ]
  },
  {
   "cell_type": "markdown",
   "metadata": {
    "slideshow": {
     "slide_type": "slide"
    }
   },
   "source": [
    "# Training a model on known data"
   ]
  },
  {
   "cell_type": "markdown",
   "metadata": {
    "slideshow": {
     "slide_type": "fragment"
    }
   },
   "source": [
    "We train a model using the csv -> dataset -> data_view workflow described in the [modeling tutorial](https://github.com/CitrineInformatics/learn-citrination/blob/master/MLonCitrination.ipynb)."
   ]
  },
  {
   "cell_type": "markdown",
   "metadata": {
    "slideshow": {
     "slide_type": "subslide"
    }
   },
   "source": [
    "## Create a csv\n",
    "\n",
    "The csv just needs a header with the property names."
   ]
  },
  {
   "cell_type": "code",
   "execution_count": 5,
   "metadata": {
    "collapsed": false,
    "slideshow": {
     "slide_type": "fragment"
    }
   },
   "outputs": [],
   "source": [
    "def write_csv(name, rows):\n",
    "    with open(name, \"w\") as f:\n",
    "        f.write(\"formula, ZT\\n\")\n",
    "        for row in rows:\n",
    "            f.write(\"{Chemical formula:s}, {ZT:s}\\n\".format(**row))\n",
    "write_csv('known_thermoelectrics.csv', known_subset)"
   ]
  },
  {
   "cell_type": "markdown",
   "metadata": {
    "collapsed": false,
    "scrolled": true,
    "slideshow": {
     "slide_type": "subslide"
    }
   },
   "source": [
    "The rest of the model building process is on the website:\n",
    " 1. Go to the [csv to datasets](https://citrination.com/csv_to_datasets) page and upload `known_thermoelectrics.csv`\n",
    " 1. Follow the guide to create a dataset with formula and ZT values\n",
    " 1. Go to the [data views page](https://citrination.com/data_views) and click \"Create new dataset\"\n",
    " 1. Search for the property name \"ZT\" and select the dataset you created before.  Advance with the \"NEXT >\" button in the top right corner\n",
    " 1. Follow the guide to create a data view that has `formula` and an input and `ZT` as an output"
   ]
  },
  {
   "cell_type": "markdown",
   "metadata": {
    "slideshow": {
     "slide_type": "slide"
    }
   },
   "source": [
    "# Apply the model to unknown data"
   ]
  },
  {
   "cell_type": "markdown",
   "metadata": {
    "slideshow": {
     "slide_type": "fragment"
    }
   },
   "source": [
    "First, let's use the trained model to make predictions via the API.  Change the `view_id` below to point to your view."
   ]
  },
  {
   "cell_type": "code",
   "execution_count": 6,
   "metadata": {
    "collapsed": false,
    "slideshow": {
     "slide_type": "fragment"
    }
   },
   "outputs": [
    {
     "name": "stdout",
     "output_type": "stream",
     "text": [
      "We predict the ZT of PbTe (@ 300K) to be 0.1092344663 +/- 0.04134446022951313\n"
     ]
    }
   ],
   "source": [
    "view_id = 80\n",
    "inputs = [{\"Chemical formula\": \"PbTe\"},]\n",
    "resp = client.predict(str(view_id), inputs)\n",
    "prediction = resp['candidates'][0]['ZT']\n",
    "print(\"We predict the ZT of {} (@ 300K) to be {} +/- {}\".format(inputs[0]['Chemical formula'], *prediction))"
   ]
  },
  {
   "cell_type": "markdown",
   "metadata": {
    "slideshow": {
     "slide_type": "subslide"
    }
   },
   "source": [
    "## Maximum likelihood of improvement\n",
    "\n",
    "This tutorial is about _experimental design_, so we need to pick a criterion for experimental selection.\n",
    "\n",
    "There are many, but a straight forward and powerful one is \"maximum likelihood of improvement\", which is easy to compute if we assume the output distribution is normal."
   ]
  },
  {
   "cell_type": "code",
   "execution_count": 7,
   "metadata": {
    "collapsed": true,
    "slideshow": {
     "slide_type": "fragment"
    }
   },
   "outputs": [],
   "source": [
    "from scipy.special import erf\n",
    "from math import sqrt\n",
    "def probability_improvement(mean, sigma, baseline):\n",
    "    return 0.5 * (1.0 + erf((mean - baseline) / (sigma * sqrt(2.0))))"
   ]
  },
  {
   "cell_type": "markdown",
   "metadata": {
    "slideshow": {
     "slide_type": "subslide"
    }
   },
   "source": [
    "What is the baseline?  The largest value in the known data:"
   ]
  },
  {
   "cell_type": "code",
   "execution_count": 8,
   "metadata": {
    "collapsed": false,
    "slideshow": {
     "slide_type": "fragment"
    }
   },
   "outputs": [
    {
     "name": "stdout",
     "output_type": "stream",
     "text": [
      "The highest ZT value in the known subset is 0.485042171\n"
     ]
    }
   ],
   "source": [
    "baseline_ZT = max(float(x['ZT']) for x in known_subset)\n",
    "print(\"The highest ZT value in the known subset is {}\".format(baseline_ZT))"
   ]
  },
  {
   "cell_type": "markdown",
   "metadata": {
    "slideshow": {
     "slide_type": "subslide"
    }
   },
   "source": [
    "Now let's screen the unknown materials for likelihood of improvement:"
   ]
  },
  {
   "cell_type": "code",
   "execution_count": 9,
   "metadata": {
    "collapsed": false,
    "slideshow": {
     "slide_type": "fragment"
    }
   },
   "outputs": [],
   "source": [
    "predictions = client.predict(str(view_id), unknown_subset)['candidates']\n",
    "for p in predictions:\n",
    "    p['LI'] = probability_improvement(float(p['ZT'][0]), float(p['ZT'][1]), baseline_ZT)"
   ]
  },
  {
   "cell_type": "markdown",
   "metadata": {
    "slideshow": {
     "slide_type": "subslide"
    }
   },
   "source": [
    "Pandas can help us look at the result.  The top values for \"LI\" are the ones we should try next."
   ]
  },
  {
   "cell_type": "code",
   "execution_count": 10,
   "metadata": {
    "collapsed": false
   },
   "outputs": [
    {
     "data": {
      "text/html": [
       "<div>\n",
       "<table border=\"1\" class=\"dataframe\">\n",
       "  <thead>\n",
       "    <tr style=\"text-align: right;\">\n",
       "      <th></th>\n",
       "      <th>Chemical formula</th>\n",
       "      <th>ZT</th>\n",
       "      <th>LI</th>\n",
       "    </tr>\n",
       "  </thead>\n",
       "  <tbody>\n",
       "    <tr>\n",
       "      <th>3</th>\n",
       "      <td>In0.3Co4Sb12</td>\n",
       "      <td>0.13 +/-  0.11</td>\n",
       "      <td>0.001</td>\n",
       "    </tr>\n",
       "    <tr>\n",
       "      <th>0</th>\n",
       "      <td>Na0.02PbTe0.85Se0.15</td>\n",
       "      <td>0.11 +/-  0.04</td>\n",
       "      <td>0.000</td>\n",
       "    </tr>\n",
       "    <tr>\n",
       "      <th>100</th>\n",
       "      <td>Ca0.7Ho0.3MnO3</td>\n",
       "      <td>0.02 +/-  0.01</td>\n",
       "      <td>0.000</td>\n",
       "    </tr>\n",
       "    <tr>\n",
       "      <th>93</th>\n",
       "      <td>Ba8Ga16Ge30</td>\n",
       "      <td>0.10 +/-  0.09</td>\n",
       "      <td>0.000</td>\n",
       "    </tr>\n",
       "    <tr>\n",
       "      <th>94</th>\n",
       "      <td>In2O3</td>\n",
       "      <td>0.08 +/-  0.04</td>\n",
       "      <td>0.000</td>\n",
       "    </tr>\n",
       "    <tr>\n",
       "      <th>95</th>\n",
       "      <td>In0.1Co4Sb12</td>\n",
       "      <td>0.12 +/-  0.10</td>\n",
       "      <td>0.000</td>\n",
       "    </tr>\n",
       "    <tr>\n",
       "      <th>96</th>\n",
       "      <td>Sr0.61Ba0.39Nb2O6</td>\n",
       "      <td>0.02 +/-  0.03</td>\n",
       "      <td>0.000</td>\n",
       "    </tr>\n",
       "    <tr>\n",
       "      <th>97</th>\n",
       "      <td>ZrNiSn</td>\n",
       "      <td>0.11 +/-  0.05</td>\n",
       "      <td>0.000</td>\n",
       "    </tr>\n",
       "    <tr>\n",
       "      <th>98</th>\n",
       "      <td>Mg2Si0.994Bi0.006</td>\n",
       "      <td>0.01 +/-  0.03</td>\n",
       "      <td>0.000</td>\n",
       "    </tr>\n",
       "    <tr>\n",
       "      <th>99</th>\n",
       "      <td>Si0.7956Ge0.1989P0.0055</td>\n",
       "      <td>0.09 +/-  0.02</td>\n",
       "      <td>0.000</td>\n",
       "    </tr>\n",
       "    <tr>\n",
       "      <th>101</th>\n",
       "      <td>CeFe3.5Co0.5Sb12</td>\n",
       "      <td>0.11 +/-  0.09</td>\n",
       "      <td>0.000</td>\n",
       "    </tr>\n",
       "    <tr>\n",
       "      <th>91</th>\n",
       "      <td>Mg2Si0.999Bi0.001</td>\n",
       "      <td>0.01 +/-  0.03</td>\n",
       "      <td>0.000</td>\n",
       "    </tr>\n",
       "    <tr>\n",
       "      <th>102</th>\n",
       "      <td>Tl2GeTe5</td>\n",
       "      <td>0.11 +/-  0.04</td>\n",
       "      <td>0.000</td>\n",
       "    </tr>\n",
       "    <tr>\n",
       "      <th>103</th>\n",
       "      <td>Pb1.8S1.8Ti2S4</td>\n",
       "      <td>0.05 +/-  0.06</td>\n",
       "      <td>0.000</td>\n",
       "    </tr>\n",
       "    <tr>\n",
       "      <th>104</th>\n",
       "      <td>ZrNiSn0.98Sb0.02</td>\n",
       "      <td>0.11 +/-  0.04</td>\n",
       "      <td>0.000</td>\n",
       "    </tr>\n",
       "    <tr>\n",
       "      <th>105</th>\n",
       "      <td>Zr0.99Nb0.01NiSn</td>\n",
       "      <td>0.11 +/-  0.04</td>\n",
       "      <td>0.000</td>\n",
       "    </tr>\n",
       "    <tr>\n",
       "      <th>106</th>\n",
       "      <td>CeFe3CoSb12</td>\n",
       "      <td>0.11 +/-  0.09</td>\n",
       "      <td>0.000</td>\n",
       "    </tr>\n",
       "    <tr>\n",
       "      <th>107</th>\n",
       "      <td>Ba0.4Sr0.6PbO3</td>\n",
       "      <td>0.04 +/-  0.06</td>\n",
       "      <td>0.000</td>\n",
       "    </tr>\n",
       "    <tr>\n",
       "      <th>92</th>\n",
       "      <td>CaMnO3</td>\n",
       "      <td>0.02 +/-  0.00</td>\n",
       "      <td>0.000</td>\n",
       "    </tr>\n",
       "    <tr>\n",
       "      <th>90</th>\n",
       "      <td>SrNd0.2Ti0.8O3</td>\n",
       "      <td>0.01 +/-  0.01</td>\n",
       "      <td>0.000</td>\n",
       "    </tr>\n",
       "    <tr>\n",
       "      <th>109</th>\n",
       "      <td>Mg2Si</td>\n",
       "      <td>0.01 +/-  0.03</td>\n",
       "      <td>0.000</td>\n",
       "    </tr>\n",
       "    <tr>\n",
       "      <th>81</th>\n",
       "      <td>Sr0.147Ga0.298Ge0.555</td>\n",
       "      <td>0.10 +/-  0.09</td>\n",
       "      <td>0.000</td>\n",
       "    </tr>\n",
       "    <tr>\n",
       "      <th>75</th>\n",
       "      <td>CaYb0.15Mn0.85O3</td>\n",
       "      <td>0.01 +/-  0.00</td>\n",
       "      <td>0.000</td>\n",
       "    </tr>\n",
       "    <tr>\n",
       "      <th>76</th>\n",
       "      <td>Ca2.4Na0.3Bi0.3Co4O9</td>\n",
       "      <td>0.03 +/-  0.01</td>\n",
       "      <td>0.000</td>\n",
       "    </tr>\n",
       "    <tr>\n",
       "      <th>77</th>\n",
       "      <td>Ca0.9Tb0.1MnO3</td>\n",
       "      <td>0.02 +/-  0.00</td>\n",
       "      <td>0.000</td>\n",
       "    </tr>\n",
       "    <tr>\n",
       "      <th>78</th>\n",
       "      <td>Sr0.146Ga0.285Ge0.569</td>\n",
       "      <td>0.10 +/-  0.09</td>\n",
       "      <td>0.000</td>\n",
       "    </tr>\n",
       "    <tr>\n",
       "      <th>79</th>\n",
       "      <td>Na0.02PbTe0.75Se0.25</td>\n",
       "      <td>0.11 +/-  0.04</td>\n",
       "      <td>0.000</td>\n",
       "    </tr>\n",
       "    <tr>\n",
       "      <th>80</th>\n",
       "      <td>Ba0.3Sr0.6La0.1TiO3</td>\n",
       "      <td>0.01 +/-  0.01</td>\n",
       "      <td>0.000</td>\n",
       "    </tr>\n",
       "    <tr>\n",
       "      <th>82</th>\n",
       "      <td>Tl9BiTe6</td>\n",
       "      <td>0.11 +/-  0.04</td>\n",
       "      <td>0.000</td>\n",
       "    </tr>\n",
       "    <tr>\n",
       "      <th>89</th>\n",
       "      <td>La0.95Sr0.05CoO3</td>\n",
       "      <td>0.03 +/-  0.03</td>\n",
       "      <td>0.000</td>\n",
       "    </tr>\n",
       "    <tr>\n",
       "      <th>...</th>\n",
       "      <td>...</td>\n",
       "      <td>...</td>\n",
       "      <td>...</td>\n",
       "    </tr>\n",
       "    <tr>\n",
       "      <th>60</th>\n",
       "      <td>Ca5Al2Sb6</td>\n",
       "      <td>0.05 +/-  0.04</td>\n",
       "      <td>0.000</td>\n",
       "    </tr>\n",
       "    <tr>\n",
       "      <th>61</th>\n",
       "      <td>Mg2Si0.995Bi0.005</td>\n",
       "      <td>0.01 +/-  0.03</td>\n",
       "      <td>0.000</td>\n",
       "    </tr>\n",
       "    <tr>\n",
       "      <th>62</th>\n",
       "      <td>Fe1.94Ti0.06O3</td>\n",
       "      <td>0.03 +/-  0.07</td>\n",
       "      <td>0.000</td>\n",
       "    </tr>\n",
       "    <tr>\n",
       "      <th>64</th>\n",
       "      <td>La3Te3.35Bi0.65</td>\n",
       "      <td>0.04 +/-  0.05</td>\n",
       "      <td>0.000</td>\n",
       "    </tr>\n",
       "    <tr>\n",
       "      <th>55</th>\n",
       "      <td>Mg2Si0.6Ge0.4Bi0.02</td>\n",
       "      <td>0.01 +/-  0.03</td>\n",
       "      <td>0.000</td>\n",
       "    </tr>\n",
       "    <tr>\n",
       "      <th>65</th>\n",
       "      <td>Sr2Ti0.8Nb0.2O4</td>\n",
       "      <td>0.01 +/-  0.02</td>\n",
       "      <td>0.000</td>\n",
       "    </tr>\n",
       "    <tr>\n",
       "      <th>66</th>\n",
       "      <td>CuCr0.99Mg0.01O2</td>\n",
       "      <td>0.10 +/-  0.08</td>\n",
       "      <td>0.000</td>\n",
       "    </tr>\n",
       "    <tr>\n",
       "      <th>67</th>\n",
       "      <td>Zr0.25Hf0.25Ti0.5NiSn</td>\n",
       "      <td>0.16 +/-  0.07</td>\n",
       "      <td>0.000</td>\n",
       "    </tr>\n",
       "    <tr>\n",
       "      <th>68</th>\n",
       "      <td>La3Te3.35Sb0.65</td>\n",
       "      <td>0.04 +/-  0.05</td>\n",
       "      <td>0.000</td>\n",
       "    </tr>\n",
       "    <tr>\n",
       "      <th>69</th>\n",
       "      <td>Ti0.95Nb0.05NiSn</td>\n",
       "      <td>0.12 +/-  0.03</td>\n",
       "      <td>0.000</td>\n",
       "    </tr>\n",
       "    <tr>\n",
       "      <th>70</th>\n",
       "      <td>WO2.722</td>\n",
       "      <td>0.06 +/-  0.09</td>\n",
       "      <td>0.000</td>\n",
       "    </tr>\n",
       "    <tr>\n",
       "      <th>56</th>\n",
       "      <td>Ca0.7Y0.3MnO3</td>\n",
       "      <td>0.01 +/-  0.01</td>\n",
       "      <td>0.000</td>\n",
       "    </tr>\n",
       "    <tr>\n",
       "      <th>54</th>\n",
       "      <td>Zr0.98Nb0.02NiSn</td>\n",
       "      <td>0.11 +/-  0.05</td>\n",
       "      <td>0.000</td>\n",
       "    </tr>\n",
       "    <tr>\n",
       "      <th>38</th>\n",
       "      <td>Ca2.94Na0.06AlSb3</td>\n",
       "      <td>0.03 +/-  0.03</td>\n",
       "      <td>0.000</td>\n",
       "    </tr>\n",
       "    <tr>\n",
       "      <th>45</th>\n",
       "      <td>Tl2Cu2SnTe4</td>\n",
       "      <td>0.12 +/-  0.03</td>\n",
       "      <td>0.000</td>\n",
       "    </tr>\n",
       "    <tr>\n",
       "      <th>39</th>\n",
       "      <td>Mg2Si0.98Ag0.02</td>\n",
       "      <td>0.01 +/-  0.01</td>\n",
       "      <td>0.000</td>\n",
       "    </tr>\n",
       "    <tr>\n",
       "      <th>40</th>\n",
       "      <td>TlTiPS5</td>\n",
       "      <td>0.06 +/-  0.05</td>\n",
       "      <td>0.000</td>\n",
       "    </tr>\n",
       "    <tr>\n",
       "      <th>41</th>\n",
       "      <td>Mg2Si0.6Ge0.4Ag0.02</td>\n",
       "      <td>0.01 +/-  0.01</td>\n",
       "      <td>0.000</td>\n",
       "    </tr>\n",
       "    <tr>\n",
       "      <th>42</th>\n",
       "      <td>Mg2Si0.997Bi0.003</td>\n",
       "      <td>0.01 +/-  0.03</td>\n",
       "      <td>0.000</td>\n",
       "    </tr>\n",
       "    <tr>\n",
       "      <th>43</th>\n",
       "      <td>Zr0.5Hf0.5NiSn</td>\n",
       "      <td>0.12 +/-  0.08</td>\n",
       "      <td>0.000</td>\n",
       "    </tr>\n",
       "    <tr>\n",
       "      <th>44</th>\n",
       "      <td>Ca0.9Y0.1MnO3</td>\n",
       "      <td>0.01 +/-  0.01</td>\n",
       "      <td>0.000</td>\n",
       "    </tr>\n",
       "    <tr>\n",
       "      <th>46</th>\n",
       "      <td>Ca2.7Na0.3Co4O9</td>\n",
       "      <td>0.02 +/-  0.01</td>\n",
       "      <td>0.000</td>\n",
       "    </tr>\n",
       "    <tr>\n",
       "      <th>53</th>\n",
       "      <td>Ba8Au5.14Si39.51</td>\n",
       "      <td>0.05 +/-  0.02</td>\n",
       "      <td>0.000</td>\n",
       "    </tr>\n",
       "    <tr>\n",
       "      <th>47</th>\n",
       "      <td>La0.99Sr0.01CoO3</td>\n",
       "      <td>0.03 +/-  0.03</td>\n",
       "      <td>0.000</td>\n",
       "    </tr>\n",
       "    <tr>\n",
       "      <th>48</th>\n",
       "      <td>Sm0.5Ca0.5MnO3</td>\n",
       "      <td>0.02 +/-  0.01</td>\n",
       "      <td>0.000</td>\n",
       "    </tr>\n",
       "    <tr>\n",
       "      <th>49</th>\n",
       "      <td>TiNiSn</td>\n",
       "      <td>0.12 +/-  0.04</td>\n",
       "      <td>0.000</td>\n",
       "    </tr>\n",
       "    <tr>\n",
       "      <th>50</th>\n",
       "      <td>La0.98Sr0.02CoO3</td>\n",
       "      <td>0.03 +/-  0.03</td>\n",
       "      <td>0.000</td>\n",
       "    </tr>\n",
       "    <tr>\n",
       "      <th>51</th>\n",
       "      <td>In1.8Ge0.2O3</td>\n",
       "      <td>0.08 +/-  0.04</td>\n",
       "      <td>0.000</td>\n",
       "    </tr>\n",
       "    <tr>\n",
       "      <th>52</th>\n",
       "      <td>In1.998Ge0.002O3</td>\n",
       "      <td>0.08 +/-  0.04</td>\n",
       "      <td>0.000</td>\n",
       "    </tr>\n",
       "    <tr>\n",
       "      <th>144</th>\n",
       "      <td>Ca0.9Ho0.1MnO3</td>\n",
       "      <td>0.02 +/-  0.00</td>\n",
       "      <td>0.000</td>\n",
       "    </tr>\n",
       "  </tbody>\n",
       "</table>\n",
       "<p>145 rows × 3 columns</p>\n",
       "</div>"
      ],
      "text/plain": [
       "            Chemical formula               ZT     LI\n",
       "3               In0.3Co4Sb12   0.13 +/-  0.11  0.001\n",
       "0       Na0.02PbTe0.85Se0.15   0.11 +/-  0.04  0.000\n",
       "100           Ca0.7Ho0.3MnO3   0.02 +/-  0.01  0.000\n",
       "93               Ba8Ga16Ge30   0.10 +/-  0.09  0.000\n",
       "94                     In2O3   0.08 +/-  0.04  0.000\n",
       "95              In0.1Co4Sb12   0.12 +/-  0.10  0.000\n",
       "96         Sr0.61Ba0.39Nb2O6   0.02 +/-  0.03  0.000\n",
       "97                    ZrNiSn   0.11 +/-  0.05  0.000\n",
       "98         Mg2Si0.994Bi0.006   0.01 +/-  0.03  0.000\n",
       "99   Si0.7956Ge0.1989P0.0055   0.09 +/-  0.02  0.000\n",
       "101         CeFe3.5Co0.5Sb12   0.11 +/-  0.09  0.000\n",
       "91         Mg2Si0.999Bi0.001   0.01 +/-  0.03  0.000\n",
       "102                 Tl2GeTe5   0.11 +/-  0.04  0.000\n",
       "103           Pb1.8S1.8Ti2S4   0.05 +/-  0.06  0.000\n",
       "104         ZrNiSn0.98Sb0.02   0.11 +/-  0.04  0.000\n",
       "105         Zr0.99Nb0.01NiSn   0.11 +/-  0.04  0.000\n",
       "106              CeFe3CoSb12   0.11 +/-  0.09  0.000\n",
       "107           Ba0.4Sr0.6PbO3   0.04 +/-  0.06  0.000\n",
       "92                    CaMnO3   0.02 +/-  0.00  0.000\n",
       "90            SrNd0.2Ti0.8O3   0.01 +/-  0.01  0.000\n",
       "109                    Mg2Si   0.01 +/-  0.03  0.000\n",
       "81     Sr0.147Ga0.298Ge0.555   0.10 +/-  0.09  0.000\n",
       "75          CaYb0.15Mn0.85O3   0.01 +/-  0.00  0.000\n",
       "76      Ca2.4Na0.3Bi0.3Co4O9   0.03 +/-  0.01  0.000\n",
       "77            Ca0.9Tb0.1MnO3   0.02 +/-  0.00  0.000\n",
       "78     Sr0.146Ga0.285Ge0.569   0.10 +/-  0.09  0.000\n",
       "79      Na0.02PbTe0.75Se0.25   0.11 +/-  0.04  0.000\n",
       "80       Ba0.3Sr0.6La0.1TiO3   0.01 +/-  0.01  0.000\n",
       "82                  Tl9BiTe6   0.11 +/-  0.04  0.000\n",
       "89          La0.95Sr0.05CoO3   0.03 +/-  0.03  0.000\n",
       "..                       ...              ...    ...\n",
       "60                 Ca5Al2Sb6   0.05 +/-  0.04  0.000\n",
       "61         Mg2Si0.995Bi0.005   0.01 +/-  0.03  0.000\n",
       "62            Fe1.94Ti0.06O3   0.03 +/-  0.07  0.000\n",
       "64           La3Te3.35Bi0.65   0.04 +/-  0.05  0.000\n",
       "55       Mg2Si0.6Ge0.4Bi0.02   0.01 +/-  0.03  0.000\n",
       "65           Sr2Ti0.8Nb0.2O4   0.01 +/-  0.02  0.000\n",
       "66          CuCr0.99Mg0.01O2   0.10 +/-  0.08  0.000\n",
       "67     Zr0.25Hf0.25Ti0.5NiSn   0.16 +/-  0.07  0.000\n",
       "68           La3Te3.35Sb0.65   0.04 +/-  0.05  0.000\n",
       "69          Ti0.95Nb0.05NiSn   0.12 +/-  0.03  0.000\n",
       "70                   WO2.722   0.06 +/-  0.09  0.000\n",
       "56             Ca0.7Y0.3MnO3   0.01 +/-  0.01  0.000\n",
       "54          Zr0.98Nb0.02NiSn   0.11 +/-  0.05  0.000\n",
       "38         Ca2.94Na0.06AlSb3   0.03 +/-  0.03  0.000\n",
       "45               Tl2Cu2SnTe4   0.12 +/-  0.03  0.000\n",
       "39           Mg2Si0.98Ag0.02   0.01 +/-  0.01  0.000\n",
       "40                   TlTiPS5   0.06 +/-  0.05  0.000\n",
       "41       Mg2Si0.6Ge0.4Ag0.02   0.01 +/-  0.01  0.000\n",
       "42         Mg2Si0.997Bi0.003   0.01 +/-  0.03  0.000\n",
       "43            Zr0.5Hf0.5NiSn   0.12 +/-  0.08  0.000\n",
       "44             Ca0.9Y0.1MnO3   0.01 +/-  0.01  0.000\n",
       "46           Ca2.7Na0.3Co4O9   0.02 +/-  0.01  0.000\n",
       "53          Ba8Au5.14Si39.51   0.05 +/-  0.02  0.000\n",
       "47          La0.99Sr0.01CoO3   0.03 +/-  0.03  0.000\n",
       "48            Sm0.5Ca0.5MnO3   0.02 +/-  0.01  0.000\n",
       "49                    TiNiSn   0.12 +/-  0.04  0.000\n",
       "50          La0.98Sr0.02CoO3   0.03 +/-  0.03  0.000\n",
       "51              In1.8Ge0.2O3   0.08 +/-  0.04  0.000\n",
       "52          In1.998Ge0.002O3   0.08 +/-  0.04  0.000\n",
       "144           Ca0.9Ho0.1MnO3   0.02 +/-  0.00  0.000\n",
       "\n",
       "[145 rows x 3 columns]"
      ]
     },
     "execution_count": 10,
     "metadata": {},
     "output_type": "execute_result"
    }
   ],
   "source": [
    "import pandas as pd\n",
    "df = pd.DataFrame(predictions, columns=['Chemical formula', 'ZT', 'LI'])\n",
    "df['Chemical formula'] = df['Chemical formula'].map(lambda x: x[0])\n",
    "df['ZT'] = df['ZT'].map(lambda x: \"{:5.2f} +/- {:5.2f}\".format(*x))\n",
    "df['LI'] = df['LI'].map(lambda x: \"{:5.3f}\".format(x))\n",
    "\n",
    "df.sort_values('LI', axis=0, ascending=False)"
   ]
  }
 ],
 "metadata": {
  "anaconda-cloud": {},
  "celltoolbar": "Slideshow",
  "kernelspec": {
   "display_name": "Python 3",
   "language": "python",
   "name": "python3"
  },
  "language_info": {
   "codemirror_mode": {
    "name": "ipython",
    "version": 3
   },
   "file_extension": ".py",
   "mimetype": "text/x-python",
   "name": "python",
   "nbconvert_exporter": "python",
   "pygments_lexer": "ipython3",
   "version": "3.5.2"
  }
 },
 "nbformat": 4,
 "nbformat_minor": 1
}
