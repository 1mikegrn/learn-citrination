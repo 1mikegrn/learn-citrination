{
 "cells": [
  {
   "cell_type": "code",
   "execution_count": 1,
   "metadata": {
    "collapsed": false,
    "slideshow": {
     "slide_type": "skip"
    }
   },
   "outputs": [],
   "source": [
    "from citrination_client import CitrinationClient\n",
    "from os import environ\n",
    "from citrination_client import PifQuery, SystemQuery, PropertyQuery, ChemicalFieldQuery, FieldQuery, Filter\n",
    "client = CitrinationClient(environ['CITRINATION_API_KEY'], 'https://citrination.com')"
   ]
  },
  {
   "cell_type": "markdown",
   "metadata": {
    "slideshow": {
     "slide_type": "slide"
    }
   },
   "source": [
    "# Experimental design with Citrination\n",
    "\n",
    "In this notebook, we demonstrate how to use Citrination to select experiments (or simulations, or literature searches) to maximize the impact on an optimization problem."
   ]
  },
  {
   "cell_type": "markdown",
   "metadata": {
    "slideshow": {
     "slide_type": "subslide"
    }
   },
   "source": [
    "## Case study: thermoelectrics\n",
    "\n",
    "Given a list of thermoelectric candidates, how many experiments do we need to find the best one?"
   ]
  },
  {
   "cell_type": "markdown",
   "metadata": {
    "slideshow": {
     "slide_type": "fragment"
    }
   },
   "source": [
    "Here, _best_ will be with respect to the thermoelecric figure of merit, ZT:\n",
    "    $$ ZT = \\frac{\\sigma S^2 T}{\\lambda}, $$\n",
    "where $\\sigma$ is the electrical conductivity, $S$ is the Seebeck coefficient, $T$ is the temperature, and $\\lambda$ is the thermal conductivity.  Higher is better."
   ]
  },
  {
   "cell_type": "markdown",
   "metadata": {
    "slideshow": {
     "slide_type": "slide"
    }
   },
   "source": [
    "# Getting the data\n",
    "\n",
    "We begin by querying for the thermoelectric dataset, which is on Citrination [here](https://citrination.com/datasets/150888).  We want the formula and zT"
   ]
  },
  {
   "cell_type": "code",
   "execution_count": 2,
   "metadata": {
    "collapsed": false,
    "slideshow": {
     "slide_type": "fragment"
    }
   },
   "outputs": [],
   "source": [
    "system_query = SystemQuery(\n",
    "    chemical_formula=ChemicalFieldQuery(\n",
    "        extract_as=\"Chemical formula\"\n",
    "    ),\n",
    "    properties=PropertyQuery(\n",
    "        name=FieldQuery(\n",
    "            filter=[Filter(equal=\"ZT\")]\n",
    "        ),\n",
    "        value=FieldQuery(\n",
    "            extract_as=\"ZT\"\n",
    "        )\n",
    "    )\n",
    ")\n",
    "thermoelectric_query = PifQuery(include_datasets=[150888], system=system_query, random_seed=0)"
   ]
  },
  {
   "cell_type": "markdown",
   "metadata": {
    "slideshow": {
     "slide_type": "subslide"
    }
   },
   "source": [
    "Let's run it and see what we get:"
   ]
  },
  {
   "cell_type": "code",
   "execution_count": 3,
   "metadata": {
    "collapsed": false,
    "slideshow": {
     "slide_type": "fragment"
    }
   },
   "outputs": [
    {
     "name": "stdout",
     "output_type": "stream",
     "text": [
      "We found 165 records\n",
      "[{'Chemical formula': 'La0.98Sr0.02CoO3', 'ZT': '0.026234732'}, {'Chemical formula': 'Zr0.4Hf0.4Ti0.2NiSn', 'ZT': '0.030958179'}]\n"
     ]
    }
   ],
   "source": [
    "search_result = client.search(thermoelectric_query)\n",
    "print(\"We found {} records\".format(search_result.total_num_hits))\n",
    "print([x.extracted for x in search_result.hits[0:2]])"
   ]
  },
  {
   "cell_type": "markdown",
   "metadata": {
    "slideshow": {
     "slide_type": "subslide"
    }
   },
   "source": [
    "This dataset has all the ZT values already, so we want to drop most of them before trying to design an experiment:"
   ]
  },
  {
   "cell_type": "code",
   "execution_count": 4,
   "metadata": {
    "collapsed": false,
    "slideshow": {
     "slide_type": "fragment"
    }
   },
   "outputs": [],
   "source": [
    "from random import shuffle, seed\n",
    "seed(1)\n",
    "full_data = [x.extracted.copy() for x in search_result.hits]\n",
    "shuffle(full_data)\n",
    "known_subset = full_data[:20]\n",
    "unknown_subset = full_data[20:]\n",
    "for x in unknown_subset: del x['ZT']"
   ]
  },
  {
   "cell_type": "markdown",
   "metadata": {
    "slideshow": {
     "slide_type": "fragment"
    }
   },
   "source": [
    "Our goal is to pick the best material to measaure next from `unknown_subset`."
   ]
  },
  {
   "cell_type": "markdown",
   "metadata": {
    "slideshow": {
     "slide_type": "slide"
    }
   },
   "source": [
    "# Training a model on known data"
   ]
  },
  {
   "cell_type": "markdown",
   "metadata": {
    "slideshow": {
     "slide_type": "fragment"
    }
   },
   "source": [
    "We train a model using the csv -> dataset -> data_view workflow described in the [modeling tutorial](https://github.com/CitrineInformatics/learn-citrination/blob/master/MLonCitrination.ipynb)."
   ]
  },
  {
   "cell_type": "markdown",
   "metadata": {
    "slideshow": {
     "slide_type": "subslide"
    }
   },
   "source": [
    "## Create a csv\n",
    "\n",
    "The csv just needs a header with the property names."
   ]
  },
  {
   "cell_type": "code",
   "execution_count": 5,
   "metadata": {
    "collapsed": false,
    "slideshow": {
     "slide_type": "fragment"
    }
   },
   "outputs": [],
   "source": [
    "def write_csv(name, rows):\n",
    "    with open(name, \"w\") as f:\n",
    "        f.write(\"formula, ZT\\n\")\n",
    "        for row in rows:\n",
    "            f.write(\"{Chemical formula:s}, {ZT:s}\\n\".format(**row))\n",
    "write_csv('known_thermoelectrics.csv', known_subset)"
   ]
  },
  {
   "cell_type": "markdown",
   "metadata": {
    "collapsed": false,
    "scrolled": true,
    "slideshow": {
     "slide_type": "subslide"
    }
   },
   "source": [
    "The rest of the model building process is on the website:\n",
    " 1. Go to the [csv to datasets](https://citrination.com/csv_to_datasets) page and upload `known_thermoelectrics.csv`\n",
    " 1. Follow the guide to create a dataset with formula and ZT values\n",
    " 1. Go to the [data views page](https://citrination.com/data_views) and click \"Create new dataset\"\n",
    " 1. Search for the property name \"ZT\" and select the dataset you created before.  Advance with the \"NEXT >\" button in the top right corner\n",
    " 1. Follow the guide to create a data view that has `formula` and an input and `ZT` as an output"
   ]
  },
  {
   "cell_type": "markdown",
   "metadata": {
    "slideshow": {
     "slide_type": "slide"
    }
   },
   "source": [
    "# Apply the model to unknown data"
   ]
  },
  {
   "cell_type": "markdown",
   "metadata": {
    "slideshow": {
     "slide_type": "fragment"
    }
   },
   "source": [
    "First, let's use the trained model to make predictions via the API.  Change the `view_id` below to point to your view."
   ]
  },
  {
   "cell_type": "code",
   "execution_count": 6,
   "metadata": {
    "collapsed": false,
    "slideshow": {
     "slide_type": "fragment"
    }
   },
   "outputs": [
    {
     "name": "stdout",
     "output_type": "stream",
     "text": [
      "We predict the ZT of PbTe (@ 300K) to be 0.20151646244999996 +/- 0.16437832666086158\n"
     ]
    }
   ],
   "source": [
    "view_id = 98\n",
    "inputs = [{\"Chemical formula\": \"PbTe\"},]\n",
    "resp = client.predict(str(view_id), inputs)\n",
    "prediction = resp['candidates'][0]['ZT']\n",
    "print(\"We predict the ZT of {} (@ 300K) to be {} +/- {}\".format(inputs[0]['Chemical formula'], *prediction))"
   ]
  },
  {
   "cell_type": "markdown",
   "metadata": {
    "slideshow": {
     "slide_type": "subslide"
    }
   },
   "source": [
    "## Maximum likelihood of improvement\n",
    "\n",
    "This tutorial is about _experimental design_, so we need to pick a criterion for experimental selection.\n",
    "\n",
    "There are many, but a straight forward and powerful one is \"maximum likelihood of improvement\", which is easy to compute if we assume the output distribution is normal."
   ]
  },
  {
   "cell_type": "code",
   "execution_count": 7,
   "metadata": {
    "collapsed": true,
    "slideshow": {
     "slide_type": "fragment"
    }
   },
   "outputs": [],
   "source": [
    "from scipy.special import erf\n",
    "from math import sqrt\n",
    "def probability_improvement(mean, sigma, baseline):\n",
    "    return 0.5 * (1.0 + erf((mean - baseline) / (sigma * sqrt(2.0))))"
   ]
  },
  {
   "cell_type": "markdown",
   "metadata": {
    "slideshow": {
     "slide_type": "subslide"
    }
   },
   "source": [
    "What is the baseline?  The largest value in the known data:"
   ]
  },
  {
   "cell_type": "code",
   "execution_count": 8,
   "metadata": {
    "collapsed": false,
    "slideshow": {
     "slide_type": "fragment"
    }
   },
   "outputs": [
    {
     "name": "stdout",
     "output_type": "stream",
     "text": [
      "The highest ZT value in the known subset is 0.424000225\n"
     ]
    }
   ],
   "source": [
    "baseline_ZT = max(float(x['ZT']) for x in known_subset)\n",
    "print(\"The highest ZT value in the known subset is {}\".format(baseline_ZT))"
   ]
  },
  {
   "cell_type": "markdown",
   "metadata": {
    "slideshow": {
     "slide_type": "subslide"
    }
   },
   "source": [
    "Now let's screen the unknown materials for likelihood of improvement:"
   ]
  },
  {
   "cell_type": "code",
   "execution_count": 9,
   "metadata": {
    "collapsed": false,
    "slideshow": {
     "slide_type": "fragment"
    }
   },
   "outputs": [],
   "source": [
    "predictions = client.predict(str(view_id), unknown_subset)['candidates']\n",
    "for p in predictions:\n",
    "    p['LI'] = probability_improvement(float(p['ZT'][0]), float(p['ZT'][1]), baseline_ZT)"
   ]
  },
  {
   "cell_type": "markdown",
   "metadata": {
    "slideshow": {
     "slide_type": "subslide"
    }
   },
   "source": [
    "Pandas can help us look at the result.  The top values for \"LI\" are the ones we should try next."
   ]
  },
  {
   "cell_type": "code",
   "execution_count": 11,
   "metadata": {
    "collapsed": false,
    "slideshow": {
     "slide_type": "fragment"
    }
   },
   "outputs": [
    {
     "data": {
      "text/html": [
       "<div>\n",
       "<table border=\"1\" class=\"dataframe\">\n",
       "  <thead>\n",
       "    <tr style=\"text-align: right;\">\n",
       "      <th></th>\n",
       "      <th>Chemical formula</th>\n",
       "      <th>ZT</th>\n",
       "      <th>LI</th>\n",
       "    </tr>\n",
       "  </thead>\n",
       "  <tbody>\n",
       "    <tr>\n",
       "      <th>123</th>\n",
       "      <td>In0.1Co4Sb12</td>\n",
       "      <td>0.31 +/-  0.22</td>\n",
       "      <td>0.302</td>\n",
       "    </tr>\n",
       "    <tr>\n",
       "      <th>141</th>\n",
       "      <td>In0.2Co4Sb12</td>\n",
       "      <td>0.30 +/-  0.21</td>\n",
       "      <td>0.274</td>\n",
       "    </tr>\n",
       "    <tr>\n",
       "      <th>114</th>\n",
       "      <td>In0.3Co4Sb12</td>\n",
       "      <td>0.30 +/-  0.21</td>\n",
       "      <td>0.274</td>\n",
       "    </tr>\n",
       "    <tr>\n",
       "      <th>97</th>\n",
       "      <td>In0.25Co4Sb12</td>\n",
       "      <td>0.30 +/-  0.21</td>\n",
       "      <td>0.274</td>\n",
       "    </tr>\n",
       "    <tr>\n",
       "      <th>60</th>\n",
       "      <td>Tl2Cu2SnTe4</td>\n",
       "      <td>0.22 +/-  0.16</td>\n",
       "      <td>0.094</td>\n",
       "    </tr>\n",
       "  </tbody>\n",
       "</table>\n",
       "</div>"
      ],
      "text/plain": [
       "    Chemical formula               ZT     LI\n",
       "123     In0.1Co4Sb12   0.31 +/-  0.22  0.302\n",
       "141     In0.2Co4Sb12   0.30 +/-  0.21  0.274\n",
       "114     In0.3Co4Sb12   0.30 +/-  0.21  0.274\n",
       "97     In0.25Co4Sb12   0.30 +/-  0.21  0.274\n",
       "60       Tl2Cu2SnTe4   0.22 +/-  0.16  0.094"
      ]
     },
     "execution_count": 11,
     "metadata": {},
     "output_type": "execute_result"
    }
   ],
   "source": [
    "import pandas as pd\n",
    "df = pd.DataFrame(predictions, columns=['Chemical formula', 'ZT', 'LI'])\n",
    "df['Chemical formula'] = df['Chemical formula'].map(lambda x: x[0])\n",
    "df['ZT'] = df['ZT'].map(lambda x: \"{:5.2f} +/- {:5.2f}\".format(*x))\n",
    "df['LI'] = df['LI'].map(lambda x: \"{:5.3f}\".format(x))\n",
    "\n",
    "df.sort_values('LI', axis=0, ascending=False)[0:5]"
   ]
  },
  {
   "cell_type": "markdown",
   "metadata": {
    "slideshow": {
     "slide_type": "fragment"
    }
   },
   "source": [
    "These materials have a likelihood of improvement below 50%, i.e. their expected ZT value is below the highest value in the dataset.  Therefore, they are biased towards materials with high model uncertainty as well."
   ]
  }
 ],
 "metadata": {
  "anaconda-cloud": {},
  "celltoolbar": "Slideshow",
  "kernelspec": {
   "display_name": "Python 3",
   "language": "python",
   "name": "python3"
  },
  "language_info": {
   "codemirror_mode": {
    "name": "ipython",
    "version": 3
   },
   "file_extension": ".py",
   "mimetype": "text/x-python",
   "name": "python",
   "nbconvert_exporter": "python",
   "pygments_lexer": "ipython3",
   "version": "3.5.2"
  }
 },
 "nbformat": 4,
 "nbformat_minor": 1
}
