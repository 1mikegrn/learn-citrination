{
 "cells": [
  {
   "cell_type": "markdown",
   "metadata": {
    "nbpresent": {
     "id": "f2f733dc-95c8-4751-a337-7bba7fcbe4d7"
    },
    "slideshow": {
     "slide_type": "slide"
    }
   },
   "source": [
    "# Importing data from VASP calculation into Citrination\n",
    "\n",
    "There are two steps for getting data from any format onto Citrination:\n",
    " 1. formatting the data as a PIF\n",
    " 1. uploading to Citrination"
   ]
  },
  {
   "cell_type": "markdown",
   "metadata": {
    "nbpresent": {
     "id": "c41a4f53-9a6a-435e-b554-90780aa20fcd"
    },
    "slideshow": {
     "slide_type": "slide"
    }
   },
   "source": [
    "## Formatting VASP outputs as PIFs\n",
    "\n",
    "We provide scripts to extract common conditions and properties from VASP calculations.  You just pass in a path to the calculation and it returns a PIF!"
   ]
  },
  {
   "cell_type": "code",
   "execution_count": 1,
   "metadata": {
    "collapsed": false,
    "nbpresent": {
     "id": "802a8008-2cc3-4892-8bb9-3ddc26885a40"
    },
    "slideshow": {
     "slide_type": "fragment"
    }
   },
   "outputs": [],
   "source": [
    "from dfttopif import directory_to_pif\n",
    "pif = directory_to_pif(\"/home/maxhutch/src/vasp.inputs/internal/RITC/ref\")"
   ]
  },
  {
   "cell_type": "markdown",
   "metadata": {
    "nbpresent": {
     "id": "38c67c58-1de7-47f1-a50a-25cc55fe7729"
    },
    "slideshow": {
     "slide_type": "subslide"
    }
   },
   "source": [
    "The PIF is a lightweight schema on top of the JSON format:"
   ]
  },
  {
   "cell_type": "code",
   "execution_count": 8,
   "metadata": {
    "collapsed": false,
    "nbpresent": {
     "id": "b49a5a35-061c-44fa-9a7f-275007109106"
    },
    "slideshow": {
     "slide_type": "fragment"
    }
   },
   "outputs": [
    {
     "name": "stdout",
     "output_type": "stream",
     "text": [
      "{\n",
      "  \"chemicalSystem\": \"Fe2Li4O8Si2\",\n",
      "  \"properties\": [\n",
      "    {\n",
      "      \"conditions\": [\n",
      "        {\n",
      "          \"name\": \"XC Functional\",\n",
      "          \"scalars\": \"PAW_PBE\"\n",
      "        },\n",
      "        {\n",
      "          \"name\": \"k-Points per Reciprocal Atom\",\n",
      "          \"scalars\": 256.0\n",
      "        },\n",
      "        {\n",
      "          \"units\": \"eV\",\n",
      "          \"name\": \"Cutoff Energy\",\n",
      "          \"scalars\": 500.0\n",
      "        },\n",
      "        {\n",
      "          \"name\": \"Psuedopotentials\",\n",
      "          \"scalars\": [\n",
      "            \"Li_sv\",\n",
      "            \"Fe_sv\",\n",
      "           \n"
     ]
    }
   ],
   "source": [
    "from pypif.pif import dumps\n",
    "print(dumps(pif, indent=2)[:500])"
   ]
  },
  {
   "cell_type": "markdown",
   "metadata": {
    "nbpresent": {
     "id": "b136c997-d8c6-4d39-8578-4a14a276cd09"
    },
    "slideshow": {
     "slide_type": "subslide"
    }
   },
   "source": [
    "## pypif\n",
    "\n",
    "The `pypif` package wraps the schema to make it $\\epsilon$ easier to use.  For example, we might want to read out the band gap:"
   ]
  },
  {
   "cell_type": "code",
   "execution_count": 3,
   "metadata": {
    "collapsed": false,
    "nbpresent": {
     "id": "45a1cd9a-989f-44e6-8753-79a4abcfbe28"
    },
    "slideshow": {
     "slide_type": "fragment"
    }
   },
   "outputs": [
    {
     "name": "stdout",
     "output_type": "stream",
     "text": [
      "The band gap is 3.783\n"
     ]
    }
   ],
   "source": [
    "print(\"The band gap is {}\".format(\n",
    "        next(x for x in pif.properties if x.name == \"Band Gap Energy\").scalars)\n",
    "     )"
   ]
  },
  {
   "cell_type": "markdown",
   "metadata": {
    "nbpresent": {
     "id": "261197d6-24ad-4083-8df9-33ba39ff56b7"
    },
    "slideshow": {
     "slide_type": "fragment"
    }
   },
   "source": [
    "Note that the `name` is a field in a properties object, so we are searching for the first property with the `name` \"Band Gap Energy\"."
   ]
  },
  {
   "cell_type": "markdown",
   "metadata": {
    "nbpresent": {
     "id": "541a3e94-b942-48a9-9ec7-64f58c7b5eb2"
    },
    "slideshow": {
     "slide_type": "subslide"
    }
   },
   "source": [
    "## ReadView\n",
    "\n",
    "It might be more natural to index the property by its name.  We provide a `ReadView` that wraps the PIF and provides such an index:"
   ]
  },
  {
   "cell_type": "code",
   "execution_count": 4,
   "metadata": {
    "collapsed": false,
    "nbpresent": {
     "id": "1e988e62-3569-4e24-8d77-4b642d52aee2"
    },
    "slideshow": {
     "slide_type": "fragment"
    }
   },
   "outputs": [
    {
     "name": "stdout",
     "output_type": "stream",
     "text": [
      "The band gap is 3.783\n"
     ]
    }
   ],
   "source": [
    "from pypif.util.read_view import ReadView\n",
    "rv = ReadView(pif)\n",
    "print(\"The band gap is {}\".format(rv[\"Band Gap Energy\"].scalars))"
   ]
  },
  {
   "cell_type": "markdown",
   "metadata": {
    "nbpresent": {
     "id": "2fa01a20-bcb5-483a-b120-eaa228fc1278"
    },
    "slideshow": {
     "slide_type": "fragment"
    }
   },
   "source": [
    "The `scalars` member of the property contains the value of the property.  We also have access to metadata associated with that value, e.g. units:"
   ]
  },
  {
   "cell_type": "code",
   "execution_count": 5,
   "metadata": {
    "collapsed": false,
    "nbpresent": {
     "id": "1c4dbdb4-bb65-41d1-898f-9fdfe88703a1"
    },
    "slideshow": {
     "slide_type": "fragment"
    }
   },
   "outputs": [
    {
     "name": "stdout",
     "output_type": "stream",
     "text": [
      "The band gap is 3.783 eV\n"
     ]
    }
   ],
   "source": [
    "print(\"The band gap is {} {}\".format(\n",
    "        rv[\"Band Gap Energy\"].scalars,\n",
    "        rv[\"Band Gap Energy\"].units)\n",
    "     )"
   ]
  }
 ],
 "metadata": {
  "anaconda-cloud": {},
  "celltoolbar": "Slideshow",
  "kernelspec": {
   "display_name": "Python 3",
   "language": "python",
   "name": "python3"
  },
  "language_info": {
   "codemirror_mode": {
    "name": "ipython",
    "version": 3
   },
   "file_extension": ".py",
   "mimetype": "text/x-python",
   "name": "python",
   "nbconvert_exporter": "python",
   "pygments_lexer": "ipython3",
   "version": "3.5.2"
  },
  "nbpresent": {
   "slides": {
    "5c8082ad-f7f3-497a-91a5-b82f1bfa6d0e": {
     "id": "5c8082ad-f7f3-497a-91a5-b82f1bfa6d0e",
     "layout": "grid",
     "prev": null,
     "regions": {
      "3fdabdaa-d1a7-4289-8161-39096a883c62": {
       "attrs": {
        "height": 1,
        "pad": 0.01,
        "treemap:weight": 1,
        "width": 1,
        "x": 0,
        "y": 0
       },
       "content": {
        "cell": "f2f733dc-95c8-4751-a337-7bba7fcbe4d7",
        "part": "whole"
       },
       "id": "3fdabdaa-d1a7-4289-8161-39096a883c62"
      }
     }
    },
    "8e99069f-4d09-4e7b-8dbb-b8cf82a67ae2": {
     "id": "8e99069f-4d09-4e7b-8dbb-b8cf82a67ae2",
     "prev": "5c8082ad-f7f3-497a-91a5-b82f1bfa6d0e",
     "regions": {
      "1dabf2fc-3b38-4a0d-a95c-c4574fd5354f": {
       "attrs": {
        "height": 0.6,
        "width": 0.8,
        "x": 0.1,
        "y": 0.1
       },
       "content": {
        "cell": "c41a4f53-9a6a-435e-b554-90780aa20fcd",
        "part": "whole"
       },
       "id": "1dabf2fc-3b38-4a0d-a95c-c4574fd5354f"
      },
      "ab4f31d7-8029-4c39-854f-edaad678b711": {
       "attrs": {
        "height": 0.2,
        "width": 0.4,
        "x": 0.5,
        "y": 0.7
       },
       "id": "ab4f31d7-8029-4c39-854f-edaad678b711"
      },
      "b3bd2bc4-2c69-4998-8fe0-a09a6c579492": {
       "attrs": {
        "height": 0.2,
        "width": 0.4,
        "x": 0.1,
        "y": 0.7
       },
       "id": "b3bd2bc4-2c69-4998-8fe0-a09a6c579492"
      }
     }
    }
   },
   "themes": {}
  }
 },
 "nbformat": 4,
 "nbformat_minor": 1
}
