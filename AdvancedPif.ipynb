{
 "cells": [
  {
   "cell_type": "markdown",
   "metadata": {
    "slideshow": {
     "slide_type": "slide"
    }
   },
   "source": [
    "# Advanced PIF tutorial\n",
    "*Authors: Max Hutchinson, Carena Church, Enze Chen*\n",
    "\n",
    "In this notebook, we will explore the **Physical Information File (PIF)** structure and [`pypif`](https://github.com/CitrineInformatics/pypif/tree/master/pypif) package in greater detail. At the end, we will use the [Python Citrination Client](http://citrineinformatics.github.io/python-citrination-client/tutorial/tutorial.html) to upload the PIFs to [Citrination](https://citrination.com/)."
   ]
  },
  {
   "cell_type": "markdown",
   "metadata": {},
   "source": [
    "## Learning outcomes\n",
    "By the end of this notebook, you should understand:\n",
    "* The basic PIF structure and its advantages.\n",
    "* How to use the `pypif` package to create and save PIFs.\n",
    "* How the `DataClient` can upload data to Citrination."
   ]
  },
  {
   "cell_type": "markdown",
   "metadata": {},
   "source": [
    "## Python package imports"
   ]
  },
  {
   "cell_type": "code",
   "execution_count": 1,
   "metadata": {},
   "outputs": [],
   "source": [
    "# Standard packages\n",
    "import random\n",
    "import string\n",
    "import json\n",
    "from os import environ\n",
    "\n",
    "# Third-party packages\n",
    "from pypif import pif\n",
    "from pypif.obj import *\n",
    "from citrination_client import CitrinationClient"
   ]
  },
  {
   "cell_type": "markdown",
   "metadata": {
    "slideshow": {
     "slide_type": "skip"
    }
   },
   "source": [
    "## The PIF structure\n",
    "The PIF is a __general__, __flexible__, and __hierachical__ schema, stored as a JSON file, for representing infomation about physical devices and materials. This enables the PIF to store a wide range of information on many kinds of physical systems, but requires more careful thought on where to store information within the schema. \n",
    "\n",
    "* The PIF focuses on information specific to physical systems, but is sufficiently __general__ to handle a wide range of systems.\n",
    "* The PIF does not impose a rigid schema, and instead is __flexible__ in exactly where data is stored.\n",
    "* The PIF has a __hierarchical__ structure can store information on multiple levels.\n",
    "\n",
    "Full documentation on the PIF schema can be [found online](http://citrineinformatics.github.io/pif-documentation/schema_definition/index.html), and the `pypif` code base is [public on GitHub](https://github.com/CitrineInformatics/pypif/tree/master)."
   ]
  },
  {
   "cell_type": "markdown",
   "metadata": {
    "slideshow": {
     "slide_type": "slide"
    }
   },
   "source": [
    "## System\n",
    "\n",
    "A [System](http://citrineinformatics.github.io/pif-documentation/schema_definition/system/System.html) is the primary building block in a PIF record. Systems contain three general categories of information relevant to physical systems:\n",
    "\n",
    "* Identifiers - What is this?\n",
    "\n",
    "* Preparation - How was this made?\n",
    "\n",
    "* Properties - How does this perform and what are its characteristics?\n",
    "\n",
    "When appropriate, a System can be sub-classed to provide more specific information. For example, [ChemicalSystem](http://citrineinformatics.github.io/pif-documentation/schema_definition/system/chemical/ChemicalSystem.html) contains all of the fields in System, but also adds fields for composition and chemical formula."
   ]
  },
  {
   "cell_type": "code",
   "execution_count": 2,
   "metadata": {
    "slideshow": {
     "slide_type": "fragment"
    }
   },
   "outputs": [
    {
     "name": "stdout",
     "output_type": "stream",
     "text": [
      "{\n",
      "    \"category\": \"system.chemical\"\n",
      "}\n"
     ]
    }
   ],
   "source": [
    "my_pif = ChemicalSystem()\n",
    "print(pif.dumps(my_pif, indent=4))"
   ]
  },
  {
   "cell_type": "markdown",
   "metadata": {},
   "source": [
    "The `dumps()` method used above converts a (list of) PIF objects into a JSON-encoded string."
   ]
  },
  {
   "cell_type": "markdown",
   "metadata": {
    "slideshow": {
     "slide_type": "slide"
    }
   },
   "source": [
    "## Identifiers\n",
    "Identifiers inform the user of what system exists in each PIF record. Identifiers can take the form of:\n",
    "* `chemical_formula`: A string representing the chemical formula.\n",
    "* `names`: An array of strings representing the common names of the chemical system.\n",
    "* `composition`: An array of [Composition](http://citrineinformatics.github.io/pif-documentation/schema_definition/system/chemical/common/Composition.html) objects specifying the elements and relative atomic/weight percentages.\n",
    "* `ids`: An array of [Id](http://citrineinformatics.github.io/pif-documentation/schema_definition/common/Id.html) objects associated with this system."
   ]
  },
  {
   "cell_type": "code",
   "execution_count": 3,
   "metadata": {
    "slideshow": {
     "slide_type": "fragment"
    }
   },
   "outputs": [
    {
     "name": "stdout",
     "output_type": "stream",
     "text": [
      "{\n",
      "    \"category\": \"system.chemical\",\n",
      "    \"chemicalFormula\": \"Li0.0024Ni0.9976O\"\n",
      "}\n"
     ]
    }
   ],
   "source": [
    "my_pif.chemical_formula = \"Li0.0024Ni0.9976O\"\n",
    "print(pif.dumps(my_pif, indent=4))"
   ]
  },
  {
   "cell_type": "markdown",
   "metadata": {
    "slideshow": {
     "slide_type": "slide"
    }
   },
   "source": [
    "## Preparation\n",
    "Processing information can also be included to detail how this material was made. The `preparation` field is an array of [ProcessStep](http://citrineinformatics.github.io/pif-documentation/schema_definition/common/ProcessStep.html) objects with attributes including:\n",
    "* `name`: A string representing the name of the process step.\n",
    "* `details`: An array of [`Value`](http://citrineinformatics.github.io/pif-documentation/schema_definition/common/Value.html) objects."
   ]
  },
  {
   "cell_type": "code",
   "execution_count": 5,
   "metadata": {
    "slideshow": {
     "slide_type": "fragment"
    }
   },
   "outputs": [
    {
     "name": "stdout",
     "output_type": "stream",
     "text": [
      "{\n",
      "    \"preparation\": [\n",
      "        {\n",
      "            \"name\": \"Heat Treatment\",\n",
      "            \"details\": [\n",
      "                {\n",
      "                    \"name\": \"Temperature\",\n",
      "                    \"scalars\": [\n",
      "                        {\n",
      "                            \"value\": \"600\"\n",
      "                        }\n",
      "                    ],\n",
      "                    \"units\": \"K\"\n",
      "                }\n",
      "            ]\n",
      "        }\n",
      "    ],\n",
      "    \"category\": \"system.chemical\",\n",
      "    \"chemicalFormula\": \"Li0.0024Ni0.9976O\"\n",
      "}\n"
     ]
    }
   ],
   "source": [
    "heat = ProcessStep(name=\"Heat Treatment\")\n",
    "heat.details = [Value(name=\"Temperature\", \n",
    "                      scalars=[Scalar(value='600')], \n",
    "                      units='K')]\n",
    "my_pif.preparation = [heat]\n",
    "print(pif.dumps(my_pif, indent=4))"
   ]
  },
  {
   "cell_type": "markdown",
   "metadata": {
    "slideshow": {
     "slide_type": "slide"
    }
   },
   "source": [
    "## Properties\n",
    "Properties describe how this material performs and its various characteristics. The `properties` field is an array of [Property](http://citrineinformatics.github.io/pif-documentation/schema_definition/common/Property.html) objects with a diverse set of attributes, including:\n",
    "* `name`: A string representing the name of the property.\n",
    "* `scalars`: An array of [`Scalar`](http://citrineinformatics.github.io/pif-documentation/schema_definition/common/Scalar.html) objects, which contain the measured values with uncertainty.\n",
    "* `units`: A string representing the units of the property value.\n",
    "* `conditions`: An array of `Value` objects specifying the external conditions under which the property was measured or observed.\n",
    "* `data_type`: A specific string from the set `{MACHINE_LEARNING, FIT, COMPUTATIONAL, EXPERIMENTAL}`.\n",
    "\n",
    "However, you will see below that the PIF structure is very flexible and will accept slight deviations in formats (e.g. `scalars` formatting). We recommend that you pick to a syntax you like and *stay consistent* (so don't do what we're doing here)."
   ]
  },
  {
   "cell_type": "code",
   "execution_count": 6,
   "metadata": {
    "slideshow": {
     "slide_type": "fragment"
    }
   },
   "outputs": [
    {
     "name": "stdout",
     "output_type": "stream",
     "text": [
      "{\n",
      "    \"properties\": [\n",
      "        {\n",
      "            \"name\": \"Crystallinity\",\n",
      "            \"scalars\": [\n",
      "                {\n",
      "                    \"value\": \"Polycrystalline\"\n",
      "                }\n",
      "            ]\n",
      "        },\n",
      "        {\n",
      "            \"name\": \"Resistivity\",\n",
      "            \"scalars\": [\n",
      "                {\n",
      "                    \"value\": 28.8677\n",
      "                },\n",
      "                {\n",
      "                    \"value\": 0.2629\n",
      "                },\n",
      "                {\n",
      "                    \"value\": 0.0466\n",
      "                }\n",
      "            ],\n",
      "            \"units\": \"\\\\Ohm*cm\",\n",
      "            \"conditions\": [\n",
      "                {\n",
      "                    \"name\": \"Temperature\",\n",
      "                    \"scalars\": [\n",
      "                        {\n",
      "                            \"value\": 400\n",
      "                        },\n",
      "                        {\n",
      "                   \n",
      "... ommitted for space ...\n"
     ]
    }
   ],
   "source": [
    "crystallinity = Property(name=\"Crystallinity\", scalars=[Scalar(value=\"Polycrystalline\")])\n",
    "\n",
    "resistivity = Property(name=\"Resistivity\", units=\"\\Ohm*cm\", \n",
    "                       scalars=[Scalar(value=28.8677), \n",
    "                                Scalar(value=0.2629), \n",
    "                                Scalar(value=0.0466)])\n",
    "resistivity.conditions = [Value(name=\"Temperature\", units=\"K\", \n",
    "                                scalars=[Scalar(value=400), \n",
    "                                         Scalar(value=700), \n",
    "                                         Scalar(value=1000)])]\n",
    "\n",
    "power_factor = Property(name=\"Power factor\", units=\"W/mK\", \n",
    "                        scalars=[Scalar(value=1.21E-4), \n",
    "                                 Scalar(value=1.66E-2), \n",
    "                                 Scalar(value=1.48E-1)])\n",
    "power_factor.conditions = [Value(name=\"Temperature\", units=\"K\", \n",
    "                                 scalars=[Scalar(value=400), \n",
    "                                          Scalar(value=700), \n",
    "                                          Scalar(value=1000)])]\n",
    "\n",
    "my_pif.properties = [crystallinity, resistivity, power_factor]\n",
    "\n",
    "print(pif.dumps(my_pif, indent=4)[:800])\n",
    "print('... ommitted for space ...')"
   ]
  },
  {
   "cell_type": "markdown",
   "metadata": {
    "slideshow": {
     "slide_type": "slide"
    }
   },
   "source": [
    "## Reference information\n",
    "Reference information can be included as an array of [`Reference`](http://citrineinformatics.github.io/pif-documentation/schema_definition/common/Reference.html) objects in the `references` field. `Reference` objects have a large set of fields, including:\n",
    "* `doi`: A string representing the DOI of the work.\n",
    "* `url`: A string representing the URL of the website where the work can be accessed.\n",
    "* `title`: A string representing the title of the work.\n",
    "* `authors`: An array of [`Name`](http://citrineinformatics.github.io/pif-documentation/schema_definition/common/Name.html) objects, or just strings."
   ]
  },
  {
   "cell_type": "code",
   "execution_count": 7,
   "metadata": {
    "slideshow": {
     "slide_type": "fragment"
    }
   },
   "outputs": [
    {
     "name": "stdout",
     "output_type": "stream",
     "text": [
      "{\n",
      "    \"references\": [\n",
      "        {\n",
      "            \"doi\": \"10.1143/JJAP.38.L1336\",\n",
      "            \"url\": \"https://iopscience.iop.org/article/10.1143/JJAP.38.L1336\",\n",
      "            \"title\": \"Li-Doped Nickel Oxide as a Thermoelectric Material\",\n",
      "            \"authors\": [\n",
      "                \"Woosuck Shin\",\n",
      "                \"Norimitsu Murayama\"\n",
      "            ]\n",
      "        }\n",
      "    ],\n",
      "    \"properties\": [\n",
      "        {\n",
      "            \"na\n",
      "... ommitted for space ...\n"
     ]
    }
   ],
   "source": [
    "my_pif.references = [Reference(doi='10.1143/JJAP.38.L1336', \n",
    "                               url='https://iopscience.iop.org/article/10.1143/JJAP.38.L1336',\n",
    "                               title='Li-Doped Nickel Oxide as a Thermoelectric Material',\n",
    "                               authors=['Woosuck Shin', 'Norimitsu Murayama'])]\n",
    "print(pif.dumps(my_pif, indent=4)[:400])\n",
    "print('... ommitted for space ...')"
   ]
  },
  {
   "cell_type": "markdown",
   "metadata": {
    "slideshow": {
     "slide_type": "slide"
    }
   },
   "source": [
    "## Hierarchical\n",
    "In addition to having the hierarchical structure we just described, systems can also store `sub_systems` which is a list of additional `System` objects that make up the system."
   ]
  },
  {
   "cell_type": "code",
   "execution_count": 8,
   "metadata": {
    "slideshow": {
     "slide_type": "fragment"
    }
   },
   "outputs": [
    {
     "name": "stdout",
     "output_type": "stream",
     "text": [
      "{\n",
      "    \"names\": [\n",
      "        \"Thermoelectric module\"\n",
      "    ],\n",
      "    \"subSystems\": [\n",
      "        {\n",
      "            \"references\": [\n",
      "                {\n",
      "                    \"doi\": \"10.1143/JJAP.38.L1336\",\n",
      "                    \"url\": \"https://iopscience.iop.org/article/10.1143/JJAP.38.L1336\",\n",
      "                    \"title\": \n",
      "... ommitted for space ...\n"
     ]
    }
   ],
   "source": [
    "thermoelectric_module = System(names=[\"Thermoelectric module\"])\n",
    "thermoelectric_module.sub_systems = [my_pif]\n",
    "print(pif.dumps(thermoelectric_module, indent=4)[:300])\n",
    "print('... ommitted for space ...')"
   ]
  },
  {
   "cell_type": "markdown",
   "metadata": {
    "slideshow": {
     "slide_type": "slide"
    }
   },
   "source": [
    "## Citrination metadata\n",
    "Citrination metadata includes identifiers for querying and navigation:\n",
    "* `uid`: A string representing the permanent ID associated with the system.\n",
    "* `tags`: An array of strings representing tags that apply to the system."
   ]
  },
  {
   "cell_type": "code",
   "execution_count": 9,
   "metadata": {
    "slideshow": {
     "slide_type": "fragment"
    }
   },
   "outputs": [
    {
     "name": "stdout",
     "output_type": "stream",
     "text": [
      "{\n",
      "    \"tags\": [\n",
      "        \"my_second_upload\"\n",
      "    ],\n",
      "    \"references\": [\n",
      "        {\n",
      "            \"doi\": \"10.1143/JJAP.38.L1336\",\n",
      "            \"url\": \"https://iopscience.iop.org/article/10.1143/JJAP.38.L1336\",\n",
      "            \"title\": \"Li-Doped Nickel Oxide as a Thermoelectric Material\",\n",
      "            \"authors\": [\n",
      "                \"Woosuck Shin\",\n",
      "                \"Norimitsu Murayama\"\n",
      "            ]\n",
      "        }\n",
      "    ],\n",
      "    \"uid\": \"my-pif\",\n",
      "    \"properties\": [\n",
      "        {\n",
      "            \"name\": \"Crystallinity\",\n",
      "         \n",
      "... ommitted for space ...\n"
     ]
    }
   ],
   "source": [
    "my_pif.uid = \"my-pif\"\n",
    "my_pif.tags = [\"my_second_upload\"]\n",
    "print(pif.dumps(my_pif, indent=4)[:500])\n",
    "print('... ommitted for space ...')"
   ]
  },
  {
   "cell_type": "markdown",
   "metadata": {},
   "source": [
    "## The full PIF structure tree\n",
    "The following image represents the tree structure for the major fields that you'll encounter when working with PIFs. It is not exhaustive, and is current as of `pypif 2.1.1`.\n",
    "\n",
    "![PIF structure](fig/pif_structure.png \"PIF structure\")"
   ]
  },
  {
   "cell_type": "markdown",
   "metadata": {},
   "source": [
    "## More on PIF I/O\n",
    "Previously, we've been relying on the `dumps()` method to turn PIF objects into strings for output. We can use the `dump()` method to save PIF objects (1st argument) into a File object (2nd arg). An example is shown below.\n",
    "\n",
    "Analogously, `loads()` and `load()` perform the same conversions in the opposite direction."
   ]
  },
  {
   "cell_type": "markdown",
   "metadata": {
    "slideshow": {
     "slide_type": "fragment"
    }
   },
   "source": [
    "## Creating a dataset\n",
    "\n",
    "If you have been completing the API Example tutorials in the order in which they're presented in the [README](README.md), feel free to use the dataset ID you created previously. Otherwise, the cell below will use the `citrination_client` to create a new dataset and corresponding `dataset_id`."
   ]
  },
  {
   "cell_type": "code",
   "execution_count": 9,
   "metadata": {},
   "outputs": [
    {
     "name": "stdout",
     "output_type": "stream",
     "text": [
      "174256\n"
     ]
    }
   ],
   "source": [
    "# Skip this cell if you have an ID from a dataset you created via the website\n",
    "\n",
    "# Initialize the client\n",
    "client = CitrinationClient(environ['CITRINATION_API_KEY'], 'https://citrination.com')\n",
    "data_client = client.data\n",
    "\n",
    "# The following lines create a dataset to use throughout the tutorial notebooks\n",
    "random_string = ''.join([random.choice(string.ascii_uppercase + string.digits) for i in range(5)])\n",
    "dataset_name = \"Tutorial dataset \" + random_string\n",
    "dataset = data_client.create_dataset(name=dataset_name, description=\"Dataset for tutorial\", public=False)\n",
    "dataset_id = dataset._id\n",
    "print(dataset_id)"
   ]
  },
  {
   "cell_type": "markdown",
   "metadata": {},
   "source": [
    "Now we will save our PIF object into a file and upload the file to our dataset on Citrination."
   ]
  },
  {
   "cell_type": "code",
   "execution_count": 17,
   "metadata": {
    "slideshow": {
     "slide_type": "slide"
    }
   },
   "outputs": [
    {
     "name": "stdout",
     "output_type": "stream",
     "text": [
      "Upload successful? True\n"
     ]
    }
   ],
   "source": [
    "filename = \"example_data/pif.json\"\n",
    "with open(filename, 'w') as fp:\n",
    "    pif.dump(my_pif, fp)\n",
    "result = data_client.upload(dataset_id, filename)\n",
    "print('Upload successful? {0}'.format(result.successful()))"
   ]
  },
  {
   "cell_type": "markdown",
   "metadata": {
    "slideshow": {
     "slide_type": "fragment"
    }
   },
   "source": [
    "Once uploaded, a PIF can be viewed at the url http://citrination.com/pifs/{dataset_id}/{version_number}/{uid}"
   ]
  },
  {
   "cell_type": "markdown",
   "metadata": {},
   "source": [
    "## Conclusion\n",
    "This concludes the advanced tutorial on PIFs, where we dug into the details of the PIF hierarchy and how to use the `pypif` package. As mentioned before, you should now understand:\n",
    "* The basic PIF structure and its advantages.\n",
    "* How to use the `pypif` package to create and save PIFs.\n",
    "* How the `DataClient` can upload data to Citrination."
   ]
  }
 ],
 "metadata": {
  "kernelspec": {
   "display_name": "Python 3",
   "language": "python",
   "name": "python3"
  },
  "language_info": {
   "codemirror_mode": {
    "name": "ipython",
    "version": 3
   },
   "file_extension": ".py",
   "mimetype": "text/x-python",
   "name": "python",
   "nbconvert_exporter": "python",
   "pygments_lexer": "ipython3",
   "version": "3.7.2"
  }
 },
 "nbformat": 4,
 "nbformat_minor": 2
}
