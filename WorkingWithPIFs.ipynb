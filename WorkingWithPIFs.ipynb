{
 "cells": [
  {
   "cell_type": "code",
   "execution_count": 1,
   "metadata": {
    "collapsed": true,
    "slideshow": {
     "slide_type": "skip"
    }
   },
   "outputs": [],
   "source": [
    "from dfttopif import directory_to_pif\n",
    "pif = directory_to_pif(\"./example_data/Al.cF4\")"
   ]
  },
  {
   "cell_type": "markdown",
   "metadata": {
    "nbpresent": {
     "id": "f2f733dc-95c8-4751-a337-7bba7fcbe4d7"
    },
    "slideshow": {
     "slide_type": "slide"
    }
   },
   "source": [
    "# Working with PIFs\n",
    "\n",
    "Writing analysis and post-processing on top of PIFs lets us:\n",
    " 1. Pull in data from collaborators and published sources\n",
    " 1. Share our methodology with other researchers with data in PIFs"
   ]
  },
  {
   "cell_type": "markdown",
   "metadata": {
    "slideshow": {
     "slide_type": "slide"
    }
   },
   "source": [
    "## What is a PIF?\n",
    "\n",
    "The Physical Information File (PIF) is a __general__, __flexible__, and __hierachical__ schema for representing infomation about physical devices and materials. This enables the PIF to store a wide range of information on many kinds of physical systems, but requires more careful thought on where to store information within the schema.\n",
    "\n",
    "More on this later..."
   ]
  },
  {
   "cell_type": "markdown",
   "metadata": {
    "slideshow": {
     "slide_type": "slide"
    }
   },
   "source": [
    "## `pypif` package\n",
    "\n",
    "The `pypif` package provides two APIs:\n",
    " 1. Low level read/write API\n",
    " 1. High[er] leve read-only API"
   ]
  },
  {
   "cell_type": "markdown",
   "metadata": {
    "nbpresent": {
     "id": "c41a4f53-9a6a-435e-b554-90780aa20fcd"
    },
    "slideshow": {
     "slide_type": "subslide"
    }
   },
   "source": [
    "### Low level API\n",
    "\n",
    "The low level API closely mirrors the PIF schema definition"
   ]
  },
  {
   "cell_type": "code",
   "execution_count": 2,
   "metadata": {
    "nbpresent": {
     "id": "45a1cd9a-989f-44e6-8753-79a4abcfbe28"
    },
    "slideshow": {
     "slide_type": "fragment"
    }
   },
   "outputs": [
    {
     "name": "stdout",
     "output_type": "stream",
     "text": [
      "The total energy is -14.952228\n"
     ]
    }
   ],
   "source": [
    "print(\"The total energy is {}\".format(\n",
    "        next(x for x in pif.properties if x.name == \"Total Energy\")\n",
    "        .scalars[0].value\n",
    "     ))"
   ]
  },
  {
   "cell_type": "markdown",
   "metadata": {
    "nbpresent": {
     "id": "261197d6-24ad-4083-8df9-33ba39ff56b7"
    },
    "slideshow": {
     "slide_type": "fragment"
    }
   },
   "source": [
    "Note that the `name` is a field in a properties object, so we are searching for the first property with the `name` \"Total Energy\"."
   ]
  },
  {
   "cell_type": "markdown",
   "metadata": {
    "nbpresent": {
     "id": "541a3e94-b942-48a9-9ec7-64f58c7b5eb2"
    },
    "slideshow": {
     "slide_type": "subslide"
    }
   },
   "source": [
    "### High[er] level API: ReadView\n",
    "\n",
    "It might be more natural to index the property by its name.  We provide a `ReadView` that wraps the PIF and provides such an index:"
   ]
  },
  {
   "cell_type": "code",
   "execution_count": 3,
   "metadata": {},
   "outputs": [
    {
     "name": "stdout",
     "output_type": "stream",
     "text": [
      "['k-Points per Reciprocal Atom', 'Cutoff Energy', 'Density Functional Theory', 'positions', 'Relaxed', 'Density', 'Pressure', 'Total Energy', 'Forces', 'XC Functional', 'Converged', 'VASP', 'Pseudopotentials', 'Positions']\n"
     ]
    }
   ],
   "source": [
    "from pypif_sdk.readview import ReadView\n",
    "rv = ReadView(pif)\n",
    "\n",
    "print(rv.keys())"
   ]
  },
  {
   "cell_type": "code",
   "execution_count": 4,
   "metadata": {
    "nbpresent": {
     "id": "1e988e62-3569-4e24-8d77-4b642d52aee2"
    },
    "slideshow": {
     "slide_type": "fragment"
    }
   },
   "outputs": [
    {
     "name": "stdout",
     "output_type": "stream",
     "text": [
      "The chemical formula for this pif is Al4\n"
     ]
    }
   ],
   "source": [
    "print(\"The chemical formula for this pif is {}\".format(\n",
    "        rv.chemical_formula))"
   ]
  },
  {
   "cell_type": "code",
   "execution_count": 5,
   "metadata": {},
   "outputs": [
    {
     "name": "stdout",
     "output_type": "stream",
     "text": [
      "The total energy is -14.952228\n"
     ]
    }
   ],
   "source": [
    "print(\"The total energy is {}\".format(\n",
    "        rv[\"Total Energy\"].scalars[0].value\n",
    "    ))"
   ]
  },
  {
   "cell_type": "markdown",
   "metadata": {
    "nbpresent": {
     "id": "2fa01a20-bcb5-483a-b120-eaa228fc1278"
    },
    "slideshow": {
     "slide_type": "fragment"
    }
   },
   "source": [
    "The `scalars` member of the property contains the value of the property.  We also have access to metadata associated with that value, e.g. units:"
   ]
  },
  {
   "cell_type": "code",
   "execution_count": 6,
   "metadata": {
    "nbpresent": {
     "id": "1c4dbdb4-bb65-41d1-898f-9fdfe88703a1"
    },
    "slideshow": {
     "slide_type": "fragment"
    }
   },
   "outputs": [
    {
     "name": "stdout",
     "output_type": "stream",
     "text": [
      "The total energy is -14.952228 eV\n"
     ]
    }
   ],
   "source": [
    "print(\"The total energy is {} {}\".format(\n",
    "        rv[\"Total Energy\"].scalars[0].value,\n",
    "        rv[\"Total Energy\"].units)\n",
    "     )"
   ]
  },
  {
   "cell_type": "markdown",
   "metadata": {
    "slideshow": {
     "slide_type": "slide"
    }
   },
   "source": [
    "## Real example: phase stability diagram\n",
    "\n",
    "Let's make the `AlCu` phase diagram!  "
   ]
  },
  {
   "cell_type": "markdown",
   "metadata": {
    "slideshow": {
     "slide_type": "fragment"
    }
   },
   "source": [
    "First, define the enthalpy of formation under ideal conditions:"
   ]
  },
  {
   "cell_type": "code",
   "execution_count": 7,
   "metadata": {
    "collapsed": true,
    "slideshow": {
     "slide_type": "fragment"
    }
   },
   "outputs": [],
   "source": [
    "def enthalpy_of_formation(energy, n_Al, n_Cu, energy_Al, energy_Cu):\n",
    "    return (energy - n_Al * energy_Al - n_Cu * energy_Cu) / (n_Al + n_Cu)"
   ]
  },
  {
   "cell_type": "markdown",
   "metadata": {
    "slideshow": {
     "slide_type": "subslide"
    }
   },
   "source": [
    "Next, a little chemical formula parser:"
   ]
  },
  {
   "cell_type": "code",
   "execution_count": 8,
   "metadata": {
    "collapsed": true,
    "slideshow": {
     "slide_type": "fragment"
    }
   },
   "outputs": [],
   "source": [
    "import re\n",
    "def get_stoich(AlCu_formula):\n",
    "    m = re.match(r\"Al([0-9]*)Cu([0-9]*)\", AlCu_formula)\n",
    "    if m is None:\n",
    "        return (0, 0)\n",
    "    n_Al = float(m.group(1)) if len(m.group(1)) > 0 else 1\n",
    "    n_Cu = float(m.group(2)) if len(m.group(2)) > 0 else 1\n",
    "    return (n_Al, n_Cu)"
   ]
  },
  {
   "cell_type": "markdown",
   "metadata": {
    "slideshow": {
     "slide_type": "subslide"
    }
   },
   "source": [
    "Pull the values from some pifs:"
   ]
  },
  {
   "cell_type": "code",
   "execution_count": 9,
   "metadata": {
    "collapsed": true,
    "slideshow": {
     "slide_type": "fragment"
    }
   },
   "outputs": [],
   "source": [
    "import os\n",
    "Cu_pif = directory_to_pif(\"./example_data/Cu.cF4\")\n",
    "Al_pif = directory_to_pif(\"./example_data/Al.cF4\")\n",
    "AlCu_pifs = [directory_to_pif(os.path.join(\"./example_data/\", x)) \n",
    "             for x in os.listdir(\"./example_data/\") if \"Al\" in x]\n",
    "\n",
    "energy_Al = ReadView(Al_pif)[\"Total Energy\"].scalars[0].value / 4\n",
    "energy_Cu = ReadView(Cu_pif)[\"Total Energy\"].scalars[0].value\n",
    "\n",
    "points = [(0.0, 0.0), (1.0, 0.0)]\n",
    "for pif in AlCu_pifs:\n",
    "    rv = ReadView(pif)\n",
    "    energy = rv[\"Total Energy\"].scalars[0].value\n",
    "    n_Al, n_Cu = get_stoich(rv.chemical_formula)\n",
    "    if n_Al == 0 and n_Cu == 0: continue\n",
    "    points.append((\n",
    "            n_Cu / (n_Cu + n_Al),\n",
    "            enthalpy_of_formation(energy, n_Al, n_Cu, energy_Al, energy_Cu)\n",
    "        ))"
   ]
  },
  {
   "cell_type": "markdown",
   "metadata": {
    "slideshow": {
     "slide_type": "subslide"
    }
   },
   "source": [
    "Finally, plot:"
   ]
  },
  {
   "cell_type": "code",
   "execution_count": 10,
   "metadata": {
    "slideshow": {
     "slide_type": "fragment"
    }
   },
   "outputs": [
    {
     "data": {
      "text/plain": [
       "Text(0,0.5,u'$\\\\Delta H (eV/atom)$')"
      ]
     },
     "execution_count": 10,
     "metadata": {},
     "output_type": "execute_result"
    },
    {
     "data": {
      "image/png": "[encoded data removed]",
      "text/plain": [
       "<matplotlib.figure.Figure at 0x108237050>"
      ]
     },
     "metadata": {},
     "output_type": "display_data"
    }
   ],
   "source": [
    "%matplotlib inline\n",
    "import matplotlib.pyplot as plt\n",
    "plt.scatter(*zip(*points))\n",
    "plt.xlim(0, 1)\n",
    "plt.xlabel(\"Cu fraction\")\n",
    "plt.ylabel(\"$\\Delta H (eV/atom)$\")"
   ]
  },
  {
   "cell_type": "code",
   "execution_count": null,
   "metadata": {
    "collapsed": true
   },
   "outputs": [],
   "source": []
  }
 ],
 "metadata": {
  "anaconda-cloud": {},
  "celltoolbar": "Slideshow",
  "kernelspec": {
   "display_name": "Python 2",
   "language": "python",
   "name": "python2"
  },
  "language_info": {
   "codemirror_mode": {
    "name": "ipython",
    "version": 2
   },
   "file_extension": ".py",
   "mimetype": "text/x-python",
   "name": "python",
   "nbconvert_exporter": "python",
   "pygments_lexer": "ipython2",
   "version": "2.7.14"
  },
  "nbpresent": {
   "slides": {
    "5c8082ad-f7f3-497a-91a5-b82f1bfa6d0e": {
     "id": "5c8082ad-f7f3-497a-91a5-b82f1bfa6d0e",
     "layout": "grid",
     "prev": null,
     "regions": {
      "3fdabdaa-d1a7-4289-8161-39096a883c62": {
       "attrs": {
        "height": 1,
        "pad": 0.01,
        "treemap:weight": 1,
        "width": 1,
        "x": 0,
        "y": 0
       },
       "content": {
        "cell": "f2f733dc-95c8-4751-a337-7bba7fcbe4d7",
        "part": "whole"
       },
       "id": "3fdabdaa-d1a7-4289-8161-39096a883c62"
      }
     }
    },
    "8e99069f-4d09-4e7b-8dbb-b8cf82a67ae2": {
     "id": "8e99069f-4d09-4e7b-8dbb-b8cf82a67ae2",
     "prev": "5c8082ad-f7f3-497a-91a5-b82f1bfa6d0e",
     "regions": {
      "1dabf2fc-3b38-4a0d-a95c-c4574fd5354f": {
       "attrs": {
        "height": 0.6,
        "width": 0.8,
        "x": 0.1,
        "y": 0.1
       },
       "content": {
        "cell": "c41a4f53-9a6a-435e-b554-90780aa20fcd",
        "part": "whole"
       },
       "id": "1dabf2fc-3b38-4a0d-a95c-c4574fd5354f"
      },
      "ab4f31d7-8029-4c39-854f-edaad678b711": {
       "attrs": {
        "height": 0.2,
        "width": 0.4,
        "x": 0.5,
        "y": 0.7
       },
       "id": "ab4f31d7-8029-4c39-854f-edaad678b711"
      },
      "b3bd2bc4-2c69-4998-8fe0-a09a6c579492": {
       "attrs": {
        "height": 0.2,
        "width": 0.4,
        "x": 0.1,
        "y": 0.7
       },
       "id": "b3bd2bc4-2c69-4998-8fe0-a09a6c579492"
      }
     }
    }
   },
   "themes": {}
  }
 },
 "nbformat": 4,
 "nbformat_minor": 1
}
