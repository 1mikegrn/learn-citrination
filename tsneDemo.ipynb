{
 "cells": [
  {
   "cell_type": "markdown",
   "metadata": {},
   "source": [
    "# Citrination t-SNE API"
   ]
  },
  {
   "cell_type": "markdown",
   "metadata": {},
   "source": [
    "In this tutorial, we're going to learn to use Citrination to generate a useful data analysis called t-SNE. This data visualization technique enables you to represent a high dimensional set of data in fewer dimensions in a way that preserves the local structure of the data. In materials informatics, this allows you to create a two-dimensional plot of a set of materials where points corresponding to similar materials are grouped together in two-dimensional space. More information on t-SNE here: https://lvdmaaten.github.io/tsne/"
   ]
  },
  {
   "cell_type": "markdown",
   "metadata": {},
   "source": [
    "This tutorial will teach you to create and export a two-dimensional t-SNE plot for any data on Citrination. The first step is to create a data view on the Citrination: https://citrination.com/data_views. Instructions for creating a data view can be found in [this tutorial](https://github.com/CitrineInformatics/learn-citrination/blob/master/Journal%20Paper%20to%20Model%20Demo.ipynb).\n",
    "\n",
    "We'll be using this data view: https://citrination.com/data_views/9312 (view id 9312) for this tutorial, which includes a model predicting experimental band gaps based on data compiled by W.H. Strehlow and E.L. Cook, which can be viewed in [this dataset](https://citrination.com/datasets/1160/show_search)."
   ]
  },
  {
   "cell_type": "code",
   "execution_count": 15,
   "metadata": {},
   "outputs": [],
   "source": [
    "from citrination_client import CitrinationClient\n",
    "import matplotlib.pyplot as plt\n",
    "import os\n",
    "import numpy as np"
   ]
  },
  {
   "cell_type": "code",
   "execution_count": 18,
   "metadata": {},
   "outputs": [
    {
     "name": "stdout",
     "output_type": "stream",
     "text": [
      "[u'Property Color', u'Property Band gap']\n"
     ]
    }
   ],
   "source": [
    "client = CitrinationClient(site=\"https://citrination.com\", api_key=os.environ[\"CITRINATION_API_KEY\"])\n",
    "\n",
    "tsne_dataviewid = 9312\n",
    "tsne = client.models.tsne(tsne_dataviewid)\n",
    "print(tsne.projections())"
   ]
  },
  {
   "cell_type": "markdown",
   "metadata": {},
   "source": [
    "The `tsne` call returns a dictionary where the top level keys correspond to the properties that are being modeled. In this data view, the model inputs are Chemical formula and Crystallinity. Citrine represents a chemical formula by calculating over 50 material descriptors. The t-SNE plot reduces that into just 2 dimensions. Let's look at the t-SNE plot for Band gap."
   ]
  },
  {
   "cell_type": "code",
   "execution_count": 26,
   "metadata": {},
   "outputs": [
    {
     "name": "stdout",
     "output_type": "stream",
     "text": [
      "<citrination_client.models.projection.Projection object at 0x115a24b90>\n"
     ]
    }
   ],
   "source": [
    "print(tsne.get_projection(\"Property Band gap\"))"
   ]
  },
  {
   "cell_type": "markdown",
   "metadata": {},
   "source": [
    "- `x` is the x component of the t-SNE plot\n",
    "- `y` is the y component of the t-SNE plot\n",
    "- `z` is the property value (Band gap in this example)\n",
    "- `uid` is the uid of the record on Citrination. You can find the record by going to https://citrination.com/pif/{uid}\n",
    "- `label` is the list of the values of the model inputs for the record"
   ]
  },
  {
   "cell_type": "code",
   "execution_count": 28,
   "metadata": {},
   "outputs": [
    {
     "data": {
      "image/png": "[encoded data removed]",
      "text/plain": [
       "<Figure size 432x288 with 2 Axes>"
      ]
     },
     "metadata": {
      "needs_background": "light"
     },
     "output_type": "display_data"
    }
   ],
   "source": [
    "gap_projection = tsne.get_projection(\"Property Band gap\")\n",
    "plt.scatter(gap_projection.xs, gap_projection.ys, c=gap_projection.responses)\n",
    "plt.colorbar(label=\"Band gap (eV)\")\n",
    "plt.xlabel(\"t-SNE Component 1\")\n",
    "plt.ylabel(\"t-SNE Component 2\")\n",
    "plt.axes().set_aspect('equal', 'datalim')\n",
    "# plt.xlim(-2500,2500)\n",
    "# plt.ylim(-500,3500)\n",
    "plt.show()"
   ]
  },
  {
   "cell_type": "markdown",
   "metadata": {},
   "source": [
    "When interpreting a t-SNE plot, keep in mind that the t-SNE components plotted on the x and y axes have no physical meaning. Since the t-SNE algorithm preserves the local structure of the data, we look at points that end up close together. Just from looking at the plot, we can see that there is a cluster of high bandgap materials that contains the material with the maximum band gap in the bottom right corner. Let's take a look at what those materials are.\n",
    "\n",
    "\n",
    "(note: t-SNE is a non-deterministic algorithm, so the plot will change if the underlying Data View is retrained)"
   ]
  },
  {
   "cell_type": "code",
   "execution_count": 29,
   "metadata": {},
   "outputs": [],
   "source": [
    "# Load the coordinates and band gap values into a numpy array\n",
    "coordinates_and_bg = np.zeros((len(gap_projection.xs), 3))\n",
    "coordinates_and_bg[:,0] = gap_projection.xs\n",
    "coordinates_and_bg[:,1] = gap_projection.ys\n",
    "coordinates_and_bg[:,2] = gap_projection.responses"
   ]
  },
  {
   "cell_type": "code",
   "execution_count": 30,
   "metadata": {},
   "outputs": [],
   "source": [
    "# Find the n materials closest to the target material, as specified by index\n",
    "# based on cartesian distance in the t-SNE coordinates\n",
    "def find_most_similar_materials(index, coordinates, n_materials=10):\n",
    "    distances = np.linalg.norm(coordinates_and_bg[:,0:2] - coordinates_and_bg[index,0:2], axis=1)\n",
    "    return np.argsort(distances)[1:n_materials+1]"
   ]
  },
  {
   "cell_type": "markdown",
   "metadata": {},
   "source": [
    "From inspecting this cluster of materials, we can see that the t-SNE plot has grouped highly ionic materials together, and that these materials have very high band gaps."
   ]
  },
  {
   "cell_type": "code",
   "execution_count": 31,
   "metadata": {},
   "outputs": [
    {
     "name": "stdout",
     "output_type": "stream",
     "text": [
      "Maximum band gap material:\n",
      "InorganicChemicalFormula(BeO), 14.5, Yellow, Band gap: 14.5, URL: https://citrination.com/pif/1160/3/66756141934A40C0096E45068CE9B071\n",
      "Similar materials:\n",
      "InorganicChemicalFormula(B2O3), 7.0, Yellow, Band gap: 7.0, URL: https://citrination.com/pif/1160/3/D11A2A18CE39AFD74A4C0A88B31DBFED\n",
      "InorganicChemicalFormula(Fe2O3), 2.2, Yellow, Polycrystalline, Band gap: 2.2, URL: https://citrination.com/pif/1160/3/A9038921DAE2CF5DF9D2CD8522F46592\n",
      "InorganicChemicalFormula(MnO2), 0.7, Yellow, Single crystalline, Band gap: 0.7, URL: https://citrination.com/pif/1160/3/EBBC0499B85F6E1B140BF572E40F9DE4\n",
      "InorganicChemicalFormula(CrO2), 0.23, Yellow, Polycrystalline, Band gap: 0.23, URL: https://citrination.com/pif/1160/3/D45EB1BFD5F6EBEBD7E7D8BF3A43862C\n",
      "InorganicChemicalFormula(Al2O3), 9.5, Yellow, Single crystalline, Band gap: 9.5, URL: https://citrination.com/pif/1160/3/8C388FA1D3D3D6EEF7FF82EA0BADAE99\n",
      "InorganicChemicalFormula(NiO), 4.0, Yellow, Polycrystalline, Band gap: 4.0, URL: https://citrination.com/pif/1160/3/7638482E9EFB64AA4C1E4E22E9CF6987\n",
      "InorganicChemicalFormula(SiO2), 8.4, Gray, Single crystalline, Band gap: 8.4, URL: https://citrination.com/pif/1160/3/D8F93F005D1D1AC46E62541FE98C76A6\n",
      "InorganicChemicalFormula(CoO), 0.47, Yellow, Single crystalline, Band gap: 0.47, URL: https://citrination.com/pif/1160/3/662C89FD51A9DDF4C8A9AB65493E7F6F\n",
      "InorganicChemicalFormula(Cr2O3), 1.0, Yellow, Band gap: 1.0, URL: https://citrination.com/pif/1160/3/EBB6D46F39ACEA3D3B617FB2013FD5A9\n",
      "InorganicChemicalFormula(V2O5), 2.32, Yellow, Single crystalline, Band gap: 2.32, URL: https://citrination.com/pif/1160/3/BF5866C231D64A56C4FB4B2F8E68D028\n",
      "(-924704.217240591, 23622.133546033794, -317121135.44750684, 772010.7043945121)\n"
     ]
    },
    {
     "data": {
      "image/png": "[encoded data removed]",
      "text/plain": [
       "<Figure size 432x288 with 2 Axes>"
      ]
     },
     "metadata": {
      "needs_background": "light"
     },
     "output_type": "display_data"
    }
   ],
   "source": [
    "# Get the index of the maximum band gap material\n",
    "max_bg_index = np.argmax(coordinates_and_bg, axis=0)[2]\n",
    "print(\"Maximum band gap material:\")\n",
    "print(\"{}, Band gap: {}, URL: https://citrination.com/pif/{}\"\n",
    "      .format(gap_projection.tags[max_bg_index], \n",
    "              gap_projection.responses[max_bg_index],\n",
    "              gap_projection.uids[max_bg_index])\n",
    "     )\n",
    "print(\"Similar materials:\")\n",
    "for idx in find_most_similar_materials(max_bg_index, coordinates_and_bg[:,0:2]):\n",
    "    print(\"{}, Band gap: {}, URL: https://citrination.com/pif/{}\"\n",
    "          .format(gap_projection.tags[idx],\n",
    "                  gap_projection.responses[idx],\n",
    "                  gap_projection.uids[idx])\n",
    "         )\n",
    "\n",
    "plt.figure()\n",
    "plt.scatter(gap_projection.xs, gap_projection.ys, c=gap_projection.responses)\n",
    "plt.colorbar(label=\"Band gap (eV)\")\n",
    "plt.scatter(coordinates_and_bg[max_bg_index, 0], coordinates_and_bg[max_bg_index, 1],\n",
    "            marker=\"*\", c=\"r\", s=200)\n",
    "plt.xlabel(\"t-SNE Component 1\")\n",
    "plt.ylabel(\"t-SNE Component 2\")\n",
    "#plt.axes().set_aspect('equal', 'datalim')\n",
    "print(min(gap_projection.xs), max(gap_projection.xs), min(gap_projection.ys), max(gap_projection.ys))\n",
    "plt.xlim(-5000,55000)\n",
    "plt.ylim(-20000,6000)\n",
    "plt.show()"
   ]
  },
  {
   "cell_type": "markdown",
   "metadata": {},
   "source": [
    "Now let's figure out what material the outlier point with the largest y-value corresponds to"
   ]
  },
  {
   "cell_type": "code",
   "execution_count": 32,
   "metadata": {},
   "outputs": [
    {
     "name": "stdout",
     "output_type": "stream",
     "text": [
      "Outlier material (point with the highest y-value):\n",
      "InorganicChemicalFormula(BaSe), 3.58, White, Polycrystalline, Band gap: 3.58, URL: https://citrination.com/pif/1160/3/B1E0CC295EE1FEE501FC5B9BA3051C53\n",
      "(-924704.217240591, 23622.133546033794, -317121135.44750684, 772010.7043945121)\n"
     ]
    },
    {
     "data": {
      "image/png": "[encoded data removed]",
      "text/plain": [
       "<Figure size 432x288 with 2 Axes>"
      ]
     },
     "metadata": {
      "needs_background": "light"
     },
     "output_type": "display_data"
    }
   ],
   "source": [
    "outlier_index = np.argmax(coordinates_and_bg, axis=0)[1]\n",
    "print(\"Outlier material (point with the highest y-value):\")\n",
    "print(\"{}, Band gap: {}, URL: https://citrination.com/pif/{}\"\n",
    "      .format(gap_projection.tags[outlier_index],\n",
    "              gap_projection.responses[outlier_index],\n",
    "              gap_projection.uids[outlier_index])\n",
    "     )\n",
    "\n",
    "plt.figure()\n",
    "plt.scatter(gap_projection.xs, gap_projection.ys, c=gap_projection.responses)\n",
    "plt.colorbar(label=\"Band gap (eV)\")\n",
    "plt.scatter(coordinates_and_bg[outlier_index, 0], coordinates_and_bg[outlier_index, 1],\n",
    "            marker=\"*\", c=\"r\", s=200)\n",
    "plt.xlabel(\"t-SNE Component 1\")\n",
    "plt.ylabel(\"t-SNE Component 2\")\n",
    "print(min(gap_projection.xs), max(gap_projection.xs), min(gap_projection.ys), max(gap_projection.ys))\n",
    "plt.xlim(-5000,55000)\n",
    "plt.ylim(-20000,6000)\n",
    "plt.axes().set_aspect('equal', 'datalim')\n",
    "plt.show()"
   ]
  },
  {
   "cell_type": "markdown",
   "metadata": {},
   "source": [
    "We can also find materials that are similar to a given material in the dataset. Let's find materials similar to Cr3Se4 https://citrination.com/datasets/1160/version/3/pif/0478C7E0B7C4F75C6081EC5184522704. The uid comes in the format dataset_id/version/pif_id. For Cr3Se4, the uid is 1160/3/0478C7E0B7C4F75C6081EC5184522704."
   ]
  },
  {
   "cell_type": "code",
   "execution_count": 33,
   "metadata": {},
   "outputs": [
    {
     "name": "stdout",
     "output_type": "stream",
     "text": [
      "InorganicChemicalFormula(Cr3Se4), 0.015, Gray, Band gap: 0.015, URL: https://citrination.com/pif/1160/3/0478C7E0B7C4F75C6081EC5184522704\n",
      "Similar materials:\n",
      "InorganicChemicalFormula(Cr2Se3), 0.15, Gray, Band gap: 0.15, URL: https://citrination.com/pif/1160/3/B02503AE0620DB98FC19B2637224AAEC\n",
      "InorganicChemicalFormula(RuSe2), 1.0, Gray, Polycrystalline, Band gap: 1.0, URL: https://citrination.com/pif/1160/3/EB7F89526BB12CD5DB57956267A4B814\n",
      "InorganicChemicalFormula(RuAs2), 0.8, Red, Polycrystalline, Band gap: 0.8, URL: https://citrination.com/pif/1160/3/46E92B35E6EC9D655F4B9FAE2F5E8237\n",
      "InorganicChemicalFormula(RhSe2), 0.6, Yellow, Band gap: 0.6, URL: https://citrination.com/pif/1160/3/53AE437CD930A984FD4C45C29F2F1B5F\n",
      "InorganicChemicalFormula(RuTe2), 0.25, Red, Polycrystalline, Band gap: 0.25, URL: https://citrination.com/pif/1160/3/B6E2D7D2E2F0BFD3875E6C20CC9EA15C\n",
      "InorganicChemicalFormula(RhSe3), 0.7, Yellow, Band gap: 0.7, URL: https://citrination.com/pif/1160/3/30EEC951791B144F58B004220982F02B\n",
      "InorganicChemicalFormula(PtAs2), 0.55, Red, Single crystalline, Band gap: 0.55, URL: https://citrination.com/pif/1160/3/1AFD5F8525B3CFB2BC5AAFAEA52A5EAC\n",
      "InorganicChemicalFormula(CoAs2), 0.15, Red, Polycrystalline, Band gap: 0.15, URL: https://citrination.com/pif/1160/3/C950DFE4CDDA70287278741F249E5F9B\n",
      "InorganicChemicalFormula(NiTe), 0.23, Red, Band gap: 0.23, URL: https://citrination.com/pif/1160/3/0E5E5FD694DEA5CD0E8A97E22B3148DF\n",
      "InorganicChemicalFormula(FeSb2), 0.17, Red, Polycrystalline, Band gap: 0.17, URL: https://citrination.com/pif/1160/3/AF24EAF39F169A702D1D22E071330810\n"
     ]
    },
    {
     "data": {
      "image/png": "[encoded data removed]",
      "text/plain": [
       "<Figure size 432x288 with 2 Axes>"
      ]
     },
     "metadata": {
      "needs_background": "light"
     },
     "output_type": "display_data"
    }
   ],
   "source": [
    "uid = \"1160/3/0478C7E0B7C4F75C6081EC5184522704\"\n",
    "cr3se4_index = gap_projection.uids.index(uid)\n",
    "print(\"{}, Band gap: {}, URL: https://citrination.com/pif/{}\"\n",
    "      .format(gap_projection.tags[cr3se4_index],\n",
    "              gap_projection.responses[cr3se4_index],\n",
    "              gap_projection.uids[cr3se4_index])\n",
    "     )\n",
    "print(\"Similar materials:\")\n",
    "for idx in find_most_similar_materials(cr3se4_index, coordinates_and_bg[:,0:2]):\n",
    "    print(\"{}, Band gap: {}, URL: https://citrination.com/pif/{}\"\n",
    "          .format(gap_projection.tags[idx],\n",
    "                  gap_projection.responses[idx],\n",
    "                  gap_projection.uids[idx])\n",
    "         )\n",
    "plt.figure()\n",
    "plt.scatter(gap_projection.xs, gap_projection.ys, c=gap_projection.responses)\n",
    "plt.colorbar(label=\"Band gap (eV)\")\n",
    "plt.scatter(coordinates_and_bg[cr3se4_index, 0], coordinates_and_bg[cr3se4_index, 1],\n",
    "            marker=\"*\", c=\"r\", s=200)\n",
    "plt.xlabel(\"t-SNE Component 1\")\n",
    "plt.ylabel(\"t-SNE Component 2\")\n",
    "plt.axes().set_aspect('equal', 'datalim')\n",
    "plt.show()"
   ]
  },
  {
   "cell_type": "markdown",
   "metadata": {},
   "source": [
    "As we've seen here, t-SNE is a useful tool for understanding materials datasets and gaining new insights by visualizing and exploring a large, high-dimensional dataset in two dimensions. In this tutorial, we've seen how to examine outliers, find interesting clusters of similar materials, and find materials that are similar to a given material, which are only some of the cool things that you can do with t-SNE plots. The t-SNE analysis is available for all real-valued outputs specified in the Data Views creation process."
   ]
  }
 ],
 "metadata": {
  "kernelspec": {
   "display_name": "Python 2",
   "language": "python",
   "name": "python2"
  },
  "language_info": {
   "codemirror_mode": {
    "name": "ipython",
    "version": 2
   },
   "file_extension": ".py",
   "mimetype": "text/x-python",
   "name": "python",
   "nbconvert_exporter": "python",
   "pygments_lexer": "ipython2",
   "version": "2.7.15"
  }
 },
 "nbformat": 4,
 "nbformat_minor": 2
}
