{
 "cells": [
  {
   "cell_type": "code",
   "execution_count": 1,
   "metadata": {
    "collapsed": false,
    "slideshow": {
     "slide_type": "skip"
    }
   },
   "outputs": [],
   "source": [
    "from citrination_client import CitrinationClient\n",
    "from os import environ\n",
    "client = CitrinationClient(environ['CITRINATION_API_KEY'], 'https://stage.citrination.com')"
   ]
  },
  {
   "cell_type": "markdown",
   "metadata": {
    "nbpresent": {
     "id": "f2f733dc-95c8-4751-a337-7bba7fcbe4d7"
    },
    "slideshow": {
     "slide_type": "slide"
    }
   },
   "source": [
    "# Making Queries\n",
    "\n",
    "Queries allow you to search and download PIFs from Citrination.  By basing scripts on queries intead of local files, you can:\n",
    " 1. Share data with your group without running internal infrastructure or worrying about portability\n",
    " 1. Expand your queries to include data uploaded by other groups in your field\n",
    " 1. Publish post-processing scripts backed by Citrination data to improve reproducibility"
   ]
  },
  {
   "cell_type": "markdown",
   "metadata": {
    "slideshow": {
     "slide_type": "subslide"
    }
   },
   "source": [
    "## Query interfaces\n",
    "\n",
    "There are multiple interfaces to a unified backend based on elastic search:\n",
    " 1. The website\n",
    " 1. The python and java citrination clients \n",
    " 1. A REST API \n",
    " \n",
    "This tutorial will focus on the python citrination client"
   ]
  },
  {
   "cell_type": "markdown",
   "metadata": {
    "slideshow": {
     "slide_type": "slide"
    }
   },
   "source": [
    "## `PifQuery`\n",
    "\n",
    "Each search and download request is stored in a query object: the `PifQuery`."
   ]
  },
  {
   "cell_type": "code",
   "execution_count": 5,
   "metadata": {
    "collapsed": false,
    "slideshow": {
     "slide_type": "fragment"
    }
   },
   "outputs": [
    {
     "name": "stdout",
     "output_type": "stream",
     "text": [
      "Found 2 PIFs in dataset 758\n"
     ]
    }
   ],
   "source": [
    "from citrination_client import PifQuery\n",
    "dataset_id = 758\n",
    "query_dataset = PifQuery(include_datasets=[dataset_id])\n",
    "query_result = client.search(query_dataset)\n",
    "print(\"Found {} PIFs in dataset {}\".format(query_result.total_num_hits, dataset_id))"
   ]
  },
  {
   "cell_type": "markdown",
   "metadata": {
    "slideshow": {
     "slide_type": "subslide"
    }
   },
   "source": [
    "The result contains the matching PIFs:"
   ]
  },
  {
   "cell_type": "code",
   "execution_count": 8,
   "metadata": {
    "collapsed": false,
    "slideshow": {
     "slide_type": "fragment"
    }
   },
   "outputs": [
    {
     "name": "stdout",
     "output_type": "stream",
     "text": [
      "{\n",
      "  \"tags\": [\n",
      "    \"my_first_upload\"\n",
      "  ],\n",
      "  \"uid\": \"238A9A1EE5C15D2ED905A06EA22B3B18\",\n",
      "  \"chemicalFormula\": \"B12\",\n",
      "  \"properties\": [\n",
      "    {\n",
      "      \"conditions\": [\n",
      "        {\n",
      "          \"name\": \"Cutoff Energy\",\n",
      "          \"scalars\": [\n",
      "            {\n",
      "              \"value\": \"318.6\"\n",
      "            }\n",
      "          ],\n",
      "\n"
     ]
    }
   ],
   "source": [
    "from pypif.pif import dumps\n",
    "pifs = [x.system for x in query_result.hits]\n",
    "print(dumps(pifs[0], indent=2)[:300])"
   ]
  }
 ],
 "metadata": {
  "anaconda-cloud": {},
  "celltoolbar": "Slideshow",
  "kernelspec": {
   "display_name": "Python 3",
   "language": "python",
   "name": "python3"
  },
  "language_info": {
   "codemirror_mode": {
    "name": "ipython",
    "version": 3
   },
   "file_extension": ".py",
   "mimetype": "text/x-python",
   "name": "python",
   "nbconvert_exporter": "python",
   "pygments_lexer": "ipython3",
   "version": "3.5.2"
  },
  "nbpresent": {
   "slides": {
    "5c8082ad-f7f3-497a-91a5-b82f1bfa6d0e": {
     "id": "5c8082ad-f7f3-497a-91a5-b82f1bfa6d0e",
     "layout": "grid",
     "prev": null,
     "regions": {
      "3fdabdaa-d1a7-4289-8161-39096a883c62": {
       "attrs": {
        "height": 1,
        "pad": 0.01,
        "treemap:weight": 1,
        "width": 1,
        "x": 0,
        "y": 0
       },
       "content": {
        "cell": "f2f733dc-95c8-4751-a337-7bba7fcbe4d7",
        "part": "whole"
       },
       "id": "3fdabdaa-d1a7-4289-8161-39096a883c62"
      }
     }
    },
    "8e99069f-4d09-4e7b-8dbb-b8cf82a67ae2": {
     "id": "8e99069f-4d09-4e7b-8dbb-b8cf82a67ae2",
     "prev": "5c8082ad-f7f3-497a-91a5-b82f1bfa6d0e",
     "regions": {
      "1dabf2fc-3b38-4a0d-a95c-c4574fd5354f": {
       "attrs": {
        "height": 0.6,
        "width": 0.8,
        "x": 0.1,
        "y": 0.1
       },
       "content": {
        "cell": "c41a4f53-9a6a-435e-b554-90780aa20fcd",
        "part": "whole"
       },
       "id": "1dabf2fc-3b38-4a0d-a95c-c4574fd5354f"
      },
      "ab4f31d7-8029-4c39-854f-edaad678b711": {
       "attrs": {
        "height": 0.2,
        "width": 0.4,
        "x": 0.5,
        "y": 0.7
       },
       "id": "ab4f31d7-8029-4c39-854f-edaad678b711"
      },
      "b3bd2bc4-2c69-4998-8fe0-a09a6c579492": {
       "attrs": {
        "height": 0.2,
        "width": 0.4,
        "x": 0.1,
        "y": 0.7
       },
       "id": "b3bd2bc4-2c69-4998-8fe0-a09a6c579492"
      }
     }
    }
   },
   "themes": {}
  }
 },
 "nbformat": 4,
 "nbformat_minor": 1
}
