{
 "cells": [
  {
   "cell_type": "code",
   "execution_count": 1,
   "metadata": {
    "collapsed": true,
    "slideshow": {
     "slide_type": "skip"
    }
   },
   "outputs": [],
   "source": [
    "from citrination_client import CitrinationClient\n",
    "from os import environ\n",
    "from citrination_client import PifQuery\n",
    "client = CitrinationClient(environ['CITRINATION_API_KEY'], 'https://citrination.com')"
   ]
  },
  {
   "cell_type": "code",
   "execution_count": 2,
   "metadata": {
    "collapsed": false,
    "slideshow": {
     "slide_type": "skip"
    }
   },
   "outputs": [],
   "source": [
    "import os\n",
    "from dfttopif import directory_to_pif\n",
    "Cu_pif = directory_to_pif(\"./example_data/Cu.cF4\")\n",
    "Al_pif = directory_to_pif(\"./example_data/Al.cF4\")\n",
    "AlCu_pifs = [directory_to_pif(os.path.join(\"./example_data/\", x))\n",
    "             for x in os.listdir(\"./example_data/\") if \"Al\" in x]"
   ]
  },
  {
   "cell_type": "code",
   "execution_count": 3,
   "metadata": {
    "collapsed": false,
    "slideshow": {
     "slide_type": "skip"
    }
   },
   "outputs": [],
   "source": [
    "def enthalpy_of_formation(energy, n_Al, n_Cu, energy_Al, energy_Cu):\n",
    "    return (energy - n_Al * energy_Al - n_Cu * energy_Cu) / (n_Al + n_Cu)"
   ]
  },
  {
   "cell_type": "code",
   "execution_count": 4,
   "metadata": {
    "collapsed": true,
    "slideshow": {
     "slide_type": "skip"
    }
   },
   "outputs": [],
   "source": [
    "import re\n",
    "def get_stoich(AlCu_formula):\n",
    "    m = re.match(r\"Al([0-9]*)Cu([0-9]*)\", AlCu_formula)\n",
    "    if m is not None:\n",
    "        n_Al = float(m.group(1)) if len(m.group(1)) > 0 else 1\n",
    "        n_Cu = float(m.group(2)) if len(m.group(2)) > 0 else 1\n",
    "        return (n_Al, n_Cu)\n",
    "    m = re.match(r\"Cu([0-9]*)Al([0-9]*)\", AlCu_formula)\n",
    "    if m is not None:\n",
    "        n_Cu = float(m.group(1)) if len(m.group(1)) > 0 else 1\n",
    "        n_Al = float(m.group(2)) if len(m.group(2)) > 0 else 1\n",
    "        return (n_Al, n_Cu)\n",
    "    return (0, 0)"
   ]
  },
  {
   "cell_type": "code",
   "execution_count": 5,
   "metadata": {
    "collapsed": false,
    "slideshow": {
     "slide_type": "skip"
    }
   },
   "outputs": [],
   "source": [
    "from pypif.util.read_view import ReadView\n",
    "energy_Al = ReadView(Al_pif)[\"Total Energy\"].scalars[0].value / 4\n",
    "energy_Cu = ReadView(Cu_pif)[\"Total Energy\"].scalars[0].value\n",
    "\n",
    "points = [(0.0, 0.0), (1.0, 0.0)]\n",
    "for pif in AlCu_pifs:\n",
    "    rv = ReadView(pif)\n",
    "    energy = rv[\"Total Energy\"].scalars[0].value\n",
    "    n_Al, n_Cu = get_stoich(rv.chemical_formula)\n",
    "    if n_Al == 0 and n_Cu == 0: continue\n",
    "    points.append((\n",
    "            n_Cu / (n_Cu + n_Al),\n",
    "            enthalpy_of_formation(energy, n_Al, n_Cu, energy_Al, energy_Cu)\n",
    "        ))"
   ]
  },
  {
   "cell_type": "markdown",
   "metadata": {
    "slideshow": {
     "slide_type": "slide"
    }
   },
   "source": [
    "# Introduction to Queries\n",
    "\n",
    "Queries allow you to search and download PIFs from Citrination.  By basing scripts on queries intead of local files, you can:\n",
    " 1. Share data with your group without running internal infrastructure or worrying about portability\n",
    " 1. Expand your queries to include data uploaded by other groups in your field\n",
    " 1. Publish post-processing scripts backed by Citrination data to improve reproducibility"
   ]
  },
  {
   "cell_type": "markdown",
   "metadata": {
    "slideshow": {
     "slide_type": "subslide"
    }
   },
   "source": [
    "## Query interfaces\n",
    "\n",
    "There are multiple interfaces to a unified backend based on elastic search:\n",
    " 1. The website\n",
    " 1. The python and java citrination clients \n",
    " 1. A REST API \n",
    " \n",
    "This tutorial will focus on the python citrination client"
   ]
  },
  {
   "cell_type": "markdown",
   "metadata": {
    "slideshow": {
     "slide_type": "slide"
    }
   },
   "source": [
    "## `PifQuery`\n",
    "\n",
    "Each search and download request is stored in a query object: the `PifQuery`."
   ]
  },
  {
   "cell_type": "code",
   "execution_count": 6,
   "metadata": {
    "collapsed": false,
    "slideshow": {
     "slide_type": "fragment"
    }
   },
   "outputs": [
    {
     "name": "stdout",
     "output_type": "stream",
     "text": [
      "Found 1 PIFs in dataset 150689\n"
     ]
    }
   ],
   "source": [
    "from citrination_client import PifQuery\n",
    "dataset_id = 150689\n",
    "query_dataset = PifQuery(include_datasets=[dataset_id])\n",
    "query_result = client.search(query_dataset)\n",
    "print(\"Found {} PIFs in dataset {}\".format(query_result.total_num_hits, dataset_id))"
   ]
  },
  {
   "cell_type": "markdown",
   "metadata": {
    "slideshow": {
     "slide_type": "subslide"
    }
   },
   "source": [
    "The result contains the matching PIFs:"
   ]
  },
  {
   "cell_type": "code",
   "execution_count": 7,
   "metadata": {
    "collapsed": false,
    "slideshow": {
     "slide_type": "fragment"
    }
   },
   "outputs": [
    {
     "name": "stdout",
     "output_type": "stream",
     "text": [
      "{\n",
      "  \"tags\": [\n",
      "    \"my_first_upload\"\n",
      "  ],\n",
      "  \"category\": \"system.chemical\",\n",
      "  \"uid\": \"D2F06E04ADCF174E04120695065F704A\",\n",
      "  \"chemicalFormula\": \"Al4\",\n",
      "  \"properties\": [\n",
      "    {\n",
      "      \"name\": \"Total Energy\",\n",
      "      \"units\": \"eV\",\n",
      "      \"method\": {\n",
      "        \"name\": \"Density Functional Theory\",\n",
      "        \"softwa\n"
     ]
    }
   ],
   "source": [
    "from pypif.pif import dumps\n",
    "pifs = [x.system for x in query_result.hits]\n",
    "print(dumps(pifs[0], indent=2)[:300])"
   ]
  },
  {
   "cell_type": "markdown",
   "metadata": {
    "slideshow": {
     "slide_type": "subslide"
    }
   },
   "source": [
    "The query can include multiple datasets to bring in data from collaborators:"
   ]
  },
  {
   "cell_type": "code",
   "execution_count": 8,
   "metadata": {
    "collapsed": false,
    "slideshow": {
     "slide_type": "fragment"
    }
   },
   "outputs": [
    {
     "name": "stdout",
     "output_type": "stream",
     "text": [
      "Found 1 PIFs in datasets 758 and 150689\n"
     ]
    }
   ],
   "source": [
    "my_dataset_id = 758; another_dataset_id = 150689\n",
    "query_dataset = PifQuery(include_datasets=[my_dataset_id, another_dataset_id])\n",
    "query_result = client.search(query_dataset)\n",
    "print(\"Found {} PIFs in datasets {} and {}\".format(\n",
    "        query_result.total_num_hits, my_dataset_id, another_dataset_id\n",
    "    ))"
   ]
  },
  {
   "cell_type": "markdown",
   "metadata": {
    "nbpresent": {
     "id": "f2f733dc-95c8-4751-a337-7bba7fcbe4d7"
    },
    "slideshow": {
     "slide_type": "slide"
    }
   },
   "source": [
    "# Advanced Queries\n",
    "\n",
    "Writing analysis and post-processing on top of PIFs lets us:\n",
    " 1. Pull in data from collaborators and published sources\n",
    " 1. Share our methodology with other researchers with data in PIFs"
   ]
  },
  {
   "cell_type": "markdown",
   "metadata": {
    "slideshow": {
     "slide_type": "fragment"
    }
   },
   "source": [
    "Let's actually do that!"
   ]
  },
  {
   "cell_type": "markdown",
   "metadata": {
    "slideshow": {
     "slide_type": "subslide"
    }
   },
   "source": [
    "## Real example: phase stability diagram\n",
    "\n",
    "There are surely more Al-Cu binaries on Citrination.  We will:\n",
    " 1. Find relevant data via the web interface\n",
    " 2. Filter the data programatically with the query\n",
    " 3. Extract the data using query extractions\n",
    " 4. Add the data to our plot from before"
   ]
  },
  {
   "cell_type": "markdown",
   "metadata": {
    "nbpresent": {
     "id": "c41a4f53-9a6a-435e-b554-90780aa20fcd"
    },
    "slideshow": {
     "slide_type": "subslide"
    }
   },
   "source": [
    "## Search for relevant data\n",
    "\n",
    "The exploratory search is usually best done on the website.  Tips and tricks:\n",
    " * \"AlxCuy\" searches for any Al-Cu binary\n",
    " * \"energy\" searches for properties with \"energy\" in their name"
   ]
  },
  {
   "cell_type": "markdown",
   "metadata": {
    "slideshow": {
     "slide_type": "subslide"
    }
   },
   "source": [
    "## Adding filters to the query\n",
    "\n",
    "Now that we are querying beyond just our data, we need to filter down to records that contain Al-Cu energies."
   ]
  },
  {
   "cell_type": "markdown",
   "metadata": {
    "slideshow": {
     "slide_type": "subslide"
    }
   },
   "source": [
    "### Filter by chemical formula"
   ]
  },
  {
   "cell_type": "code",
   "execution_count": 9,
   "metadata": {
    "collapsed": false,
    "slideshow": {
     "slide_type": "fragment"
    }
   },
   "outputs": [
    {
     "name": "stdout",
     "output_type": "stream",
     "text": [
      "Found 81 PIFs\n"
     ]
    }
   ],
   "source": [
    "from citrination_client import PifQuery, SystemQuery, ChemicalFieldOperation, ChemicalFilter\n",
    "query = PifQuery(system=SystemQuery(chemical_formula=ChemicalFieldOperation(filter=ChemicalFilter(equal='AlxCuy'))))\n",
    "query_result = client.search(query)\n",
    "print(\"Found {} PIFs\".format(query_result.total_num_hits))"
   ]
  },
  {
   "cell_type": "markdown",
   "metadata": {
    "slideshow": {
     "slide_type": "subslide"
    }
   },
   "source": [
    "### Filter by property"
   ]
  },
  {
   "cell_type": "code",
   "execution_count": 10,
   "metadata": {
    "collapsed": false,
    "slideshow": {
     "slide_type": "fragment"
    }
   },
   "outputs": [
    {
     "name": "stdout",
     "output_type": "stream",
     "text": [
      "Found 8 PIFs\n"
     ]
    }
   ],
   "source": [
    "from citrination_client import PropertyQuery, FieldOperation, Filter\n",
    "query = PifQuery(system=SystemQuery(\n",
    "        chemical_formula=ChemicalFieldOperation(filter=ChemicalFilter(equal='AlxCuy')),\n",
    "        properties=PropertyQuery(name=FieldOperation(filter=Filter(equal=\"Formation energy\")))\n",
    "    ))\n",
    "query_result = client.search(query)\n",
    "print(\"Found {} PIFs\".format(query_result.total_num_hits))"
   ]
  },
  {
   "cell_type": "code",
   "execution_count": 11,
   "metadata": {
    "collapsed": false,
    "nbpresent": {
     "id": "45a1cd9a-989f-44e6-8753-79a4abcfbe28"
    },
    "slideshow": {
     "slide_type": "skip"
    }
   },
   "outputs": [
    {
     "name": "stdout",
     "output_type": "stream",
     "text": [
      "{\n",
      "  \"category\": \"system.chemical\",\n",
      "  \"references\": [\n",
      "    {\n",
      "      \"citation\": \"10.1016/j.commatsci.2012.02.002\",\n",
      "      \"doi\": \"10.1016/j.commatsci.2012.02.002\"\n",
      "    },\n",
      "    {\n",
      "      \"citation\": \"10.1016/j.commatsci.2012.02.005\",\n",
      "      \"doi\": \"10.1016/j.commatsci.2012.02.005\"\n",
      "    }\n",
      "  ],\n",
      "  \"uid\": \"45EE4836D26FB942587B4CD8CE4A9C20\",\n",
      "  \"chemicalFormula\": \"Cu5Al\",\n",
      "  \"properties\": [\n",
      "    {\n",
      "      \"name\": \"Structure designation\",\n",
      "      \"scalars\": [\n",
      "        {\n",
      "          \"value\": \"Hf[5]Sc*-h51\"\n",
      "        }\n",
      "      ]\n",
      "    },\n",
      "    {\n",
      "      \"name\": \"Formation energy\",\n",
      "      \"units\": \"eV/atom\",\n",
      "      \"scalars\": [\n",
      "        {\n",
      "          \"value\": \"-0.1288\"\n",
      "        }\n",
      "      ],\n",
      "      \"dataType\": \"COMPUTATIONAL\"\n",
      "    }\n",
      "  ]\n",
      "}\n"
     ]
    }
   ],
   "source": [
    "from pypif.pif import dumps\n",
    "print(dumps(query_result.hits[1].system, indent=2))"
   ]
  },
  {
   "cell_type": "markdown",
   "metadata": {
    "slideshow": {
     "slide_type": "slide"
    }
   },
   "source": [
    "## Extract data from results using the query language\n",
    "\n",
    "Multiple sources typically use multiple internal formats.  The query language is smart about crawling the PIFs for properties with the right names, while `pypif` is not.  Fortunately, you can use the query language to do data extraction as well!"
   ]
  },
  {
   "cell_type": "markdown",
   "metadata": {
    "nbpresent": {
     "id": "261197d6-24ad-4083-8df9-33ba39ff56b7"
    },
    "slideshow": {
     "slide_type": "subslide"
    }
   },
   "source": [
    "### Using `extract_as`"
   ]
  },
  {
   "cell_type": "code",
   "execution_count": 12,
   "metadata": {
    "collapsed": false,
    "slideshow": {
     "slide_type": "fragment"
    }
   },
   "outputs": [
    {
     "name": "stdout",
     "output_type": "stream",
     "text": [
      "[{'formula': 'CuAl', 'formation_enthalpy': '-0.1978'}, {'formula': 'Cu5Al', 'formation_enthalpy': '-0.1288'}]\n"
     ]
    }
   ],
   "source": [
    "query = PifQuery(system=SystemQuery(\n",
    "        chemical_formula=ChemicalFieldOperation(\n",
    "            filter=ChemicalFilter(equal='AlxCuy'),\n",
    "            extract_as=\"formula\"\n",
    "        ),\n",
    "        properties=PropertyQuery(\n",
    "            name=FieldOperation(\n",
    "                filter=[Filter(equal=\"Formation energy\"), Filter(equal=\"Enthalpy of Formation\")]\n",
    "            ),\n",
    "            value=FieldOperation(\n",
    "                extract_as=\"formation_enthalpy\"\n",
    "            )\n",
    "        )\n",
    "    ))\n",
    "query_result = client.search(query)\n",
    "print([x.extracted for x in query_result.hits[0:2]])"
   ]
  },
  {
   "cell_type": "markdown",
   "metadata": {
    "slideshow": {
     "slide_type": "subslide"
    }
   },
   "source": [
    "A few notes:\n",
    " * `extract_as` extracts the field it is on (why we need value)\n",
    " * `extracted` is a dictionary from String keys to values; no units or uncertainty"
   ]
  },
  {
   "cell_type": "markdown",
   "metadata": {
    "slideshow": {
     "slide_type": "slide"
    }
   },
   "source": [
    "## Real example: phase stability diagram\n",
    "\n",
    "Let's add these points to our Al-Cu phase diagram."
   ]
  },
  {
   "cell_type": "code",
   "execution_count": 13,
   "metadata": {
    "collapsed": false,
    "slideshow": {
     "slide_type": "fragment"
    }
   },
   "outputs": [],
   "source": [
    "new_points = []\n",
    "for hit in query_result.hits:\n",
    "    n_Al, n_Cu = get_stoich(hit.extracted[\"formula\"])\n",
    "    new_points.append((\n",
    "            n_Cu / (n_Cu + n_Al),\n",
    "            hit.extracted[\"formation_enthalpy\"]\n",
    "        ))"
   ]
  },
  {
   "cell_type": "code",
   "execution_count": 14,
   "metadata": {
    "collapsed": false,
    "slideshow": {
     "slide_type": "subslide"
    }
   },
   "outputs": [
    {
     "data": {
      "text/plain": [
       "<matplotlib.text.Text at 0x7f455c904978>"
      ]
     },
     "execution_count": 14,
     "metadata": {},
     "output_type": "execute_result"
    },
    {
     "data": {
      "image/png": "[encoded data removed]",
      "text/plain": [
       "<matplotlib.figure.Figure at 0x7f455cb73cc0>"
      ]
     },
     "metadata": {},
     "output_type": "display_data"
    }
   ],
   "source": [
    "%matplotlib inline\n",
    "import matplotlib.pyplot as plt\n",
    "plt.scatter(*zip(*points), color='blue', marker='o', label='alloyDB')\n",
    "plt.scatter(*zip(*new_points), color='red', marker='x', label='citrination')\n",
    "plt.legend()\n",
    "plt.xlim(0, 1)\n",
    "plt.xlabel(\"Cu fraction\")\n",
    "plt.ylabel(\"$\\Delta H (eV/atom)$\")"
   ]
  },
  {
   "cell_type": "markdown",
   "metadata": {
    "slideshow": {
     "slide_type": "subslide"
    }
   },
   "source": [
    "### Filter by value\n",
    "\n",
    "A few of the values in are mislabeled: they are called \"Enthalpy of Formation\" but are actually total energies (per atom).  We can filter them out by recognizing that all the Al-Cu binaries have enthalpy of formation above $-1.0 eV / $atom."
   ]
  },
  {
   "cell_type": "code",
   "execution_count": 15,
   "metadata": {
    "collapsed": false,
    "slideshow": {
     "slide_type": "fragment"
    }
   },
   "outputs": [],
   "source": [
    "query = PifQuery(system=SystemQuery(\n",
    "        chemical_formula=ChemicalFieldOperation(\n",
    "            filter=ChemicalFilter(equal='AlxCuy'),\n",
    "            extract_as=\"formula\"\n",
    "        ),\n",
    "        properties=PropertyQuery(\n",
    "            name=FieldOperation(\n",
    "                filter=[Filter(equal=\"Formation energy\"), Filter(equal=\"Enthalpy of Formation\")]\n",
    "            ),\n",
    "            value=FieldOperation(\n",
    "                extract_as=\"formation_enthalpy\",\n",
    "                filter=[Filter(min=-1.0)]\n",
    "            )\n",
    "        )\n",
    "    ))\n",
    "query_result = client.search(query)"
   ]
  },
  {
   "cell_type": "code",
   "execution_count": 16,
   "metadata": {
    "collapsed": false,
    "slideshow": {
     "slide_type": "skip"
    }
   },
   "outputs": [],
   "source": [
    "new_points = []\n",
    "for hit in query_result.hits:\n",
    "    n_Al, n_Cu = get_stoich(hit.extracted[\"formula\"])\n",
    "    new_points.append((\n",
    "            n_Cu / (n_Cu + n_Al),\n",
    "            hit.extracted[\"formation_enthalpy\"]\n",
    "        ))"
   ]
  },
  {
   "cell_type": "markdown",
   "metadata": {
    "slideshow": {
     "slide_type": "subslide"
    }
   },
   "source": [
    "This looks much better:"
   ]
  },
  {
   "cell_type": "code",
   "execution_count": 17,
   "metadata": {
    "collapsed": false,
    "slideshow": {
     "slide_type": "fragment"
    }
   },
   "outputs": [
    {
     "data": {
      "text/plain": [
       "<matplotlib.text.Text at 0x7f45593106a0>"
      ]
     },
     "execution_count": 17,
     "metadata": {},
     "output_type": "execute_result"
    },
    {
     "data": {
      "image/png": "[encoded data removed]",
      "text/plain": [
       "<matplotlib.figure.Figure at 0x7f455fd57710>"
      ]
     },
     "metadata": {},
     "output_type": "display_data"
    }
   ],
   "source": [
    "%matplotlib inline\n",
    "import matplotlib.pyplot as plt\n",
    "plt.scatter(*zip(*points), color='blue', marker='o', label='alloyDB')\n",
    "plt.scatter(*zip(*new_points), color='red', marker='x', label='citrination (filtered)')\n",
    "plt.legend()\n",
    "plt.xlim(0, 1)\n",
    "plt.xlabel(\"Cu fraction\")\n",
    "plt.ylabel(\"$\\Delta H (eV/atom)$\")"
   ]
  }
 ],
 "metadata": {
  "anaconda-cloud": {},
  "celltoolbar": "Slideshow",
  "kernelspec": {
   "display_name": "Python [default]",
   "language": "python",
   "name": "python3"
  },
  "language_info": {
   "codemirror_mode": {
    "name": "ipython",
    "version": 3
   },
   "file_extension": ".py",
   "mimetype": "text/x-python",
   "name": "python",
   "nbconvert_exporter": "python",
   "pygments_lexer": "ipython3",
   "version": "3.5.2"
  },
  "nbpresent": {
   "slides": {
    "5c8082ad-f7f3-497a-91a5-b82f1bfa6d0e": {
     "id": "5c8082ad-f7f3-497a-91a5-b82f1bfa6d0e",
     "layout": "grid",
     "prev": null,
     "regions": {
      "3fdabdaa-d1a7-4289-8161-39096a883c62": {
       "attrs": {
        "height": 1,
        "pad": 0.01,
        "treemap:weight": 1,
        "width": 1,
        "x": 0,
        "y": 0
       },
       "content": {
        "cell": "f2f733dc-95c8-4751-a337-7bba7fcbe4d7",
        "part": "whole"
       },
       "id": "3fdabdaa-d1a7-4289-8161-39096a883c62"
      }
     }
    },
    "8e99069f-4d09-4e7b-8dbb-b8cf82a67ae2": {
     "id": "8e99069f-4d09-4e7b-8dbb-b8cf82a67ae2",
     "prev": "5c8082ad-f7f3-497a-91a5-b82f1bfa6d0e",
     "regions": {
      "1dabf2fc-3b38-4a0d-a95c-c4574fd5354f": {
       "attrs": {
        "height": 0.6,
        "width": 0.8,
        "x": 0.1,
        "y": 0.1
       },
       "content": {
        "cell": "c41a4f53-9a6a-435e-b554-90780aa20fcd",
        "part": "whole"
       },
       "id": "1dabf2fc-3b38-4a0d-a95c-c4574fd5354f"
      },
      "ab4f31d7-8029-4c39-854f-edaad678b711": {
       "attrs": {
        "height": 0.2,
        "width": 0.4,
        "x": 0.5,
        "y": 0.7
       },
       "id": "ab4f31d7-8029-4c39-854f-edaad678b711"
      },
      "b3bd2bc4-2c69-4998-8fe0-a09a6c579492": {
       "attrs": {
        "height": 0.2,
        "width": 0.4,
        "x": 0.1,
        "y": 0.7
       },
       "id": "b3bd2bc4-2c69-4998-8fe0-a09a6c579492"
      }
     }
    }
   },
   "themes": {}
  }
 },
 "nbformat": 4,
 "nbformat_minor": 1
}
